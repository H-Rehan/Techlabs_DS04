{
 "cells": [
  {
   "cell_type": "markdown",
   "id": "4e1e2fcc",
   "metadata": {
    "papermill": {
     "duration": 0.029083,
     "end_time": "2023-01-31T14:11:23.008968",
     "exception": false,
     "start_time": "2023-01-31T14:11:22.979885",
     "status": "completed"
    },
    "tags": []
   },
   "source": [
    "# 🏦 Loan Analysis Problem Statement\n",
    "\n",
    "# 📑 Introduction\n",
    "\n",
    "> `LendingClub` is a US peer-to-peer lending company, headquartered in San Francisco, California. It was the first peer-to-peer lender to register its offerings as securities with the Securities and Exchange Commission (SEC), and to offer loan trading on a secondary market. `LendingClub` is the world's largest peer-to-peer lending platform.\n",
    "\n",
    "> Solving this case study will give us an idea about how real business problems are solved using EDA and Machine Learning. In this case study, we will also develop a basic understanding of risk analytics in banking and financial services and understand how data is used to minimise the risk of losing money while lending to customers.\n",
    "\n",
    "# 📝 Business Understanding\n",
    "\n",
    "> You work for the `LendingClub` company which specialises in lending various types of loans to urban customers. When the company receives a loan application, the company has to make a decision for loan approval based on the applicant’s profile. Two types of risks are associated with the bank’s decision:\n",
    "\n",
    "> - If the applicant is likely to repay the loan, then not approving the loan results in a loss of business to the company\n",
    "> - If the applicant is not likely to repay the loan, i.e. he/she is likely to default, then approving the loan may lead to a financial loss for the company\n",
    "\n",
    "> The data given contains the information about past loan applicants and whether they ‘defaulted’ or not. The aim is to identify patterns which indicate if a person is likely to default, which may be used for takin actions such as denying the loan, reducing the amount of loan, lending (to risky applicants) at a higher interest rate, etc.\n",
    "\n",
    "> When a person applies for a loan, there are two types of decisions that could be taken by the company:\n",
    "> 1. `Loan accepted`: If the company approves the loan, there are 3 possible scenarios described below:\n",
    "    - `Fully paid`: Applicant has fully paid the loan (the principal and the interest rate)\n",
    "    - `Current`: Applicant is in the process of paying the instalments, i.e. the tenure of the loan is not yet completed. These candidates are not labelled as 'defaulted'.\n",
    "    - `Charged-off`: Applicant has not paid the instalments in due time for a long period of time, i.e. he/she has defaulted on the loan\n",
    "> 2. `Loan rejected`: The company had rejected the loan (because the candidate does not meet their requirements etc.). Since the loan was rejected, there is no transactional history of those applicants with the company and so this data is not available with the company (and thus in this dataset)\n",
    "\n",
    "# 🎯 Business Objectives\n",
    "> - `LendingClub` is the largest online loan marketplace, facilitating personal loans, business loans, and financing of medical procedures. Borrowers can easily access lower interest rate loans through a fast online interface. \n",
    "> - Like most other lending companies, lending loans to ‘`risky`’ applicants is the largest source of financial loss (called `credit loss`). The credit loss is the amount of money lost by the lender when the borrower refuses to pay or runs away with the money owed. In other words, borrowers who defaultcause the largest amount of loss to the lenders. In this case, the customers labelled as '`charged-off`' are the '`defaulters`'. \n",
    "> - If one is able to identify these risky loan applicants, then such loans can be reduced thereby cutting down the amount of credit loss. Identification of such applicants using EDA and machine learning is the aim of this case study. \n",
    "> - In other words, the company wants to understand the driving factors (or driver variables) behind loan default, i.e. the variables which are strong indicators of default. The company can utilise this knowledge for its portfolio and risk assessment. \n",
    "> - To develop your understanding of the domain, you are advised to independently research a little about risk analytics (understanding the types of variables and their significance should be enough).\n",
    "\n",
    "# 💾 Data Description\n",
    "\n",
    "----\n",
    "-----\n",
    "Here is the information on this particular data set:\n",
    "\n",
    "<table border=\"1\" class=\"dataframe\">\n",
    "  <thead>\n",
    "    <tr style=\"text-align: right;\">\n",
    "      <th></th>\n",
    "      <th>LoanStatNew</th>\n",
    "      <th>Description</th>\n",
    "    </tr>\n",
    "  </thead>\n",
    "  <tbody>\n",
    "    <tr>\n",
    "      <th>0</th>\n",
    "      <td>loan_amnt</td>\n",
    "      <td>The listed amount of the loan applied for by the borrower. If at some point in time, the credit department reduces the loan amount, then it will be reflected in this value.</td>\n",
    "    </tr>\n",
    "    <tr>\n",
    "      <th>1</th>\n",
    "      <td>term</td>\n",
    "      <td>The number of payments on the loan. Values are in months and can be either 36 or 60.</td>\n",
    "    </tr>\n",
    "    <tr>\n",
    "      <th>2</th>\n",
    "      <td>int_rate</td>\n",
    "      <td>Interest Rate on the loan</td>\n",
    "    </tr>\n",
    "    <tr>\n",
    "      <th>3</th>\n",
    "      <td>installment</td>\n",
    "      <td>The monthly payment owed by the borrower if the loan originates.</td>\n",
    "    </tr>\n",
    "    <tr>\n",
    "      <th>4</th>\n",
    "      <td>grade</td>\n",
    "      <td>LC assigned loan grade</td>\n",
    "    </tr>\n",
    "    <tr>\n",
    "      <th>5</th>\n",
    "      <td>sub_grade</td>\n",
    "      <td>LC assigned loan subgrade</td>\n",
    "    </tr>\n",
    "    <tr>\n",
    "      <th>6</th>\n",
    "      <td>emp_title</td>\n",
    "      <td>The job title supplied by the Borrower when applying for the loan.*</td>\n",
    "    </tr>\n",
    "    <tr>\n",
    "      <th>7</th>\n",
    "      <td>emp_length</td>\n",
    "      <td>Employment length in years. Possible values are between 0 and 10 where 0 means less than one year and 10 means ten or more years.</td>\n",
    "    </tr>\n",
    "    <tr>\n",
    "      <th>8</th>\n",
    "      <td>home_ownership</td>\n",
    "      <td>The home ownership status provided by the borrower during registration or obtained from the credit report. Our values are: RENT, OWN, MORTGAGE, OTHER</td>\n",
    "    </tr>\n",
    "    <tr>\n",
    "      <th>9</th>\n",
    "      <td>annual_inc</td>\n",
    "      <td>The self-reported annual income provided by the borrower during registration.</td>\n",
    "    </tr>\n",
    "    <tr>\n",
    "      <th>10</th>\n",
    "      <td>verification_status</td>\n",
    "      <td>Indicates if income was verified by LC, not verified, or if the income source was verified</td>\n",
    "    </tr>\n",
    "    <tr>\n",
    "      <th>11</th>\n",
    "      <td>issue_d</td>\n",
    "      <td>The month which the loan was funded</td>\n",
    "    </tr>\n",
    "    <tr>\n",
    "      <th>12</th>\n",
    "      <td>loan_status</td>\n",
    "      <td>Current status of the loan</td>\n",
    "    </tr>\n",
    "    <tr>\n",
    "      <th>13</th>\n",
    "      <td>purpose</td>\n",
    "      <td>A category provided by the borrower for the loan request.</td>\n",
    "    </tr>\n",
    "    <tr>\n",
    "      <th>14</th>\n",
    "      <td>title</td>\n",
    "      <td>The loan title provided by the borrower</td>\n",
    "    </tr>\n",
    "    <tr>\n",
    "      <th>15</th>\n",
    "      <td>zip_code</td>\n",
    "      <td>The first 3 numbers of the zip code provided by the borrower in the loan application.</td>\n",
    "    </tr>\n",
    "    <tr>\n",
    "      <th>16</th>\n",
    "      <td>addr_state</td>\n",
    "      <td>The state provided by the borrower in the loan application</td>\n",
    "    </tr>\n",
    "    <tr>\n",
    "      <th>17</th>\n",
    "      <td>dti</td>\n",
    "      <td>A ratio calculated using the borrower’s total monthly debt payments on the total debt obligations, excluding mortgage and the requested LC loan, divided by the borrower’s self-reported monthly income.</td>\n",
    "    </tr>\n",
    "    <tr>\n",
    "      <th>18</th>\n",
    "      <td>earliest_cr_line</td>\n",
    "      <td>The month the borrower's earliest reported credit line was opened</td>\n",
    "    </tr>\n",
    "    <tr>\n",
    "      <th>19</th>\n",
    "      <td>open_acc</td>\n",
    "      <td>The number of open credit lines in the borrower's credit file.</td>\n",
    "    </tr>\n",
    "    <tr>\n",
    "      <th>20</th>\n",
    "      <td>pub_rec</td>\n",
    "      <td>Number of derogatory public records</td>\n",
    "    </tr>\n",
    "    <tr>\n",
    "      <th>21</th>\n",
    "      <td>revol_bal</td>\n",
    "      <td>Total credit revolving balance</td>\n",
    "    </tr>\n",
    "    <tr>\n",
    "      <th>22</th>\n",
    "      <td>revol_util</td>\n",
    "      <td>Revolving line utilization rate, or the amount of credit the borrower is using relative to all available revolving credit.</td>\n",
    "    </tr>\n",
    "    <tr>\n",
    "      <th>23</th>\n",
    "      <td>total_acc</td>\n",
    "      <td>The total number of credit lines currently in the borrower's credit file</td>\n",
    "    </tr>\n",
    "    <tr>\n",
    "      <th>24</th>\n",
    "      <td>initial_list_status</td>\n",
    "      <td>The initial listing status of the loan. Possible values are – W, F</td>\n",
    "    </tr>\n",
    "    <tr>\n",
    "      <th>25</th>\n",
    "      <td>application_type</td>\n",
    "      <td>Indicates whether the loan is an individual application or a joint application with two co-borrowers</td>\n",
    "    </tr>\n",
    "    <tr>\n",
    "      <th>26</th>\n",
    "      <td>mort_acc</td>\n",
    "      <td>Number of mortgage accounts.</td>\n",
    "    </tr>\n",
    "    <tr>\n",
    "      <th>27</th>\n",
    "      <td>pub_rec_bankruptcies</td>\n",
    "      <td>Number of public record bankruptcies</td>\n",
    "    </tr>\n",
    "  </tbody>\n",
    "</table>\n",
    "\n",
    "---\n",
    "----"
   ]
  },
  {
   "cell_type": "code",
   "execution_count": 7,
   "id": "25ee1df2",
   "metadata": {
    "_kg_hide-input": true,
    "_kg_hide-output": true,
    "execution": {
     "iopub.execute_input": "2023-01-31T14:11:23.066230Z",
     "iopub.status.busy": "2023-01-31T14:11:23.065356Z",
     "iopub.status.idle": "2023-01-31T14:11:35.106519Z",
     "shell.execute_reply": "2023-01-31T14:11:35.105319Z"
    },
    "papermill": {
     "duration": 12.072611,
     "end_time": "2023-01-31T14:11:35.109296",
     "exception": false,
     "start_time": "2023-01-31T14:11:23.036685",
     "status": "completed"
    },
    "tags": []
   },
   "outputs": [
    {
     "name": "stderr",
     "output_type": "stream",
     "text": [
      "\n",
      "[notice] A new release of pip is available: 24.0 -> 24.2\n",
      "[notice] To update, run: python.exe -m pip install --upgrade pip\n"
     ]
    }
   ],
   "source": [
    "!pip install -q hvplot\n"
   ]
  },
  {
   "cell_type": "code",
   "execution_count": 8,
   "id": "9cb24c87",
   "metadata": {
    "_kg_hide-input": true,
    "execution": {
     "iopub.execute_input": "2023-01-31T14:11:35.164738Z",
     "iopub.status.busy": "2023-01-31T14:11:35.163899Z",
     "iopub.status.idle": "2023-01-31T14:11:44.332161Z",
     "shell.execute_reply": "2023-01-31T14:11:44.331116Z"
    },
    "papermill": {
     "duration": 9.198485,
     "end_time": "2023-01-31T14:11:44.334641",
     "exception": false,
     "start_time": "2023-01-31T14:11:35.136156",
     "status": "completed"
    },
    "tags": []
   },
   "outputs": [],
   "source": [
    "import pandas as pd\n",
    "import numpy as np\n",
    "import seaborn as sns\n",
    "from scipy import stats \n",
    "import matplotlib.pyplot as plt\n",
    "import hvplot.pandas\n",
    "\n",
    "from sklearn.model_selection import train_test_split, RandomizedSearchCV\n",
    "from sklearn.preprocessing import MinMaxScaler\n",
    "\n",
    "from sklearn.metrics import (\n",
    "    accuracy_score, confusion_matrix, classification_report, \n",
    "    roc_auc_score, roc_curve, auc,\n",
    "    ConfusionMatrixDisplay\n",
    ")\n",
    "from sklearn.metrics import ConfusionMatrixDisplay, RocCurveDisplay\n",
    "\n",
    "from xgboost import XGBClassifier\n",
    "from sklearn.ensemble import RandomForestClassifier\n",
    "\n",
    "import tensorflow as tf\n",
    "from tensorflow.keras.models import Sequential, Model\n",
    "from tensorflow.keras.layers import Dense, Dropout, BatchNormalization \n",
    "from tensorflow.keras.optimizers import Adam\n",
    "from tensorflow.keras.metrics import AUC\n",
    "\n",
    "pd.set_option('display.float', '{:.2f}'.format)\n",
    "pd.set_option('display.max_columns', 50)\n",
    "pd.set_option('display.max_rows', 50)"
   ]
  },
  {
   "cell_type": "code",
   "execution_count": 9,
   "id": "276d0ec7",
   "metadata": {
    "execution": {
     "iopub.execute_input": "2023-01-31T14:11:44.602805Z",
     "iopub.status.busy": "2023-01-31T14:11:44.602108Z",
     "iopub.status.idle": "2023-01-31T14:11:47.931616Z",
     "shell.execute_reply": "2023-01-31T14:11:47.930713Z"
    },
    "papermill": {
     "duration": 3.467387,
     "end_time": "2023-01-31T14:11:47.933929",
     "exception": false,
     "start_time": "2023-01-31T14:11:44.466542",
     "status": "completed"
    },
    "tags": []
   },
   "outputs": [
    {
     "data": {
      "text/html": [
       "<div>\n",
       "<style scoped>\n",
       "    .dataframe tbody tr th:only-of-type {\n",
       "        vertical-align: middle;\n",
       "    }\n",
       "\n",
       "    .dataframe tbody tr th {\n",
       "        vertical-align: top;\n",
       "    }\n",
       "\n",
       "    .dataframe thead th {\n",
       "        text-align: right;\n",
       "    }\n",
       "</style>\n",
       "<table border=\"1\" class=\"dataframe\">\n",
       "  <thead>\n",
       "    <tr style=\"text-align: right;\">\n",
       "      <th></th>\n",
       "      <th>loan_amnt</th>\n",
       "      <th>term</th>\n",
       "      <th>int_rate</th>\n",
       "      <th>installment</th>\n",
       "      <th>grade</th>\n",
       "      <th>sub_grade</th>\n",
       "      <th>emp_title</th>\n",
       "      <th>emp_length</th>\n",
       "      <th>home_ownership</th>\n",
       "      <th>annual_inc</th>\n",
       "      <th>verification_status</th>\n",
       "      <th>issue_d</th>\n",
       "      <th>loan_status</th>\n",
       "      <th>purpose</th>\n",
       "      <th>title</th>\n",
       "      <th>dti</th>\n",
       "      <th>earliest_cr_line</th>\n",
       "      <th>open_acc</th>\n",
       "      <th>pub_rec</th>\n",
       "      <th>revol_bal</th>\n",
       "      <th>revol_util</th>\n",
       "      <th>total_acc</th>\n",
       "      <th>initial_list_status</th>\n",
       "      <th>application_type</th>\n",
       "      <th>mort_acc</th>\n",
       "      <th>pub_rec_bankruptcies</th>\n",
       "      <th>address</th>\n",
       "    </tr>\n",
       "  </thead>\n",
       "  <tbody>\n",
       "    <tr>\n",
       "      <th>0</th>\n",
       "      <td>10000.00</td>\n",
       "      <td>36 months</td>\n",
       "      <td>11.44</td>\n",
       "      <td>329.48</td>\n",
       "      <td>B</td>\n",
       "      <td>B4</td>\n",
       "      <td>Marketing</td>\n",
       "      <td>10+ years</td>\n",
       "      <td>RENT</td>\n",
       "      <td>117000.00</td>\n",
       "      <td>Not Verified</td>\n",
       "      <td>Jan-2015</td>\n",
       "      <td>Fully Paid</td>\n",
       "      <td>vacation</td>\n",
       "      <td>Vacation</td>\n",
       "      <td>26.24</td>\n",
       "      <td>Jun-1990</td>\n",
       "      <td>16.00</td>\n",
       "      <td>0.00</td>\n",
       "      <td>36369.00</td>\n",
       "      <td>41.80</td>\n",
       "      <td>25.00</td>\n",
       "      <td>w</td>\n",
       "      <td>INDIVIDUAL</td>\n",
       "      <td>0.00</td>\n",
       "      <td>0.00</td>\n",
       "      <td>0174 Michelle Gateway\\r\\nMendozaberg, OK 22690</td>\n",
       "    </tr>\n",
       "    <tr>\n",
       "      <th>1</th>\n",
       "      <td>8000.00</td>\n",
       "      <td>36 months</td>\n",
       "      <td>11.99</td>\n",
       "      <td>265.68</td>\n",
       "      <td>B</td>\n",
       "      <td>B5</td>\n",
       "      <td>Credit analyst</td>\n",
       "      <td>4 years</td>\n",
       "      <td>MORTGAGE</td>\n",
       "      <td>65000.00</td>\n",
       "      <td>Not Verified</td>\n",
       "      <td>Jan-2015</td>\n",
       "      <td>Fully Paid</td>\n",
       "      <td>debt_consolidation</td>\n",
       "      <td>Debt consolidation</td>\n",
       "      <td>22.05</td>\n",
       "      <td>Jul-2004</td>\n",
       "      <td>17.00</td>\n",
       "      <td>0.00</td>\n",
       "      <td>20131.00</td>\n",
       "      <td>53.30</td>\n",
       "      <td>27.00</td>\n",
       "      <td>f</td>\n",
       "      <td>INDIVIDUAL</td>\n",
       "      <td>3.00</td>\n",
       "      <td>0.00</td>\n",
       "      <td>1076 Carney Fort Apt. 347\\r\\nLoganmouth, SD 05113</td>\n",
       "    </tr>\n",
       "    <tr>\n",
       "      <th>2</th>\n",
       "      <td>15600.00</td>\n",
       "      <td>36 months</td>\n",
       "      <td>10.49</td>\n",
       "      <td>506.97</td>\n",
       "      <td>B</td>\n",
       "      <td>B3</td>\n",
       "      <td>Statistician</td>\n",
       "      <td>&lt; 1 year</td>\n",
       "      <td>RENT</td>\n",
       "      <td>43057.00</td>\n",
       "      <td>Source Verified</td>\n",
       "      <td>Jan-2015</td>\n",
       "      <td>Fully Paid</td>\n",
       "      <td>credit_card</td>\n",
       "      <td>Credit card refinancing</td>\n",
       "      <td>12.79</td>\n",
       "      <td>Aug-2007</td>\n",
       "      <td>13.00</td>\n",
       "      <td>0.00</td>\n",
       "      <td>11987.00</td>\n",
       "      <td>92.20</td>\n",
       "      <td>26.00</td>\n",
       "      <td>f</td>\n",
       "      <td>INDIVIDUAL</td>\n",
       "      <td>0.00</td>\n",
       "      <td>0.00</td>\n",
       "      <td>87025 Mark Dale Apt. 269\\r\\nNew Sabrina, WV 05113</td>\n",
       "    </tr>\n",
       "    <tr>\n",
       "      <th>3</th>\n",
       "      <td>7200.00</td>\n",
       "      <td>36 months</td>\n",
       "      <td>6.49</td>\n",
       "      <td>220.65</td>\n",
       "      <td>A</td>\n",
       "      <td>A2</td>\n",
       "      <td>Client Advocate</td>\n",
       "      <td>6 years</td>\n",
       "      <td>RENT</td>\n",
       "      <td>54000.00</td>\n",
       "      <td>Not Verified</td>\n",
       "      <td>Nov-2014</td>\n",
       "      <td>Fully Paid</td>\n",
       "      <td>credit_card</td>\n",
       "      <td>Credit card refinancing</td>\n",
       "      <td>2.60</td>\n",
       "      <td>Sep-2006</td>\n",
       "      <td>6.00</td>\n",
       "      <td>0.00</td>\n",
       "      <td>5472.00</td>\n",
       "      <td>21.50</td>\n",
       "      <td>13.00</td>\n",
       "      <td>f</td>\n",
       "      <td>INDIVIDUAL</td>\n",
       "      <td>0.00</td>\n",
       "      <td>0.00</td>\n",
       "      <td>823 Reid Ford\\r\\nDelacruzside, MA 00813</td>\n",
       "    </tr>\n",
       "    <tr>\n",
       "      <th>4</th>\n",
       "      <td>24375.00</td>\n",
       "      <td>60 months</td>\n",
       "      <td>17.27</td>\n",
       "      <td>609.33</td>\n",
       "      <td>C</td>\n",
       "      <td>C5</td>\n",
       "      <td>Destiny Management Inc.</td>\n",
       "      <td>9 years</td>\n",
       "      <td>MORTGAGE</td>\n",
       "      <td>55000.00</td>\n",
       "      <td>Verified</td>\n",
       "      <td>Apr-2013</td>\n",
       "      <td>Charged Off</td>\n",
       "      <td>credit_card</td>\n",
       "      <td>Credit Card Refinance</td>\n",
       "      <td>33.95</td>\n",
       "      <td>Mar-1999</td>\n",
       "      <td>13.00</td>\n",
       "      <td>0.00</td>\n",
       "      <td>24584.00</td>\n",
       "      <td>69.80</td>\n",
       "      <td>43.00</td>\n",
       "      <td>f</td>\n",
       "      <td>INDIVIDUAL</td>\n",
       "      <td>1.00</td>\n",
       "      <td>0.00</td>\n",
       "      <td>679 Luna Roads\\r\\nGreggshire, VA 11650</td>\n",
       "    </tr>\n",
       "  </tbody>\n",
       "</table>\n",
       "</div>"
      ],
      "text/plain": [
       "   loan_amnt        term  int_rate  installment grade sub_grade  \\\n",
       "0   10000.00   36 months     11.44       329.48     B        B4   \n",
       "1    8000.00   36 months     11.99       265.68     B        B5   \n",
       "2   15600.00   36 months     10.49       506.97     B        B3   \n",
       "3    7200.00   36 months      6.49       220.65     A        A2   \n",
       "4   24375.00   60 months     17.27       609.33     C        C5   \n",
       "\n",
       "                 emp_title emp_length home_ownership  annual_inc  \\\n",
       "0                Marketing  10+ years           RENT   117000.00   \n",
       "1          Credit analyst     4 years       MORTGAGE    65000.00   \n",
       "2             Statistician   < 1 year           RENT    43057.00   \n",
       "3          Client Advocate    6 years           RENT    54000.00   \n",
       "4  Destiny Management Inc.    9 years       MORTGAGE    55000.00   \n",
       "\n",
       "  verification_status   issue_d  loan_status             purpose  \\\n",
       "0        Not Verified  Jan-2015   Fully Paid            vacation   \n",
       "1        Not Verified  Jan-2015   Fully Paid  debt_consolidation   \n",
       "2     Source Verified  Jan-2015   Fully Paid         credit_card   \n",
       "3        Not Verified  Nov-2014   Fully Paid         credit_card   \n",
       "4            Verified  Apr-2013  Charged Off         credit_card   \n",
       "\n",
       "                     title   dti earliest_cr_line  open_acc  pub_rec  \\\n",
       "0                 Vacation 26.24         Jun-1990     16.00     0.00   \n",
       "1       Debt consolidation 22.05         Jul-2004     17.00     0.00   \n",
       "2  Credit card refinancing 12.79         Aug-2007     13.00     0.00   \n",
       "3  Credit card refinancing  2.60         Sep-2006      6.00     0.00   \n",
       "4    Credit Card Refinance 33.95         Mar-1999     13.00     0.00   \n",
       "\n",
       "   revol_bal  revol_util  total_acc initial_list_status application_type  \\\n",
       "0   36369.00       41.80      25.00                   w       INDIVIDUAL   \n",
       "1   20131.00       53.30      27.00                   f       INDIVIDUAL   \n",
       "2   11987.00       92.20      26.00                   f       INDIVIDUAL   \n",
       "3    5472.00       21.50      13.00                   f       INDIVIDUAL   \n",
       "4   24584.00       69.80      43.00                   f       INDIVIDUAL   \n",
       "\n",
       "   mort_acc  pub_rec_bankruptcies  \\\n",
       "0      0.00                  0.00   \n",
       "1      3.00                  0.00   \n",
       "2      0.00                  0.00   \n",
       "3      0.00                  0.00   \n",
       "4      1.00                  0.00   \n",
       "\n",
       "                                             address  \n",
       "0     0174 Michelle Gateway\\r\\nMendozaberg, OK 22690  \n",
       "1  1076 Carney Fort Apt. 347\\r\\nLoganmouth, SD 05113  \n",
       "2  87025 Mark Dale Apt. 269\\r\\nNew Sabrina, WV 05113  \n",
       "3            823 Reid Ford\\r\\nDelacruzside, MA 00813  \n",
       "4             679 Luna Roads\\r\\nGreggshire, VA 11650  "
      ]
     },
     "execution_count": 9,
     "metadata": {},
     "output_type": "execute_result"
    }
   ],
   "source": [
    "df = pd.read_csv(\"Datasets\\\\raw data\\\\lending_club_loan.csv\")\n",
    "df.head()"
   ]
  },
  {
   "cell_type": "code",
   "execution_count": 10,
   "id": "d0def3d9",
   "metadata": {
    "execution": {
     "iopub.execute_input": "2023-01-31T14:11:48.208667Z",
     "iopub.status.busy": "2023-01-31T14:11:48.208157Z",
     "iopub.status.idle": "2023-01-31T14:11:48.428818Z",
     "shell.execute_reply": "2023-01-31T14:11:48.427863Z"
    },
    "papermill": {
     "duration": 0.360858,
     "end_time": "2023-01-31T14:11:48.431029",
     "exception": false,
     "start_time": "2023-01-31T14:11:48.070171",
     "status": "completed"
    },
    "tags": []
   },
   "outputs": [
    {
     "data": {
      "text/html": [
       "<div>\n",
       "<style scoped>\n",
       "    .dataframe tbody tr th:only-of-type {\n",
       "        vertical-align: middle;\n",
       "    }\n",
       "\n",
       "    .dataframe tbody tr th {\n",
       "        vertical-align: top;\n",
       "    }\n",
       "\n",
       "    .dataframe thead th {\n",
       "        text-align: right;\n",
       "    }\n",
       "</style>\n",
       "<table border=\"1\" class=\"dataframe\">\n",
       "  <thead>\n",
       "    <tr style=\"text-align: right;\">\n",
       "      <th></th>\n",
       "      <th>loan_amnt</th>\n",
       "      <th>int_rate</th>\n",
       "      <th>installment</th>\n",
       "      <th>annual_inc</th>\n",
       "      <th>dti</th>\n",
       "      <th>open_acc</th>\n",
       "      <th>pub_rec</th>\n",
       "      <th>revol_bal</th>\n",
       "      <th>revol_util</th>\n",
       "      <th>total_acc</th>\n",
       "      <th>mort_acc</th>\n",
       "      <th>pub_rec_bankruptcies</th>\n",
       "    </tr>\n",
       "  </thead>\n",
       "  <tbody>\n",
       "    <tr>\n",
       "      <th>count</th>\n",
       "      <td>396030.00</td>\n",
       "      <td>396030.00</td>\n",
       "      <td>396030.00</td>\n",
       "      <td>396030.00</td>\n",
       "      <td>396030.00</td>\n",
       "      <td>396030.00</td>\n",
       "      <td>396030.00</td>\n",
       "      <td>396030.00</td>\n",
       "      <td>395754.00</td>\n",
       "      <td>396030.00</td>\n",
       "      <td>358235.00</td>\n",
       "      <td>395495.00</td>\n",
       "    </tr>\n",
       "    <tr>\n",
       "      <th>mean</th>\n",
       "      <td>14113.89</td>\n",
       "      <td>13.64</td>\n",
       "      <td>431.85</td>\n",
       "      <td>74203.18</td>\n",
       "      <td>17.38</td>\n",
       "      <td>11.31</td>\n",
       "      <td>0.18</td>\n",
       "      <td>15844.54</td>\n",
       "      <td>53.79</td>\n",
       "      <td>25.41</td>\n",
       "      <td>1.81</td>\n",
       "      <td>0.12</td>\n",
       "    </tr>\n",
       "    <tr>\n",
       "      <th>std</th>\n",
       "      <td>8357.44</td>\n",
       "      <td>4.47</td>\n",
       "      <td>250.73</td>\n",
       "      <td>61637.62</td>\n",
       "      <td>18.02</td>\n",
       "      <td>5.14</td>\n",
       "      <td>0.53</td>\n",
       "      <td>20591.84</td>\n",
       "      <td>24.45</td>\n",
       "      <td>11.89</td>\n",
       "      <td>2.15</td>\n",
       "      <td>0.36</td>\n",
       "    </tr>\n",
       "    <tr>\n",
       "      <th>min</th>\n",
       "      <td>500.00</td>\n",
       "      <td>5.32</td>\n",
       "      <td>16.08</td>\n",
       "      <td>0.00</td>\n",
       "      <td>0.00</td>\n",
       "      <td>0.00</td>\n",
       "      <td>0.00</td>\n",
       "      <td>0.00</td>\n",
       "      <td>0.00</td>\n",
       "      <td>2.00</td>\n",
       "      <td>0.00</td>\n",
       "      <td>0.00</td>\n",
       "    </tr>\n",
       "    <tr>\n",
       "      <th>25%</th>\n",
       "      <td>8000.00</td>\n",
       "      <td>10.49</td>\n",
       "      <td>250.33</td>\n",
       "      <td>45000.00</td>\n",
       "      <td>11.28</td>\n",
       "      <td>8.00</td>\n",
       "      <td>0.00</td>\n",
       "      <td>6025.00</td>\n",
       "      <td>35.80</td>\n",
       "      <td>17.00</td>\n",
       "      <td>0.00</td>\n",
       "      <td>0.00</td>\n",
       "    </tr>\n",
       "    <tr>\n",
       "      <th>50%</th>\n",
       "      <td>12000.00</td>\n",
       "      <td>13.33</td>\n",
       "      <td>375.43</td>\n",
       "      <td>64000.00</td>\n",
       "      <td>16.91</td>\n",
       "      <td>10.00</td>\n",
       "      <td>0.00</td>\n",
       "      <td>11181.00</td>\n",
       "      <td>54.80</td>\n",
       "      <td>24.00</td>\n",
       "      <td>1.00</td>\n",
       "      <td>0.00</td>\n",
       "    </tr>\n",
       "    <tr>\n",
       "      <th>75%</th>\n",
       "      <td>20000.00</td>\n",
       "      <td>16.49</td>\n",
       "      <td>567.30</td>\n",
       "      <td>90000.00</td>\n",
       "      <td>22.98</td>\n",
       "      <td>14.00</td>\n",
       "      <td>0.00</td>\n",
       "      <td>19620.00</td>\n",
       "      <td>72.90</td>\n",
       "      <td>32.00</td>\n",
       "      <td>3.00</td>\n",
       "      <td>0.00</td>\n",
       "    </tr>\n",
       "    <tr>\n",
       "      <th>max</th>\n",
       "      <td>40000.00</td>\n",
       "      <td>30.99</td>\n",
       "      <td>1533.81</td>\n",
       "      <td>8706582.00</td>\n",
       "      <td>9999.00</td>\n",
       "      <td>90.00</td>\n",
       "      <td>86.00</td>\n",
       "      <td>1743266.00</td>\n",
       "      <td>892.30</td>\n",
       "      <td>151.00</td>\n",
       "      <td>34.00</td>\n",
       "      <td>8.00</td>\n",
       "    </tr>\n",
       "  </tbody>\n",
       "</table>\n",
       "</div>"
      ],
      "text/plain": [
       "       loan_amnt  int_rate  installment  annual_inc       dti  open_acc  \\\n",
       "count  396030.00 396030.00    396030.00   396030.00 396030.00 396030.00   \n",
       "mean    14113.89     13.64       431.85    74203.18     17.38     11.31   \n",
       "std      8357.44      4.47       250.73    61637.62     18.02      5.14   \n",
       "min       500.00      5.32        16.08        0.00      0.00      0.00   \n",
       "25%      8000.00     10.49       250.33    45000.00     11.28      8.00   \n",
       "50%     12000.00     13.33       375.43    64000.00     16.91     10.00   \n",
       "75%     20000.00     16.49       567.30    90000.00     22.98     14.00   \n",
       "max     40000.00     30.99      1533.81  8706582.00   9999.00     90.00   \n",
       "\n",
       "        pub_rec  revol_bal  revol_util  total_acc  mort_acc  \\\n",
       "count 396030.00  396030.00   395754.00  396030.00 358235.00   \n",
       "mean       0.18   15844.54       53.79      25.41      1.81   \n",
       "std        0.53   20591.84       24.45      11.89      2.15   \n",
       "min        0.00       0.00        0.00       2.00      0.00   \n",
       "25%        0.00    6025.00       35.80      17.00      0.00   \n",
       "50%        0.00   11181.00       54.80      24.00      1.00   \n",
       "75%        0.00   19620.00       72.90      32.00      3.00   \n",
       "max       86.00 1743266.00      892.30     151.00     34.00   \n",
       "\n",
       "       pub_rec_bankruptcies  \n",
       "count             395495.00  \n",
       "mean                   0.12  \n",
       "std                    0.36  \n",
       "min                    0.00  \n",
       "25%                    0.00  \n",
       "50%                    0.00  \n",
       "75%                    0.00  \n",
       "max                    8.00  "
      ]
     },
     "execution_count": 10,
     "metadata": {},
     "output_type": "execute_result"
    }
   ],
   "source": [
    "df.describe()"
   ]
  },
  {
   "cell_type": "markdown",
   "id": "e9e603b3",
   "metadata": {
    "papermill": {
     "duration": 0.140599,
     "end_time": "2023-01-31T14:11:48.703332",
     "exception": false,
     "start_time": "2023-01-31T14:11:48.562733",
     "status": "completed"
    },
    "tags": []
   },
   "source": [
    "# 🔍 Exploratory Data Analysis\n",
    "\n",
    "> **OVERALL GOAL:** \n",
    "> - Get an understanding for which variables are important, view summary statistics, and visualize the data"
   ]
  },
  {
   "cell_type": "code",
   "execution_count": 11,
   "id": "c3a25541",
   "metadata": {
    "execution": {
     "iopub.execute_input": "2023-01-31T14:11:48.971332Z",
     "iopub.status.busy": "2023-01-31T14:11:48.970869Z",
     "iopub.status.idle": "2023-01-31T14:11:49.178902Z",
     "shell.execute_reply": "2023-01-31T14:11:49.177821Z"
    },
    "papermill": {
     "duration": 0.345476,
     "end_time": "2023-01-31T14:11:49.181182",
     "exception": false,
     "start_time": "2023-01-31T14:11:48.835706",
     "status": "completed"
    },
    "tags": []
   },
   "outputs": [
    {
     "name": "stdout",
     "output_type": "stream",
     "text": [
      "<class 'pandas.core.frame.DataFrame'>\n",
      "RangeIndex: 396030 entries, 0 to 396029\n",
      "Data columns (total 27 columns):\n",
      " #   Column                Non-Null Count   Dtype  \n",
      "---  ------                --------------   -----  \n",
      " 0   loan_amnt             396030 non-null  float64\n",
      " 1   term                  396030 non-null  object \n",
      " 2   int_rate              396030 non-null  float64\n",
      " 3   installment           396030 non-null  float64\n",
      " 4   grade                 396030 non-null  object \n",
      " 5   sub_grade             396030 non-null  object \n",
      " 6   emp_title             373103 non-null  object \n",
      " 7   emp_length            377729 non-null  object \n",
      " 8   home_ownership        396030 non-null  object \n",
      " 9   annual_inc            396030 non-null  float64\n",
      " 10  verification_status   396030 non-null  object \n",
      " 11  issue_d               396030 non-null  object \n",
      " 12  loan_status           396030 non-null  object \n",
      " 13  purpose               396030 non-null  object \n",
      " 14  title                 394274 non-null  object \n",
      " 15  dti                   396030 non-null  float64\n",
      " 16  earliest_cr_line      396030 non-null  object \n",
      " 17  open_acc              396030 non-null  float64\n",
      " 18  pub_rec               396030 non-null  float64\n",
      " 19  revol_bal             396030 non-null  float64\n",
      " 20  revol_util            395754 non-null  float64\n",
      " 21  total_acc             396030 non-null  float64\n",
      " 22  initial_list_status   396030 non-null  object \n",
      " 23  application_type      396030 non-null  object \n",
      " 24  mort_acc              358235 non-null  float64\n",
      " 25  pub_rec_bankruptcies  395495 non-null  float64\n",
      " 26  address               396030 non-null  object \n",
      "dtypes: float64(12), object(15)\n",
      "memory usage: 81.6+ MB\n"
     ]
    }
   ],
   "source": [
    "df.info()"
   ]
  },
  {
   "cell_type": "markdown",
   "id": "2e9ebeb7",
   "metadata": {
    "papermill": {
     "duration": 0.135238,
     "end_time": "2023-01-31T14:11:49.447608",
     "exception": false,
     "start_time": "2023-01-31T14:11:49.312370",
     "status": "completed"
    },
    "tags": []
   },
   "source": [
    "## ✔️ `loan_status`\n",
    "\n",
    "> Current status of the loan"
   ]
  },
  {
   "cell_type": "code",
   "execution_count": 12,
   "id": "75e89471",
   "metadata": {},
   "outputs": [
    {
     "data": {
      "text/plain": [
       "0          Fully Paid\n",
       "1          Fully Paid\n",
       "2          Fully Paid\n",
       "3          Fully Paid\n",
       "4         Charged Off\n",
       "             ...     \n",
       "396025     Fully Paid\n",
       "396026     Fully Paid\n",
       "396027     Fully Paid\n",
       "396028     Fully Paid\n",
       "396029     Fully Paid\n",
       "Name: loan_status, Length: 396030, dtype: object"
      ]
     },
     "execution_count": 12,
     "metadata": {},
     "output_type": "execute_result"
    }
   ],
   "source": [
    "df.loan_status"
   ]
  },
  {
   "cell_type": "code",
   "execution_count": 13,
   "id": "2fd5f8e5",
   "metadata": {},
   "outputs": [],
   "source": [
    "#transform the loan-status into a binary variable where 'Charged Off' = 1 and 'Fully Paid' = 0.\n",
    "df['loan_status_bin'] = df['loan_status'].map({'Charged Off': 1, 'Fully Paid': 0})"
   ]
  },
  {
   "cell_type": "code",
   "execution_count": 14,
   "metadata": {},
   "outputs": [
    {
     "data": {
      "text/plain": [
       "0         0\n",
       "1         0\n",
       "2         0\n",
       "3         0\n",
       "4         1\n",
       "         ..\n",
       "396025    0\n",
       "396026    0\n",
       "396027    0\n",
       "396028    0\n",
       "396029    0\n",
       "Name: loan_status_bin, Length: 396030, dtype: int64"
      ]
     },
     "execution_count": 14,
     "metadata": {},
     "output_type": "execute_result"
    }
   ],
   "source": [
    "df.loan_status_bin"
   ]
  },
  {
   "cell_type": "code",
   "execution_count": 15,
   "id": "d0b744fe",
   "metadata": {
    "_kg_hide-input": true,
    "execution": {
     "iopub.execute_input": "2023-01-31T14:11:49.732975Z",
     "iopub.status.busy": "2023-01-31T14:11:49.732602Z",
     "iopub.status.idle": "2023-01-31T14:11:49.876013Z",
     "shell.execute_reply": "2023-01-31T14:11:49.874915Z"
    },
    "papermill": {
     "duration": 0.288595,
     "end_time": "2023-01-31T14:11:49.878903",
     "exception": false,
     "start_time": "2023-01-31T14:11:49.590308",
     "status": "completed"
    },
    "tags": []
   },
   "outputs": [
    {
     "data": {
      "image/png": "[encoded data removed]",
      "text/plain": [
       "<Figure size 700x400 with 1 Axes>"
      ]
     },
     "metadata": {},
     "output_type": "display_data"
    }
   ],
   "source": [
    "plt.figure(figsize=(7, 4))\n",
    "sns.countplot(x='loan_status', data=df)\n",
    "plt.title('Loan Status Counts')\n",
    "plt.xlabel('Loan Status')\n",
    "plt.ylabel('Count')\n",
    "plt.xticks(rotation=45)  # Optional: Rotate labels if they overlap\n",
    "plt.show()"
   ]
  },
  {
   "cell_type": "code",
   "execution_count": 16,
   "id": "fc93cc0a",
   "metadata": {
    "execution": {
     "iopub.execute_input": "2023-01-31T14:11:50.144334Z",
     "iopub.status.busy": "2023-01-31T14:11:50.143658Z",
     "iopub.status.idle": "2023-01-31T14:11:51.482919Z",
     "shell.execute_reply": "2023-01-31T14:11:51.482016Z"
    },
    "papermill": {
     "duration": 1.475483,
     "end_time": "2023-01-31T14:11:51.485527",
     "exception": false,
     "start_time": "2023-01-31T14:11:50.010044",
     "status": "completed"
    },
    "tags": []
   },
   "outputs": [
    {
     "data": {
      "image/png": "[encoded data removed]",
      "text/plain": [
       "<Figure size 1200x1000 with 2 Axes>"
      ]
     },
     "metadata": {},
     "output_type": "display_data"
    }
   ],
   "source": [
    "\n",
    "# Assume 'default_rate' is a column where 1 indicates default and 0 no default\n",
    "# Calculate correlation matrix\n",
    "corr_matrix = df.select_dtypes(include=['float64', 'int64']).corr()\n",
    "\n",
    "# Plot the correlation matrix\n",
    "plt.figure(figsize=(12, 10))\n",
    "sns.heatmap(corr_matrix, annot=True, fmt=\".2f\", cmap='coolwarm')\n",
    "plt.title('Correlation Matrix of Numerical Features')\n",
    "plt.show()\n",
    "\n",
    "\n"
   ]
  },
  {
   "cell_type": "markdown",
   "id": "e04df9c3",
   "metadata": {
    "papermill": {
     "duration": 0.147518,
     "end_time": "2023-01-31T14:11:51.835917",
     "exception": false,
     "start_time": "2023-01-31T14:11:51.688399",
     "status": "completed"
    },
    "tags": []
   },
   "source": [
    "### 📌 Notice\n",
    "> We noticed almost perfect correlation between \"loan_amnt\" the \"installment\" feature (0.95) \n"
   ]
  },
  {
   "cell_type": "markdown",
   "id": "66c1f5ad",
   "metadata": {
    "papermill": {
     "duration": 0.138022,
     "end_time": "2023-01-31T14:11:52.108649",
     "exception": false,
     "start_time": "2023-01-31T14:11:51.970627",
     "status": "completed"
    },
    "tags": []
   },
   "source": [
    "## ✔️ `loan_amnt` & `installment`\n",
    "\n",
    "> - `installment`: The monthly payment owed by the borrower if the loan originates.\n",
    "> - `loan_amnt`: The listed amount of the loan applied for by the borrower. If at some point in time, the credit department reduces the loan amount, then it will be reflected in this value."
   ]
  },
  {
   "cell_type": "code",
   "execution_count": 17,
   "id": "f91dc121",
   "metadata": {
    "_kg_hide-input": true,
    "execution": {
     "iopub.execute_input": "2023-01-31T14:11:52.380732Z",
     "iopub.status.busy": "2023-01-31T14:11:52.380348Z",
     "iopub.status.idle": "2023-01-31T14:11:54.597468Z",
     "shell.execute_reply": "2023-01-31T14:11:54.596538Z"
    },
    "papermill": {
     "duration": 2.35527,
     "end_time": "2023-01-31T14:11:54.599563",
     "exception": false,
     "start_time": "2023-01-31T14:11:52.244293",
     "status": "completed"
    },
    "tags": []
   },
   "outputs": [
    {
     "data": {
      "image/png": "[encoded data removed]",
      "text/plain": [
       "<Figure size 1000x600 with 1 Axes>"
      ]
     },
     "metadata": {},
     "output_type": "display_data"
    }
   ],
   "source": [
    "# The monthly installment is directly calculated from the loan amount using the interest rate and the term (length) of the loan. \n",
    "# Therefore, a higher loan amount will naturally lead to a higher installment, assuming the term and interest rate remain constant.\n",
    "\n",
    "plt.figure(figsize=(10, 6))\n",
    "plt.scatter(df['loan_amnt'], df['installment'], alpha=0.5)\n",
    "plt.title('Relationship between Loan Amount and Installment')\n",
    "plt.xlabel('Loan Amount ($)')\n",
    "plt.ylabel('Monthly Installment ($)')\n",
    "plt.grid(True)\n",
    "plt.show()\n",
    "\n",
    "\n",
    "\n",
    "#clear linear pattern, this indicates a strong linear relationship, confirming the hypothesis about their correlation"
   ]
  },
  {
   "cell_type": "code",
   "execution_count": 18,
   "id": "040fad6d",
   "metadata": {
    "_kg_hide-input": true,
    "execution": {
     "iopub.execute_input": "2023-01-31T14:11:54.883832Z",
     "iopub.status.busy": "2023-01-31T14:11:54.883390Z",
     "iopub.status.idle": "2023-01-31T14:11:59.307951Z",
     "shell.execute_reply": "2023-01-31T14:11:59.307102Z"
    },
    "papermill": {
     "duration": 4.577688,
     "end_time": "2023-01-31T14:11:59.314551",
     "exception": false,
     "start_time": "2023-01-31T14:11:54.736863",
     "status": "completed"
    },
    "tags": []
   },
   "outputs": [
    {
     "name": "stderr",
     "output_type": "stream",
     "text": [
      "C:\\Program Files\\KMSpico\\temp\\ipykernel_22948\\195546442.py:2: FutureWarning: \n",
      "\n",
      "Passing `palette` without assigning `hue` is deprecated and will be removed in v0.14.0. Assign the `x` variable to `hue` and set `legend=False` for the same effect.\n",
      "\n",
      "  sns.boxplot(x='loan_status', y='loan_amnt', data=df, palette='coolwarm')\n"
     ]
    },
    {
     "data": {
      "image/png": "[encoded data removed]",
      "text/plain": [
       "<Figure size 1200x700 with 1 Axes>"
      ]
     },
     "metadata": {},
     "output_type": "display_data"
    }
   ],
   "source": [
    "plt.figure(figsize=(12, 7))\n",
    "sns.boxplot(x='loan_status', y='loan_amnt', data=df, palette='coolwarm')\n",
    "plt.title('Distribution of Loan Amounts by Loan Status')\n",
    "plt.xlabel('Loan Status')\n",
    "plt.ylabel('Loan Amount ($)')\n",
    "plt.xticks(rotation=45)  # Rotate labels for better readability if needed\n",
    "plt.show()"
   ]
  },
  {
   "cell_type": "code",
   "execution_count": 19,
   "id": "53c70ace",
   "metadata": {
    "execution": {
     "iopub.execute_input": "2023-01-31T14:11:59.602251Z",
     "iopub.status.busy": "2023-01-31T14:11:59.601879Z",
     "iopub.status.idle": "2023-01-31T14:11:59.684007Z",
     "shell.execute_reply": "2023-01-31T14:11:59.682910Z"
    },
    "papermill": {
     "duration": 0.229165,
     "end_time": "2023-01-31T14:11:59.687448",
     "exception": false,
     "start_time": "2023-01-31T14:11:59.458283",
     "status": "completed"
    },
    "tags": []
   },
   "outputs": [
    {
     "name": "stderr",
     "output_type": "stream",
     "text": [
      "C:\\Program Files\\KMSpico\\temp\\ipykernel_22948\\1894200276.py:2: FutureWarning: \n",
      "\n",
      "Passing `palette` without assigning `hue` is deprecated and will be removed in v0.14.0. Assign the `x` variable to `hue` and set `legend=False` for the same effect.\n",
      "\n",
      "  sns.boxplot(x='loan_status', y='installment', data=df, palette='coolwarm')\n"
     ]
    },
    {
     "data": {
      "image/png": "[encoded data removed]",
      "text/plain": [
       "<Figure size 1200x700 with 1 Axes>"
      ]
     },
     "metadata": {},
     "output_type": "display_data"
    }
   ],
   "source": [
    "plt.figure(figsize=(12, 7))\n",
    "sns.boxplot(x='loan_status', y='installment', data=df, palette='coolwarm')\n",
    "plt.title('Distribution of Installments by Loan Status')\n",
    "plt.xlabel('Loan Status')\n",
    "plt.ylabel('Installment ($)')\n",
    "plt.xticks(rotation=45)  # Rotate labels for better readability if needed\n",
    "plt.show()"
   ]
  },
  {
   "cell_type": "code",
   "execution_count": 20,
   "id": "845b1a8d",
   "metadata": {},
   "outputs": [
    {
     "data": {
      "text/html": [
       "<div>\n",
       "<style scoped>\n",
       "    .dataframe tbody tr th:only-of-type {\n",
       "        vertical-align: middle;\n",
       "    }\n",
       "\n",
       "    .dataframe tbody tr th {\n",
       "        vertical-align: top;\n",
       "    }\n",
       "\n",
       "    .dataframe thead th {\n",
       "        text-align: right;\n",
       "    }\n",
       "</style>\n",
       "<table border=\"1\" class=\"dataframe\">\n",
       "  <thead>\n",
       "    <tr style=\"text-align: right;\">\n",
       "      <th></th>\n",
       "      <th>count</th>\n",
       "      <th>mean</th>\n",
       "      <th>std</th>\n",
       "      <th>min</th>\n",
       "      <th>25%</th>\n",
       "      <th>50%</th>\n",
       "      <th>75%</th>\n",
       "      <th>max</th>\n",
       "    </tr>\n",
       "    <tr>\n",
       "      <th>loan_status</th>\n",
       "      <th></th>\n",
       "      <th></th>\n",
       "      <th></th>\n",
       "      <th></th>\n",
       "      <th></th>\n",
       "      <th></th>\n",
       "      <th></th>\n",
       "      <th></th>\n",
       "    </tr>\n",
       "  </thead>\n",
       "  <tbody>\n",
       "    <tr>\n",
       "      <th>Charged Off</th>\n",
       "      <td>77673.00</td>\n",
       "      <td>15126.30</td>\n",
       "      <td>8505.09</td>\n",
       "      <td>1000.00</td>\n",
       "      <td>8525.00</td>\n",
       "      <td>14000.00</td>\n",
       "      <td>20000.00</td>\n",
       "      <td>40000.00</td>\n",
       "    </tr>\n",
       "    <tr>\n",
       "      <th>Fully Paid</th>\n",
       "      <td>318357.00</td>\n",
       "      <td>13866.88</td>\n",
       "      <td>8302.32</td>\n",
       "      <td>500.00</td>\n",
       "      <td>7500.00</td>\n",
       "      <td>12000.00</td>\n",
       "      <td>19225.00</td>\n",
       "      <td>40000.00</td>\n",
       "    </tr>\n",
       "  </tbody>\n",
       "</table>\n",
       "</div>"
      ],
      "text/plain": [
       "                count     mean     std     min     25%      50%      75%  \\\n",
       "loan_status                                                                \n",
       "Charged Off  77673.00 15126.30 8505.09 1000.00 8525.00 14000.00 20000.00   \n",
       "Fully Paid  318357.00 13866.88 8302.32  500.00 7500.00 12000.00 19225.00   \n",
       "\n",
       "                 max  \n",
       "loan_status           \n",
       "Charged Off 40000.00  \n",
       "Fully Paid  40000.00  "
      ]
     },
     "execution_count": 20,
     "metadata": {},
     "output_type": "execute_result"
    }
   ],
   "source": [
    "df.groupby(by='loan_status')['loan_amnt'].describe()"
   ]
  },
  {
   "cell_type": "markdown",
   "id": "7c8e88b7",
   "metadata": {},
   "source": [
    "## Linear Regression"
   ]
  },
  {
   "cell_type": "code",
   "execution_count": 21,
   "id": "ead74bb0",
   "metadata": {},
   "outputs": [
    {
     "data": {
      "text/html": [
       "<style>#sk-container-id-1 {\n",
       "  /* Definition of color scheme common for light and dark mode */\n",
       "  --sklearn-color-text: black;\n",
       "  --sklearn-color-line: gray;\n",
       "  /* Definition of color scheme for unfitted estimators */\n",
       "  --sklearn-color-unfitted-level-0: #fff5e6;\n",
       "  --sklearn-color-unfitted-level-1: #f6e4d2;\n",
       "  --sklearn-color-unfitted-level-2: #ffe0b3;\n",
       "  --sklearn-color-unfitted-level-3: chocolate;\n",
       "  /* Definition of color scheme for fitted estimators */\n",
       "  --sklearn-color-fitted-level-0: #f0f8ff;\n",
       "  --sklearn-color-fitted-level-1: #d4ebff;\n",
       "  --sklearn-color-fitted-level-2: #b3dbfd;\n",
       "  --sklearn-color-fitted-level-3: cornflowerblue;\n",
       "\n",
       "  /* Specific color for light theme */\n",
       "  --sklearn-color-text-on-default-background: var(--sg-text-color, var(--theme-code-foreground, var(--jp-content-font-color1, black)));\n",
       "  --sklearn-color-background: var(--sg-background-color, var(--theme-background, var(--jp-layout-color0, white)));\n",
       "  --sklearn-color-border-box: var(--sg-text-color, var(--theme-code-foreground, var(--jp-content-font-color1, black)));\n",
       "  --sklearn-color-icon: #696969;\n",
       "\n",
       "  @media (prefers-color-scheme: dark) {\n",
       "    /* Redefinition of color scheme for dark theme */\n",
       "    --sklearn-color-text-on-default-background: var(--sg-text-color, var(--theme-code-foreground, var(--jp-content-font-color1, white)));\n",
       "    --sklearn-color-background: var(--sg-background-color, var(--theme-background, var(--jp-layout-color0, #111)));\n",
       "    --sklearn-color-border-box: var(--sg-text-color, var(--theme-code-foreground, var(--jp-content-font-color1, white)));\n",
       "    --sklearn-color-icon: #878787;\n",
       "  }\n",
       "}\n",
       "\n",
       "#sk-container-id-1 {\n",
       "  color: var(--sklearn-color-text);\n",
       "}\n",
       "\n",
       "#sk-container-id-1 pre {\n",
       "  padding: 0;\n",
       "}\n",
       "\n",
       "#sk-container-id-1 input.sk-hidden--visually {\n",
       "  border: 0;\n",
       "  clip: rect(1px 1px 1px 1px);\n",
       "  clip: rect(1px, 1px, 1px, 1px);\n",
       "  height: 1px;\n",
       "  margin: -1px;\n",
       "  overflow: hidden;\n",
       "  padding: 0;\n",
       "  position: absolute;\n",
       "  width: 1px;\n",
       "}\n",
       "\n",
       "#sk-container-id-1 div.sk-dashed-wrapped {\n",
       "  border: 1px dashed var(--sklearn-color-line);\n",
       "  margin: 0 0.4em 0.5em 0.4em;\n",
       "  box-sizing: border-box;\n",
       "  padding-bottom: 0.4em;\n",
       "  background-color: var(--sklearn-color-background);\n",
       "}\n",
       "\n",
       "#sk-container-id-1 div.sk-container {\n",
       "  /* jupyter's `normalize.less` sets `[hidden] { display: none; }`\n",
       "     but bootstrap.min.css set `[hidden] { display: none !important; }`\n",
       "     so we also need the `!important` here to be able to override the\n",
       "     default hidden behavior on the sphinx rendered scikit-learn.org.\n",
       "     See: https://github.com/scikit-learn/scikit-learn/issues/21755 */\n",
       "  display: inline-block !important;\n",
       "  position: relative;\n",
       "}\n",
       "\n",
       "#sk-container-id-1 div.sk-text-repr-fallback {\n",
       "  display: none;\n",
       "}\n",
       "\n",
       "div.sk-parallel-item,\n",
       "div.sk-serial,\n",
       "div.sk-item {\n",
       "  /* draw centered vertical line to link estimators */\n",
       "  background-image: linear-gradient(var(--sklearn-color-text-on-default-background), var(--sklearn-color-text-on-default-background));\n",
       "  background-size: 2px 100%;\n",
       "  background-repeat: no-repeat;\n",
       "  background-position: center center;\n",
       "}\n",
       "\n",
       "/* Parallel-specific style estimator block */\n",
       "\n",
       "#sk-container-id-1 div.sk-parallel-item::after {\n",
       "  content: \"\";\n",
       "  width: 100%;\n",
       "  border-bottom: 2px solid var(--sklearn-color-text-on-default-background);\n",
       "  flex-grow: 1;\n",
       "}\n",
       "\n",
       "#sk-container-id-1 div.sk-parallel {\n",
       "  display: flex;\n",
       "  align-items: stretch;\n",
       "  justify-content: center;\n",
       "  background-color: var(--sklearn-color-background);\n",
       "  position: relative;\n",
       "}\n",
       "\n",
       "#sk-container-id-1 div.sk-parallel-item {\n",
       "  display: flex;\n",
       "  flex-direction: column;\n",
       "}\n",
       "\n",
       "#sk-container-id-1 div.sk-parallel-item:first-child::after {\n",
       "  align-self: flex-end;\n",
       "  width: 50%;\n",
       "}\n",
       "\n",
       "#sk-container-id-1 div.sk-parallel-item:last-child::after {\n",
       "  align-self: flex-start;\n",
       "  width: 50%;\n",
       "}\n",
       "\n",
       "#sk-container-id-1 div.sk-parallel-item:only-child::after {\n",
       "  width: 0;\n",
       "}\n",
       "\n",
       "/* Serial-specific style estimator block */\n",
       "\n",
       "#sk-container-id-1 div.sk-serial {\n",
       "  display: flex;\n",
       "  flex-direction: column;\n",
       "  align-items: center;\n",
       "  background-color: var(--sklearn-color-background);\n",
       "  padding-right: 1em;\n",
       "  padding-left: 1em;\n",
       "}\n",
       "\n",
       "\n",
       "/* Toggleable style: style used for estimator/Pipeline/ColumnTransformer box that is\n",
       "clickable and can be expanded/collapsed.\n",
       "- Pipeline and ColumnTransformer use this feature and define the default style\n",
       "- Estimators will overwrite some part of the style using the `sk-estimator` class\n",
       "*/\n",
       "\n",
       "/* Pipeline and ColumnTransformer style (default) */\n",
       "\n",
       "#sk-container-id-1 div.sk-toggleable {\n",
       "  /* Default theme specific background. It is overwritten whether we have a\n",
       "  specific estimator or a Pipeline/ColumnTransformer */\n",
       "  background-color: var(--sklearn-color-background);\n",
       "}\n",
       "\n",
       "/* Toggleable label */\n",
       "#sk-container-id-1 label.sk-toggleable__label {\n",
       "  cursor: pointer;\n",
       "  display: block;\n",
       "  width: 100%;\n",
       "  margin-bottom: 0;\n",
       "  padding: 0.5em;\n",
       "  box-sizing: border-box;\n",
       "  text-align: center;\n",
       "}\n",
       "\n",
       "#sk-container-id-1 label.sk-toggleable__label-arrow:before {\n",
       "  /* Arrow on the left of the label */\n",
       "  content: \"▸\";\n",
       "  float: left;\n",
       "  margin-right: 0.25em;\n",
       "  color: var(--sklearn-color-icon);\n",
       "}\n",
       "\n",
       "#sk-container-id-1 label.sk-toggleable__label-arrow:hover:before {\n",
       "  color: var(--sklearn-color-text);\n",
       "}\n",
       "\n",
       "/* Toggleable content - dropdown */\n",
       "\n",
       "#sk-container-id-1 div.sk-toggleable__content {\n",
       "  max-height: 0;\n",
       "  max-width: 0;\n",
       "  overflow: hidden;\n",
       "  text-align: left;\n",
       "  /* unfitted */\n",
       "  background-color: var(--sklearn-color-unfitted-level-0);\n",
       "}\n",
       "\n",
       "#sk-container-id-1 div.sk-toggleable__content.fitted {\n",
       "  /* fitted */\n",
       "  background-color: var(--sklearn-color-fitted-level-0);\n",
       "}\n",
       "\n",
       "#sk-container-id-1 div.sk-toggleable__content pre {\n",
       "  margin: 0.2em;\n",
       "  border-radius: 0.25em;\n",
       "  color: var(--sklearn-color-text);\n",
       "  /* unfitted */\n",
       "  background-color: var(--sklearn-color-unfitted-level-0);\n",
       "}\n",
       "\n",
       "#sk-container-id-1 div.sk-toggleable__content.fitted pre {\n",
       "  /* unfitted */\n",
       "  background-color: var(--sklearn-color-fitted-level-0);\n",
       "}\n",
       "\n",
       "#sk-container-id-1 input.sk-toggleable__control:checked~div.sk-toggleable__content {\n",
       "  /* Expand drop-down */\n",
       "  max-height: 200px;\n",
       "  max-width: 100%;\n",
       "  overflow: auto;\n",
       "}\n",
       "\n",
       "#sk-container-id-1 input.sk-toggleable__control:checked~label.sk-toggleable__label-arrow:before {\n",
       "  content: \"▾\";\n",
       "}\n",
       "\n",
       "/* Pipeline/ColumnTransformer-specific style */\n",
       "\n",
       "#sk-container-id-1 div.sk-label input.sk-toggleable__control:checked~label.sk-toggleable__label {\n",
       "  color: var(--sklearn-color-text);\n",
       "  background-color: var(--sklearn-color-unfitted-level-2);\n",
       "}\n",
       "\n",
       "#sk-container-id-1 div.sk-label.fitted input.sk-toggleable__control:checked~label.sk-toggleable__label {\n",
       "  background-color: var(--sklearn-color-fitted-level-2);\n",
       "}\n",
       "\n",
       "/* Estimator-specific style */\n",
       "\n",
       "/* Colorize estimator box */\n",
       "#sk-container-id-1 div.sk-estimator input.sk-toggleable__control:checked~label.sk-toggleable__label {\n",
       "  /* unfitted */\n",
       "  background-color: var(--sklearn-color-unfitted-level-2);\n",
       "}\n",
       "\n",
       "#sk-container-id-1 div.sk-estimator.fitted input.sk-toggleable__control:checked~label.sk-toggleable__label {\n",
       "  /* fitted */\n",
       "  background-color: var(--sklearn-color-fitted-level-2);\n",
       "}\n",
       "\n",
       "#sk-container-id-1 div.sk-label label.sk-toggleable__label,\n",
       "#sk-container-id-1 div.sk-label label {\n",
       "  /* The background is the default theme color */\n",
       "  color: var(--sklearn-color-text-on-default-background);\n",
       "}\n",
       "\n",
       "/* On hover, darken the color of the background */\n",
       "#sk-container-id-1 div.sk-label:hover label.sk-toggleable__label {\n",
       "  color: var(--sklearn-color-text);\n",
       "  background-color: var(--sklearn-color-unfitted-level-2);\n",
       "}\n",
       "\n",
       "/* Label box, darken color on hover, fitted */\n",
       "#sk-container-id-1 div.sk-label.fitted:hover label.sk-toggleable__label.fitted {\n",
       "  color: var(--sklearn-color-text);\n",
       "  background-color: var(--sklearn-color-fitted-level-2);\n",
       "}\n",
       "\n",
       "/* Estimator label */\n",
       "\n",
       "#sk-container-id-1 div.sk-label label {\n",
       "  font-family: monospace;\n",
       "  font-weight: bold;\n",
       "  display: inline-block;\n",
       "  line-height: 1.2em;\n",
       "}\n",
       "\n",
       "#sk-container-id-1 div.sk-label-container {\n",
       "  text-align: center;\n",
       "}\n",
       "\n",
       "/* Estimator-specific */\n",
       "#sk-container-id-1 div.sk-estimator {\n",
       "  font-family: monospace;\n",
       "  border: 1px dotted var(--sklearn-color-border-box);\n",
       "  border-radius: 0.25em;\n",
       "  box-sizing: border-box;\n",
       "  margin-bottom: 0.5em;\n",
       "  /* unfitted */\n",
       "  background-color: var(--sklearn-color-unfitted-level-0);\n",
       "}\n",
       "\n",
       "#sk-container-id-1 div.sk-estimator.fitted {\n",
       "  /* fitted */\n",
       "  background-color: var(--sklearn-color-fitted-level-0);\n",
       "}\n",
       "\n",
       "/* on hover */\n",
       "#sk-container-id-1 div.sk-estimator:hover {\n",
       "  /* unfitted */\n",
       "  background-color: var(--sklearn-color-unfitted-level-2);\n",
       "}\n",
       "\n",
       "#sk-container-id-1 div.sk-estimator.fitted:hover {\n",
       "  /* fitted */\n",
       "  background-color: var(--sklearn-color-fitted-level-2);\n",
       "}\n",
       "\n",
       "/* Specification for estimator info (e.g. \"i\" and \"?\") */\n",
       "\n",
       "/* Common style for \"i\" and \"?\" */\n",
       "\n",
       ".sk-estimator-doc-link,\n",
       "a:link.sk-estimator-doc-link,\n",
       "a:visited.sk-estimator-doc-link {\n",
       "  float: right;\n",
       "  font-size: smaller;\n",
       "  line-height: 1em;\n",
       "  font-family: monospace;\n",
       "  background-color: var(--sklearn-color-background);\n",
       "  border-radius: 1em;\n",
       "  height: 1em;\n",
       "  width: 1em;\n",
       "  text-decoration: none !important;\n",
       "  margin-left: 1ex;\n",
       "  /* unfitted */\n",
       "  border: var(--sklearn-color-unfitted-level-1) 1pt solid;\n",
       "  color: var(--sklearn-color-unfitted-level-1);\n",
       "}\n",
       "\n",
       ".sk-estimator-doc-link.fitted,\n",
       "a:link.sk-estimator-doc-link.fitted,\n",
       "a:visited.sk-estimator-doc-link.fitted {\n",
       "  /* fitted */\n",
       "  border: var(--sklearn-color-fitted-level-1) 1pt solid;\n",
       "  color: var(--sklearn-color-fitted-level-1);\n",
       "}\n",
       "\n",
       "/* On hover */\n",
       "div.sk-estimator:hover .sk-estimator-doc-link:hover,\n",
       ".sk-estimator-doc-link:hover,\n",
       "div.sk-label-container:hover .sk-estimator-doc-link:hover,\n",
       ".sk-estimator-doc-link:hover {\n",
       "  /* unfitted */\n",
       "  background-color: var(--sklearn-color-unfitted-level-3);\n",
       "  color: var(--sklearn-color-background);\n",
       "  text-decoration: none;\n",
       "}\n",
       "\n",
       "div.sk-estimator.fitted:hover .sk-estimator-doc-link.fitted:hover,\n",
       ".sk-estimator-doc-link.fitted:hover,\n",
       "div.sk-label-container:hover .sk-estimator-doc-link.fitted:hover,\n",
       ".sk-estimator-doc-link.fitted:hover {\n",
       "  /* fitted */\n",
       "  background-color: var(--sklearn-color-fitted-level-3);\n",
       "  color: var(--sklearn-color-background);\n",
       "  text-decoration: none;\n",
       "}\n",
       "\n",
       "/* Span, style for the box shown on hovering the info icon */\n",
       ".sk-estimator-doc-link span {\n",
       "  display: none;\n",
       "  z-index: 9999;\n",
       "  position: relative;\n",
       "  font-weight: normal;\n",
       "  right: .2ex;\n",
       "  padding: .5ex;\n",
       "  margin: .5ex;\n",
       "  width: min-content;\n",
       "  min-width: 20ex;\n",
       "  max-width: 50ex;\n",
       "  color: var(--sklearn-color-text);\n",
       "  box-shadow: 2pt 2pt 4pt #999;\n",
       "  /* unfitted */\n",
       "  background: var(--sklearn-color-unfitted-level-0);\n",
       "  border: .5pt solid var(--sklearn-color-unfitted-level-3);\n",
       "}\n",
       "\n",
       ".sk-estimator-doc-link.fitted span {\n",
       "  /* fitted */\n",
       "  background: var(--sklearn-color-fitted-level-0);\n",
       "  border: var(--sklearn-color-fitted-level-3);\n",
       "}\n",
       "\n",
       ".sk-estimator-doc-link:hover span {\n",
       "  display: block;\n",
       "}\n",
       "\n",
       "/* \"?\"-specific style due to the `<a>` HTML tag */\n",
       "\n",
       "#sk-container-id-1 a.estimator_doc_link {\n",
       "  float: right;\n",
       "  font-size: 1rem;\n",
       "  line-height: 1em;\n",
       "  font-family: monospace;\n",
       "  background-color: var(--sklearn-color-background);\n",
       "  border-radius: 1rem;\n",
       "  height: 1rem;\n",
       "  width: 1rem;\n",
       "  text-decoration: none;\n",
       "  /* unfitted */\n",
       "  color: var(--sklearn-color-unfitted-level-1);\n",
       "  border: var(--sklearn-color-unfitted-level-1) 1pt solid;\n",
       "}\n",
       "\n",
       "#sk-container-id-1 a.estimator_doc_link.fitted {\n",
       "  /* fitted */\n",
       "  border: var(--sklearn-color-fitted-level-1) 1pt solid;\n",
       "  color: var(--sklearn-color-fitted-level-1);\n",
       "}\n",
       "\n",
       "/* On hover */\n",
       "#sk-container-id-1 a.estimator_doc_link:hover {\n",
       "  /* unfitted */\n",
       "  background-color: var(--sklearn-color-unfitted-level-3);\n",
       "  color: var(--sklearn-color-background);\n",
       "  text-decoration: none;\n",
       "}\n",
       "\n",
       "#sk-container-id-1 a.estimator_doc_link.fitted:hover {\n",
       "  /* fitted */\n",
       "  background-color: var(--sklearn-color-fitted-level-3);\n",
       "}\n",
       "</style><div id=\"sk-container-id-1\" class=\"sk-top-container\"><div class=\"sk-text-repr-fallback\"><pre>LinearRegression()</pre><b>In a Jupyter environment, please rerun this cell to show the HTML representation or trust the notebook. <br />On GitHub, the HTML representation is unable to render, please try loading this page with nbviewer.org.</b></div><div class=\"sk-container\" hidden><div class=\"sk-item\"><div class=\"sk-estimator fitted sk-toggleable\"><input class=\"sk-toggleable__control sk-hidden--visually\" id=\"sk-estimator-id-1\" type=\"checkbox\" checked><label for=\"sk-estimator-id-1\" class=\"sk-toggleable__label fitted sk-toggleable__label-arrow fitted\">&nbsp;&nbsp;LinearRegression<a class=\"sk-estimator-doc-link fitted\" rel=\"noreferrer\" target=\"_blank\" href=\"https://scikit-learn.org/1.5/modules/generated/sklearn.linear_model.LinearRegression.html\">?<span>Documentation for LinearRegression</span></a><span class=\"sk-estimator-doc-link fitted\">i<span>Fitted</span></span></label><div class=\"sk-toggleable__content fitted\"><pre>LinearRegression()</pre></div> </div></div></div></div>"
      ],
      "text/plain": [
       "LinearRegression()"
      ]
     },
     "execution_count": 21,
     "metadata": {},
     "output_type": "execute_result"
    }
   ],
   "source": [
    "from sklearn.linear_model import LinearRegression\n",
    "lr = LinearRegression()\n",
    "lr.fit(df.groupby('sub_grade')['loan_status_bin'].mean().values.reshape(-1,1), y=df.groupby('sub_grade')['int_rate'].mean())\n",
    "\n",
    "#Describing the linear connection between default rate and interest rate using linear regression\n"
   ]
  },
  {
   "cell_type": "code",
   "execution_count": 22,
   "id": "fe281156",
   "metadata": {},
   "outputs": [
    {
     "data": {
      "image/png": "[encoded data removed]",
      "text/plain": [
       "<Figure size 640x480 with 1 Axes>"
      ]
     },
     "metadata": {},
     "output_type": "display_data"
    }
   ],
   "source": [
    "# Assuming 'df' is your DataFrame and it has been prepared with necessary preprocessing\n",
    "# Creating the linear regression object\n",
    "default_rate_means = df.groupby('sub_grade')['loan_status_bin'].mean()\n",
    "interest_rate_means = df.groupby('sub_grade')['int_rate'].mean()\n",
    "\n",
    "# Scatter plot\n",
    "plt.scatter(default_rate_means, interest_rate_means, color='blue', label='Actual Data')\n",
    "\n",
    "# Predicted values for the line plot using the linear regression model 'lr'\n",
    "predicted_interest_rates = lr.predict(default_rate_means.values.reshape(-1, 1))\n",
    "\n",
    "# Line plot\n",
    "plt.plot(default_rate_means, predicted_interest_rates, color='red', label='Fitted Line')\n",
    "\n",
    "# Adding labels and legend\n",
    "plt.xlabel('Default Rate')\n",
    "plt.ylabel('Interest Rate')\n",
    "plt.title('Interest Rate vs. Default Rate by Sub-Grade')\n",
    "plt.legend()  # This adds the legend to the plot\n",
    "\n",
    "# Display the plot\n",
    "plt.show()"
   ]
  },
  {
   "cell_type": "code",
   "execution_count": 23,
   "id": "31e49f36",
   "metadata": {},
   "outputs": [
    {
     "name": "stdout",
     "output_type": "stream",
     "text": [
      "interest rate =  5.216621308807113 + 42.43980704484836 * default rate\n"
     ]
    }
   ],
   "source": [
    "print('interest rate = ', lr.intercept_, '+', lr.coef_[0], '* default rate')"
   ]
  },
  {
   "cell_type": "code",
   "execution_count": 24,
   "id": "d74489a2",
   "metadata": {},
   "outputs": [
    {
     "data": {
      "image/png": "[encoded data removed]",
      "text/plain": [
       "<Figure size 640x480 with 1 Axes>"
      ]
     },
     "metadata": {},
     "output_type": "display_data"
    }
   ],
   "source": [
    "lr = LinearRegression()\n",
    "\n",
    "# Fitting the model (switching x and y)\n",
    "X = df.groupby('sub_grade')['int_rate'].mean().values.reshape(-1, 1)  # Interest rates as X\n",
    "y = df.groupby('sub_grade')['loan_status_bin'].mean().values.reshape(-1, 1)  # Default rates as y\n",
    "\n",
    "lr.fit(X, y)\n",
    "\n",
    "# Making predictions\n",
    "predicted_default_rates = lr.predict(X)\n",
    "\n",
    "plt.scatter(X, y, color='blue', label='Actual data')\n",
    "plt.plot(X, predicted_default_rates, color='red', label='Fitted line')\n",
    "\n",
    "plt.title('Default Rate vs. Interest Rate')\n",
    "plt.xlabel('Interest Rate')\n",
    "plt.ylabel('Default Rate')\n",
    "plt.legend()\n",
    "plt.grid(True)\n",
    "plt.show()"
   ]
  },
  {
   "cell_type": "code",
   "execution_count": 25,
   "id": "35cd22a3",
   "metadata": {},
   "outputs": [
    {
     "name": "stdout",
     "output_type": "stream",
     "text": [
      "Default rate = -0.1186 + 0.0233 * interest rate\n"
     ]
    }
   ],
   "source": [
    "print(f'Default rate = {lr.intercept_[0]:.4f} + {lr.coef_[0][0]:.4f} * interest rate')\n"
   ]
  },
  {
   "cell_type": "markdown",
   "id": "13949e36",
   "metadata": {
    "papermill": {
     "duration": 0.144209,
     "end_time": "2023-01-31T14:11:59.980238",
     "exception": false,
     "start_time": "2023-01-31T14:11:59.836029",
     "status": "completed"
    },
    "tags": []
   },
   "source": [
    "## ✔️ `grade` & `sub_grade`\n"
   ]
  },
  {
   "cell_type": "code",
   "execution_count": 26,
   "id": "70aa69ed",
   "metadata": {
    "execution": {
     "iopub.execute_input": "2023-01-31T14:12:00.270988Z",
     "iopub.status.busy": "2023-01-31T14:12:00.270581Z",
     "iopub.status.idle": "2023-01-31T14:12:00.321055Z",
     "shell.execute_reply": "2023-01-31T14:12:00.319526Z"
    },
    "papermill": {
     "duration": 0.198063,
     "end_time": "2023-01-31T14:12:00.323272",
     "exception": false,
     "start_time": "2023-01-31T14:12:00.125209",
     "status": "completed"
    },
    "tags": []
   },
   "outputs": [
    {
     "name": "stdout",
     "output_type": "stream",
     "text": [
      "loan_status_bin     0     1\n",
      "grade                      \n",
      "A                7.38  7.66\n",
      "B               11.21 11.34\n",
      "C               14.31 14.34\n",
      "D               17.51 17.42\n",
      "E               20.30 20.25\n",
      "F               23.64 23.79\n",
      "G               25.81 26.01\n"
     ]
    },
    {
     "data": {
      "image/png": "[encoded data removed]",
      "text/plain": [
       "<Figure size 1000x800 with 2 Axes>"
      ]
     },
     "metadata": {},
     "output_type": "display_data"
    }
   ],
   "source": [
    "\n",
    "pivot_table = df.pivot_table(values='int_rate', index='grade', columns='loan_status_bin', aggfunc='mean')\n",
    "\n",
    "# Display the pivot table\n",
    "print(pivot_table)\n",
    "# Plotting the heatmap\n",
    "plt.figure(figsize=(10, 8))\n",
    "sns.heatmap(pivot_table, annot=True, cmap='coolwarm', fmt=\".2f\")  # 'fmt' is used to format the numerical values\n",
    "plt.title('Heatmap of Interest Rates by Grade and Loan Status')\n",
    "plt.ylabel('Grade')\n",
    "plt.xlabel('Loan Status')\n",
    "plt.show()\n",
    "\n",
    "# 0 is fully paid, 1 is charged off"
   ]
  },
  {
   "cell_type": "code",
   "execution_count": 27,
   "id": "8a9bf0ca",
   "metadata": {
    "_kg_hide-input": true,
    "execution": {
     "iopub.execute_input": "2023-01-31T14:12:00.612708Z",
     "iopub.status.busy": "2023-01-31T14:12:00.612323Z",
     "iopub.status.idle": "2023-01-31T14:12:00.617403Z",
     "shell.execute_reply": "2023-01-31T14:12:00.616456Z"
    },
    "papermill": {
     "duration": 0.152813,
     "end_time": "2023-01-31T14:12:00.619390",
     "exception": false,
     "start_time": "2023-01-31T14:12:00.466577",
     "status": "completed"
    },
    "tags": []
   },
   "outputs": [
    {
     "data": {
      "image/png": "[encoded data removed]",
      "text/plain": [
       "<Figure size 1000x600 with 1 Axes>"
      ]
     },
     "metadata": {},
     "output_type": "display_data"
    }
   ],
   "source": [
    "import matplotlib.colors as mcolors\n",
    "cmap = mcolors.LinearSegmentedColormap.from_list(\"grade_cmap\", [\"green\", \"yellow\", \"red\"])\n",
    "grades = ['A', 'B', 'C', 'D', 'E', 'F', 'G']\n",
    "colors = cmap(np.linspace(0, 1, len(grades)))\n",
    "palette = dict(zip(grades, colors))\n",
    "sns.set_style(\"whitegrid\")\n",
    "\n",
    "plt.figure(figsize=(10, 6))\n",
    "sns.countplot(x='grade', data=df, palette=palette, order=sorted(df['grade'].unique()), hue='grade', legend=False)\n",
    "plt.title('Distribution of Loan Grades')\n",
    "plt.xlabel('Loan Grade')\n",
    "plt.ylabel('Frequency')\n",
    "plt.show()"
   ]
  },
  {
   "cell_type": "code",
   "execution_count": 28,
   "id": "ae92e2ea",
   "metadata": {
    "_kg_hide-input": true,
    "execution": {
     "iopub.execute_input": "2023-01-31T14:12:00.912199Z",
     "iopub.status.busy": "2023-01-31T14:12:00.911251Z",
     "iopub.status.idle": "2023-01-31T14:12:01.182365Z",
     "shell.execute_reply": "2023-01-31T14:12:01.181421Z"
    },
    "papermill": {
     "duration": 0.418881,
     "end_time": "2023-01-31T14:12:01.184591",
     "exception": false,
     "start_time": "2023-01-31T14:12:00.765710",
     "status": "completed"
    },
    "tags": []
   },
   "outputs": [
    {
     "name": "stderr",
     "output_type": "stream",
     "text": [
      "C:\\Program Files\\KMSpico\\temp\\ipykernel_22948\\1919707860.py:8: FutureWarning: \n",
      "\n",
      "The `ci` parameter is deprecated. Use `errorbar=None` for the same effect.\n",
      "\n",
      "  sns.barplot(x='grade', y='loan_status_bin', data=df, ci=None, palette=palette, order=order)\n",
      "C:\\Program Files\\KMSpico\\temp\\ipykernel_22948\\1919707860.py:8: FutureWarning: \n",
      "\n",
      "Passing `palette` without assigning `hue` is deprecated and will be removed in v0.14.0. Assign the `x` variable to `hue` and set `legend=False` for the same effect.\n",
      "\n",
      "  sns.barplot(x='grade', y='loan_status_bin', data=df, ci=None, palette=palette, order=order)\n"
     ]
    },
    {
     "data": {
      "image/png": "[encoded data removed]",
      "text/plain": [
       "<Figure size 1000x600 with 1 Axes>"
      ]
     },
     "metadata": {},
     "output_type": "display_data"
    }
   ],
   "source": [
    "cmap = mcolors.LinearSegmentedColormap.from_list(\"grade_cmap\", [\"green\", \"yellow\", \"red\"])\n",
    "grades = ['A', 'B', 'C', 'D', 'E', 'F', 'G']\n",
    "order = ['A', 'B', 'C', 'D', 'E', 'F', 'G']\n",
    "colors = cmap(np.linspace(0, 1, len(grades)))\n",
    "palette = dict(zip(grades, colors))\n",
    "sns.set_style(\"whitegrid\")\n",
    "plt.figure(figsize=(10, 6))\n",
    "sns.barplot(x='grade', y='loan_status_bin', data=df, ci=None, palette=palette, order=order)\n",
    "plt.title('Default Rate by Loan Grade')\n",
    "plt.xlabel('Loan Grade')\n",
    "plt.ylabel('Default Rate')\n",
    "plt.show()"
   ]
  },
  {
   "cell_type": "code",
   "execution_count": 29,
   "id": "e214d20d",
   "metadata": {
    "_kg_hide-input": true,
    "execution": {
     "iopub.execute_input": "2023-01-31T14:12:01.472342Z",
     "iopub.status.busy": "2023-01-31T14:12:01.471980Z",
     "iopub.status.idle": "2023-01-31T14:12:01.748800Z",
     "shell.execute_reply": "2023-01-31T14:12:01.747850Z"
    },
    "papermill": {
     "duration": 0.423688,
     "end_time": "2023-01-31T14:12:01.750966",
     "exception": false,
     "start_time": "2023-01-31T14:12:01.327278",
     "status": "completed"
    },
    "tags": []
   },
   "outputs": [
    {
     "data": {
      "image/png": "[encoded data removed]",
      "text/plain": [
       "<Figure size 1000x600 with 1 Axes>"
      ]
     },
     "metadata": {},
     "output_type": "display_data"
    }
   ],
   "source": [
    "# Assuming df is your DataFrame and it contains columns 'grade' and 'loan_status_bin'\n",
    "df['grade'] = pd.Categorical(df['grade'], categories=['A', 'B', 'C', 'D', 'E', 'F', 'G'], ordered=True)\n",
    "\n",
    "# Define two colors for the loan status bins\n",
    "loan_status_colors = {0: 'lightblue', 1: 'red'}  # Customize colors as needed\n",
    "\n",
    "# Create the countplot\n",
    "plt.figure(figsize=(10, 6))\n",
    "sns.countplot(x='grade', hue='loan_status_bin', data=df, palette=loan_status_colors)\n",
    "plt.title('Count of Loans by Grade and Loan Status')\n",
    "plt.xlabel('Loan Grade')\n",
    "plt.ylabel('Number of Loans')\n",
    "plt.legend(title='Loan Status', labels=['Total Count', 'Defaulted'])  # Adjust labels based on your definitions\n",
    "plt.show()"
   ]
  },
  {
   "cell_type": "markdown",
   "id": "9c3ae19c",
   "metadata": {
    "papermill": {
     "duration": 0.153173,
     "end_time": "2023-01-31T14:12:04.977517",
     "exception": false,
     "start_time": "2023-01-31T14:12:04.824344",
     "status": "completed"
    },
    "tags": []
   },
   "source": [
    "# Building Model\n"
   ]
  },
  {
   "cell_type": "code",
   "execution_count": 30,
   "id": "fdef8762",
   "metadata": {
    "_kg_hide-input": true,
    "execution": {
     "iopub.execute_input": "2023-01-31T14:12:05.621553Z",
     "iopub.status.busy": "2023-01-31T14:12:05.621180Z",
     "iopub.status.idle": "2023-01-31T14:12:06.036487Z",
     "shell.execute_reply": "2023-01-31T14:12:06.035534Z"
    },
    "papermill": {
     "duration": 0.565012,
     "end_time": "2023-01-31T14:12:06.038922",
     "exception": false,
     "start_time": "2023-01-31T14:12:05.473910",
     "status": "completed"
    },
    "tags": []
   },
   "outputs": [],
   "source": [
    "import pandas as pd\n",
    "import numpy as np\n",
    "import seaborn as sns\n",
    "from scipy import stats \n",
    "import matplotlib.pyplot as plt\n",
    "import hvplot.pandas\n",
    "\n",
    "from sklearn.model_selection import train_test_split, RandomizedSearchCV\n",
    "from sklearn.preprocessing import MinMaxScaler\n",
    "\n",
    "from sklearn.metrics import (\n",
    "    accuracy_score, confusion_matrix, classification_report, \n",
    "    roc_auc_score, roc_curve, auc,\n",
    "    ConfusionMatrixDisplay\n",
    ")\n",
    "from sklearn.metrics import ConfusionMatrixDisplay, RocCurveDisplay\n",
    "\n",
    "from xgboost import XGBClassifier\n",
    "from sklearn.ensemble import RandomForestClassifier\n",
    "\n",
    "import tensorflow as tf\n",
    "from tensorflow.keras.models import Sequential, Model\n",
    "from tensorflow.keras.layers import Dense, Dropout, BatchNormalization \n",
    "from tensorflow.keras.optimizers import Adam\n",
    "from tensorflow.keras.metrics import AUC\n",
    "\n",
    "pd.set_option('display.float', '{:.2f}'.format)\n",
    "pd.set_option('display.max_columns', 50)\n",
    "pd.set_option('display.max_rows', 50)"
   ]
  },
  {
   "cell_type": "code",
   "execution_count": 31,
   "id": "30c47b54",
   "metadata": {},
   "outputs": [],
   "source": [
    "data = pd.read_csv(\"Datasets\\\\raw data\\\\lending_club_loan.csv\")"
   ]
  },
  {
   "cell_type": "markdown",
   "id": "5c0c81e4",
   "metadata": {},
   "source": [
    "# 🔄 Data PreProcessing\n",
    "\n",
    "**Section Goals:** \n",
    "> - Remove or fill any missing data. \n",
    "> - Remove unnecessary or repetitive features. \n",
    "> - Convert categorical string features to dummy variables."
   ]
  },
  {
   "cell_type": "code",
   "execution_count": 32,
   "id": "8dcc5037",
   "metadata": {},
   "outputs": [],
   "source": [
    "data['loan_status'] = data.loan_status.map({'Fully Paid':1, 'Charged Off':0})"
   ]
  },
  {
   "cell_type": "code",
   "execution_count": 33,
   "id": "c9bd68ab",
   "metadata": {},
   "outputs": [
    {
     "name": "stdout",
     "output_type": "stream",
     "text": [
      "The Length of the data: (396030, 27)\n"
     ]
    }
   ],
   "source": [
    "print(f\"The Length of the data: {data.shape}\")"
   ]
  },
  {
   "cell_type": "code",
   "execution_count": 34,
   "id": "b7733b68",
   "metadata": {},
   "outputs": [
    {
     "name": "stdout",
     "output_type": "stream",
     "text": [
      "'emp_title': number of missing values '22927' ==> '5.789%'\n",
      "'emp_length': number of missing values '18301' ==> '4.621%'\n",
      "'title': number of missing values '1756' ==> '0.443%'\n",
      "'revol_util': number of missing values '276' ==> '0.070%'\n",
      "'mort_acc': number of missing values '37795' ==> '9.543%'\n",
      "'pub_rec_bankruptcies': number of missing values '535' ==> '0.135%'\n"
     ]
    }
   ],
   "source": [
    "for column in data.columns:\n",
    "    if data[column].isna().sum() != 0:\n",
    "        missing = data[column].isna().sum()\n",
    "        portion = (missing / data.shape[0]) * 100\n",
    "        print(f\"'{column}': number of missing values '{missing}' ==> '{portion:.3f}%'\")"
   ]
  },
  {
   "cell_type": "code",
   "execution_count": 35,
   "id": "960aa150",
   "metadata": {},
   "outputs": [
    {
     "data": {
      "text/plain": [
       "173105"
      ]
     },
     "execution_count": 35,
     "metadata": {},
     "output_type": "execute_result"
    }
   ],
   "source": [
    "data.emp_title.nunique()"
   ]
  },
  {
   "cell_type": "code",
   "execution_count": 36,
   "id": "696622af",
   "metadata": {},
   "outputs": [],
   "source": [
    "data.drop('emp_title', axis=1, inplace=True)"
   ]
  },
  {
   "cell_type": "code",
   "execution_count": 37,
   "id": "2596235d",
   "metadata": {},
   "outputs": [
    {
     "data": {
      "text/plain": [
       "array(['10+ years', '4 years', '< 1 year', '6 years', '9 years',\n",
       "       '2 years', '3 years', '8 years', '7 years', '5 years', '1 year',\n",
       "       nan], dtype=object)"
      ]
     },
     "execution_count": 37,
     "metadata": {},
     "output_type": "execute_result"
    }
   ],
   "source": [
    "data.emp_length.unique()"
   ]
  },
  {
   "cell_type": "code",
   "execution_count": 38,
   "id": "74bf2b1e",
   "metadata": {
    "execution": {
     "iopub.execute_input": "2023-01-31T14:12:06.335754Z",
     "iopub.status.busy": "2023-01-31T14:12:06.334576Z",
     "iopub.status.idle": "2023-01-31T14:12:06.424596Z",
     "shell.execute_reply": "2023-01-31T14:12:06.423659Z"
    },
    "papermill": {
     "duration": 0.240425,
     "end_time": "2023-01-31T14:12:06.426982",
     "exception": false,
     "start_time": "2023-01-31T14:12:06.186557",
     "status": "completed"
    },
    "tags": []
   },
   "outputs": [
    {
     "name": "stdout",
     "output_type": "stream",
     "text": [
      "10+ years years in this position:\n",
      "loan_status\n",
      "1   0.82\n",
      "0   0.18\n",
      "Name: proportion, dtype: float64\n",
      "4 years years in this position:\n",
      "loan_status\n",
      "1   0.81\n",
      "0   0.19\n",
      "Name: proportion, dtype: float64\n",
      "< 1 year years in this position:\n",
      "loan_status\n",
      "1   0.79\n",
      "0   0.21\n",
      "Name: proportion, dtype: float64\n",
      "6 years years in this position:\n",
      "loan_status\n",
      "1   0.81\n",
      "0   0.19\n",
      "Name: proportion, dtype: float64\n",
      "9 years years in this position:\n",
      "loan_status\n",
      "1   0.80\n",
      "0   0.20\n",
      "Name: proportion, dtype: float64\n",
      "2 years years in this position:\n",
      "loan_status\n",
      "1   0.81\n",
      "0   0.19\n",
      "Name: proportion, dtype: float64\n",
      "3 years years in this position:\n",
      "loan_status\n",
      "1   0.80\n",
      "0   0.20\n",
      "Name: proportion, dtype: float64\n",
      "8 years years in this position:\n",
      "loan_status\n",
      "1   0.80\n",
      "0   0.20\n",
      "Name: proportion, dtype: float64\n",
      "7 years years in this position:\n",
      "loan_status\n",
      "1   0.81\n",
      "0   0.19\n",
      "Name: proportion, dtype: float64\n",
      "5 years years in this position:\n",
      "loan_status\n",
      "1   0.81\n",
      "0   0.19\n",
      "Name: proportion, dtype: float64\n",
      "1 year years in this position:\n",
      "loan_status\n",
      "1   0.80\n",
      "0   0.20\n",
      "Name: proportion, dtype: float64\n",
      "nan years in this position:\n",
      "Series([], Name: proportion, dtype: float64)\n"
     ]
    }
   ],
   "source": [
    "for year in data.emp_length.unique():\n",
    "    print(f\"{year} years in this position:\")\n",
    "    print(f\"{data[data.emp_length == year].loan_status.value_counts(normalize=True)}\")"
   ]
  },
  {
   "cell_type": "code",
   "execution_count": 39,
   "id": "fca3149d",
   "metadata": {
    "execution": {
     "iopub.execute_input": "2023-01-31T14:12:06.721182Z",
     "iopub.status.busy": "2023-01-31T14:12:06.720805Z",
     "iopub.status.idle": "2023-01-31T14:12:08.973871Z",
     "shell.execute_reply": "2023-01-31T14:12:08.971578Z"
    },
    "papermill": {
     "duration": 2.402818,
     "end_time": "2023-01-31T14:12:08.976597",
     "exception": false,
     "start_time": "2023-01-31T14:12:06.573779",
     "status": "completed"
    },
    "tags": []
   },
   "outputs": [],
   "source": [
    "data.drop('emp_length', axis=1, inplace=True)"
   ]
  },
  {
   "cell_type": "code",
   "execution_count": 40,
   "id": "b2ed0e02",
   "metadata": {
    "execution": {
     "iopub.execute_input": "2023-01-31T14:12:09.290990Z",
     "iopub.status.busy": "2023-01-31T14:12:09.290604Z",
     "iopub.status.idle": "2023-01-31T14:12:09.320869Z",
     "shell.execute_reply": "2023-01-31T14:12:09.319562Z"
    },
    "papermill": {
     "duration": 0.177802,
     "end_time": "2023-01-31T14:12:09.322848",
     "exception": false,
     "start_time": "2023-01-31T14:12:09.145046",
     "status": "completed"
    },
    "tags": []
   },
   "outputs": [
    {
     "data": {
      "text/plain": [
       "title\n",
       "Debt consolidation         152472\n",
       "Credit card refinancing     51487\n",
       "Home improvement            15264\n",
       "Other                       12930\n",
       "Debt Consolidation          11608\n",
       "Name: count, dtype: int64"
      ]
     },
     "execution_count": 40,
     "metadata": {},
     "output_type": "execute_result"
    }
   ],
   "source": [
    "data.title.value_counts().head()"
   ]
  },
  {
   "cell_type": "code",
   "execution_count": 41,
   "id": "731b9dfc",
   "metadata": {
    "_kg_hide-input": true,
    "execution": {
     "iopub.execute_input": "2023-01-31T14:12:09.909900Z",
     "iopub.status.busy": "2023-01-31T14:12:09.909218Z",
     "iopub.status.idle": "2023-01-31T14:12:10.857398Z",
     "shell.execute_reply": "2023-01-31T14:12:10.856447Z"
    },
    "papermill": {
     "duration": 1.099592,
     "end_time": "2023-01-31T14:12:10.859758",
     "exception": false,
     "start_time": "2023-01-31T14:12:09.760166",
     "status": "completed"
    },
    "tags": []
   },
   "outputs": [
    {
     "data": {
      "text/plain": [
       "purpose\n",
       "debt_consolidation    234507\n",
       "credit_card            83019\n",
       "home_improvement       24030\n",
       "other                  21185\n",
       "major_purchase          8790\n",
       "Name: count, dtype: int64"
      ]
     },
     "execution_count": 41,
     "metadata": {},
     "output_type": "execute_result"
    }
   ],
   "source": [
    "data.purpose.value_counts().head()"
   ]
  },
  {
   "cell_type": "code",
   "execution_count": 42,
   "id": "7f7a85b1",
   "metadata": {
    "_kg_hide-input": true,
    "execution": {
     "iopub.execute_input": "2023-01-31T14:12:11.156771Z",
     "iopub.status.busy": "2023-01-31T14:12:11.154957Z",
     "iopub.status.idle": "2023-01-31T14:12:11.728880Z",
     "shell.execute_reply": "2023-01-31T14:12:11.727767Z"
    },
    "papermill": {
     "duration": 0.724907,
     "end_time": "2023-01-31T14:12:11.731917",
     "exception": false,
     "start_time": "2023-01-31T14:12:11.007010",
     "status": "completed"
    },
    "tags": []
   },
   "outputs": [],
   "source": [
    "data.drop('title', axis=1, inplace=True)"
   ]
  },
  {
   "cell_type": "code",
   "execution_count": 43,
   "id": "d4725db8",
   "metadata": {
    "execution": {
     "iopub.execute_input": "2023-01-31T14:12:12.026158Z",
     "iopub.status.busy": "2023-01-31T14:12:12.025788Z",
     "iopub.status.idle": "2023-01-31T14:12:12.042068Z",
     "shell.execute_reply": "2023-01-31T14:12:12.040486Z"
    },
    "papermill": {
     "duration": 0.16509,
     "end_time": "2023-01-31T14:12:12.044742",
     "exception": false,
     "start_time": "2023-01-31T14:12:11.879652",
     "status": "completed"
    },
    "tags": []
   },
   "outputs": [
    {
     "data": {
      "text/plain": [
       "mort_acc\n",
       "0.00     139777\n",
       "1.00      60416\n",
       "2.00      49948\n",
       "3.00      38049\n",
       "4.00      27887\n",
       "5.00      18194\n",
       "6.00      11069\n",
       "7.00       6052\n",
       "8.00       3121\n",
       "9.00       1656\n",
       "10.00       865\n",
       "11.00       479\n",
       "12.00       264\n",
       "13.00       146\n",
       "14.00       107\n",
       "15.00        61\n",
       "16.00        37\n",
       "17.00        22\n",
       "18.00        18\n",
       "19.00        15\n",
       "20.00        13\n",
       "24.00        10\n",
       "22.00         7\n",
       "21.00         4\n",
       "25.00         4\n",
       "27.00         3\n",
       "32.00         2\n",
       "31.00         2\n",
       "23.00         2\n",
       "26.00         2\n",
       "28.00         1\n",
       "30.00         1\n",
       "34.00         1\n",
       "Name: count, dtype: int64"
      ]
     },
     "execution_count": 43,
     "metadata": {},
     "output_type": "execute_result"
    }
   ],
   "source": [
    "data.mort_acc.value_counts()"
   ]
  },
  {
   "cell_type": "code",
   "execution_count": 44,
   "id": "a3f7b968",
   "metadata": {
    "execution": {
     "iopub.execute_input": "2023-01-31T14:12:37.891616Z",
     "iopub.status.busy": "2023-01-31T14:12:37.891224Z",
     "iopub.status.idle": "2023-01-31T14:12:37.896477Z",
     "shell.execute_reply": "2023-01-31T14:12:37.895493Z"
    },
    "papermill": {
     "duration": 0.166246,
     "end_time": "2023-01-31T14:12:37.899194",
     "exception": false,
     "start_time": "2023-01-31T14:12:37.732948",
     "status": "completed"
    },
    "tags": []
   },
   "outputs": [
    {
     "data": {
      "text/plain": [
       "37795"
      ]
     },
     "execution_count": 44,
     "metadata": {},
     "output_type": "execute_result"
    }
   ],
   "source": [
    "data.mort_acc.isna().sum()"
   ]
  },
  {
   "cell_type": "code",
   "execution_count": 45,
   "id": "3a5120f0",
   "metadata": {
    "execution": {
     "iopub.execute_input": "2023-01-31T14:12:38.208077Z",
     "iopub.status.busy": "2023-01-31T14:12:38.207044Z",
     "iopub.status.idle": "2023-01-31T14:12:38.418885Z",
     "shell.execute_reply": "2023-01-31T14:12:38.417592Z"
    },
    "papermill": {
     "duration": 0.369849,
     "end_time": "2023-01-31T14:12:38.421013",
     "exception": false,
     "start_time": "2023-01-31T14:12:38.051164",
     "status": "completed"
    },
    "tags": []
   },
   "outputs": [],
   "source": [
    "# Convert 'mort_acc' to a numeric data type, coercing errors to NaN\n",
    "data['mort_acc'] = pd.to_numeric(data['mort_acc'], errors='coerce')\n",
    "\n",
    "# Optionally, handle missing values by filling them or dropping them\n",
    "# data['mort_acc'] = data['mort_acc'].fillna(0) # Example: Fill missing values with 0\n",
    "\n",
    "# Now calculate the mean of 'mort_acc' grouped by 'total_acc'\n",
    "total_acc_avg = data.groupby('total_acc')['mort_acc'].mean()\n",
    "\n",
    "# To fill missing 'mort_acc' based on the averages by 'total_acc'\n",
    "data['mort_acc'] = data.apply(\n",
    "    lambda row: total_acc_avg[row['total_acc']] if pd.isnull(row['mort_acc']) else row['mort_acc'],\n",
    "    axis=1\n",
    ")"
   ]
  },
  {
   "cell_type": "code",
   "execution_count": 46,
   "id": "31fff0c5",
   "metadata": {
    "execution": {
     "iopub.execute_input": "2023-01-31T14:12:39.041691Z",
     "iopub.status.busy": "2023-01-31T14:12:39.041315Z",
     "iopub.status.idle": "2023-01-31T14:12:39.107185Z",
     "shell.execute_reply": "2023-01-31T14:12:39.106047Z"
    },
    "papermill": {
     "duration": 0.225569,
     "end_time": "2023-01-31T14:12:39.109800",
     "exception": false,
     "start_time": "2023-01-31T14:12:38.884231",
     "status": "completed"
    },
    "tags": []
   },
   "outputs": [],
   "source": [
    "def fill_mort_acc(total_acc, mort_acc):\n",
    "    if np.isnan(mort_acc):\n",
    "        return total_acc_avg[total_acc].round()\n",
    "    else:\n",
    "        return mort_acc"
   ]
  },
  {
   "cell_type": "code",
   "execution_count": 47,
   "id": "4e69498c",
   "metadata": {
    "execution": {
     "iopub.execute_input": "2023-01-31T14:12:39.733271Z",
     "iopub.status.busy": "2023-01-31T14:12:39.732764Z",
     "iopub.status.idle": "2023-01-31T14:12:39.823678Z",
     "shell.execute_reply": "2023-01-31T14:12:39.822304Z"
    },
    "papermill": {
     "duration": 0.253402,
     "end_time": "2023-01-31T14:12:39.826253",
     "exception": false,
     "start_time": "2023-01-31T14:12:39.572851",
     "status": "completed"
    },
    "tags": []
   },
   "outputs": [],
   "source": [
    "data['mort_acc'] = data.apply(lambda x: fill_mort_acc(x['total_acc'], x['mort_acc']), axis=1)"
   ]
  },
  {
   "cell_type": "code",
   "execution_count": 48,
   "id": "d1109872",
   "metadata": {
    "execution": {
     "iopub.execute_input": "2023-01-31T14:12:40.511490Z",
     "iopub.status.busy": "2023-01-31T14:12:40.511130Z",
     "iopub.status.idle": "2023-01-31T14:12:40.536770Z",
     "shell.execute_reply": "2023-01-31T14:12:40.535787Z"
    },
    "papermill": {
     "duration": 0.18835,
     "end_time": "2023-01-31T14:12:40.538845",
     "exception": false,
     "start_time": "2023-01-31T14:12:40.350495",
     "status": "completed"
    },
    "tags": []
   },
   "outputs": [
    {
     "name": "stdout",
     "output_type": "stream",
     "text": [
      "'revol_util': number of missing values '276' ==> '0.070%'\n",
      "'pub_rec_bankruptcies': number of missing values '535' ==> '0.135%'\n"
     ]
    }
   ],
   "source": [
    "for column in data.columns:\n",
    "    if data[column].isna().sum() != 0:\n",
    "        missing = data[column].isna().sum()\n",
    "        portion = (missing / data.shape[0]) * 100\n",
    "        print(f\"'{column}': number of missing values '{missing}' ==> '{portion:.3f}%'\")"
   ]
  },
  {
   "cell_type": "code",
   "execution_count": 49,
   "id": "d7555668",
   "metadata": {
    "execution": {
     "iopub.execute_input": "2023-01-31T14:12:40.853484Z",
     "iopub.status.busy": "2023-01-31T14:12:40.852478Z",
     "iopub.status.idle": "2023-01-31T14:12:41.357523Z",
     "shell.execute_reply": "2023-01-31T14:12:41.356169Z"
    },
    "papermill": {
     "duration": 0.666708,
     "end_time": "2023-01-31T14:12:41.359726",
     "exception": false,
     "start_time": "2023-01-31T14:12:40.693018",
     "status": "completed"
    },
    "tags": []
   },
   "outputs": [],
   "source": [
    "data.dropna(inplace=True)"
   ]
  },
  {
   "cell_type": "code",
   "execution_count": 50,
   "id": "08cd74d5",
   "metadata": {
    "execution": {
     "iopub.execute_input": "2023-01-31T14:12:42.216196Z",
     "iopub.status.busy": "2023-01-31T14:12:42.214985Z",
     "iopub.status.idle": "2023-01-31T14:12:42.301892Z",
     "shell.execute_reply": "2023-01-31T14:12:42.300870Z"
    },
    "papermill": {
     "duration": 0.253314,
     "end_time": "2023-01-31T14:12:42.304445",
     "exception": false,
     "start_time": "2023-01-31T14:12:42.051131",
     "status": "completed"
    },
    "tags": []
   },
   "outputs": [],
   "source": [
    "data.dropna(inplace=True)"
   ]
  },
  {
   "cell_type": "code",
   "execution_count": 51,
   "id": "3b66695f",
   "metadata": {
    "execution": {
     "iopub.execute_input": "2023-01-31T14:12:42.936415Z",
     "iopub.status.busy": "2023-01-31T14:12:42.936036Z",
     "iopub.status.idle": "2023-01-31T14:12:42.986007Z",
     "shell.execute_reply": "2023-01-31T14:12:42.984879Z"
    },
    "papermill": {
     "duration": 0.207784,
     "end_time": "2023-01-31T14:12:42.988632",
     "exception": false,
     "start_time": "2023-01-31T14:12:42.780848",
     "status": "completed"
    },
    "tags": []
   },
   "outputs": [
    {
     "data": {
      "text/plain": [
       "(395219, 24)"
      ]
     },
     "execution_count": 51,
     "metadata": {},
     "output_type": "execute_result"
    }
   ],
   "source": [
    "data.shape"
   ]
  },
  {
   "cell_type": "code",
   "execution_count": 52,
   "id": "9e41c72a",
   "metadata": {
    "execution": {
     "iopub.execute_input": "2023-01-31T14:12:43.299107Z",
     "iopub.status.busy": "2023-01-31T14:12:43.298021Z",
     "iopub.status.idle": "2023-01-31T14:12:43.325665Z",
     "shell.execute_reply": "2023-01-31T14:12:43.324658Z"
    },
    "papermill": {
     "duration": 0.184422,
     "end_time": "2023-01-31T14:12:43.327767",
     "exception": false,
     "start_time": "2023-01-31T14:12:43.143345",
     "status": "completed"
    },
    "tags": []
   },
   "outputs": [
    {
     "name": "stdout",
     "output_type": "stream",
     "text": [
      "['term', 'grade', 'sub_grade', 'home_ownership', 'verification_status', 'issue_d', 'purpose', 'earliest_cr_line', 'initial_list_status', 'application_type', 'address']\n"
     ]
    }
   ],
   "source": [
    "print([column for column in data.columns if data[column].dtype == object])"
   ]
  },
  {
   "cell_type": "code",
   "execution_count": 53,
   "id": "87222d20",
   "metadata": {
    "execution": {
     "iopub.execute_input": "2023-01-31T14:12:43.955316Z",
     "iopub.status.busy": "2023-01-31T14:12:43.954293Z",
     "iopub.status.idle": "2023-01-31T14:12:44.029021Z",
     "shell.execute_reply": "2023-01-31T14:12:44.027978Z"
    },
    "papermill": {
     "duration": 0.232715,
     "end_time": "2023-01-31T14:12:44.031617",
     "exception": false,
     "start_time": "2023-01-31T14:12:43.798902",
     "status": "completed"
    },
    "tags": []
   },
   "outputs": [
    {
     "data": {
      "text/plain": [
       "array([' 36 months', ' 60 months'], dtype=object)"
      ]
     },
     "execution_count": 53,
     "metadata": {},
     "output_type": "execute_result"
    }
   ],
   "source": [
    "data.term.unique()"
   ]
  },
  {
   "cell_type": "code",
   "execution_count": 54,
   "id": "41a0c87b",
   "metadata": {
    "execution": {
     "iopub.execute_input": "2023-01-31T14:12:44.655052Z",
     "iopub.status.busy": "2023-01-31T14:12:44.653060Z",
     "iopub.status.idle": "2023-01-31T14:12:44.667971Z",
     "shell.execute_reply": "2023-01-31T14:12:44.666899Z"
    },
    "papermill": {
     "duration": 0.175319,
     "end_time": "2023-01-31T14:12:44.670092",
     "exception": false,
     "start_time": "2023-01-31T14:12:44.494773",
     "status": "completed"
    },
    "tags": []
   },
   "outputs": [],
   "source": [
    "term_values = {' 36 months': 36, ' 60 months': 60}\n",
    "data['term'] = data.term.map(term_values)"
   ]
  },
  {
   "cell_type": "code",
   "execution_count": 55,
   "id": "891733d8",
   "metadata": {
    "execution": {
     "iopub.execute_input": "2023-01-31T14:12:44.983451Z",
     "iopub.status.busy": "2023-01-31T14:12:44.983069Z",
     "iopub.status.idle": "2023-01-31T14:12:44.991441Z",
     "shell.execute_reply": "2023-01-31T14:12:44.990258Z"
    },
    "papermill": {
     "duration": 0.166463,
     "end_time": "2023-01-31T14:12:44.993460",
     "exception": false,
     "start_time": "2023-01-31T14:12:44.826997",
     "status": "completed"
    },
    "tags": []
   },
   "outputs": [
    {
     "data": {
      "text/plain": [
       "array([36, 60], dtype=int64)"
      ]
     },
     "execution_count": 55,
     "metadata": {},
     "output_type": "execute_result"
    }
   ],
   "source": [
    "data.term.unique()"
   ]
  },
  {
   "cell_type": "code",
   "execution_count": 56,
   "id": "2bc0905e",
   "metadata": {
    "execution": {
     "iopub.execute_input": "2023-01-31T14:12:45.307361Z",
     "iopub.status.busy": "2023-01-31T14:12:45.306247Z",
     "iopub.status.idle": "2023-01-31T14:12:45.608851Z",
     "shell.execute_reply": "2023-01-31T14:12:45.607758Z"
    },
    "papermill": {
     "duration": 0.462107,
     "end_time": "2023-01-31T14:12:45.611758",
     "exception": false,
     "start_time": "2023-01-31T14:12:45.149651",
     "status": "completed"
    },
    "tags": []
   },
   "outputs": [],
   "source": [
    "data.drop('grade', axis=1, inplace=True)"
   ]
  },
  {
   "cell_type": "code",
   "execution_count": 57,
   "id": "655aa19d",
   "metadata": {
    "execution": {
     "iopub.execute_input": "2023-01-31T14:12:46.237863Z",
     "iopub.status.busy": "2023-01-31T14:12:46.237469Z",
     "iopub.status.idle": "2023-01-31T14:12:46.332340Z",
     "shell.execute_reply": "2023-01-31T14:12:46.331345Z"
    },
    "papermill": {
     "duration": 0.253754,
     "end_time": "2023-01-31T14:12:46.335011",
     "exception": false,
     "start_time": "2023-01-31T14:12:46.081257",
     "status": "completed"
    },
    "tags": []
   },
   "outputs": [],
   "source": [
    "dummies = ['sub_grade', 'verification_status', 'purpose', 'initial_list_status', \n",
    "           'application_type', 'home_ownership']\n",
    "data = pd.get_dummies(data, columns=dummies, drop_first=True)"
   ]
  },
  {
   "cell_type": "code",
   "execution_count": 58,
   "id": "b117359c",
   "metadata": {
    "execution": {
     "iopub.execute_input": "2023-01-31T14:12:46.654049Z",
     "iopub.status.busy": "2023-01-31T14:12:46.651882Z",
     "iopub.status.idle": "2023-01-31T14:12:46.658992Z",
     "shell.execute_reply": "2023-01-31T14:12:46.657913Z"
    },
    "papermill": {
     "duration": 0.16887,
     "end_time": "2023-01-31T14:12:46.660980",
     "exception": false,
     "start_time": "2023-01-31T14:12:46.492110",
     "status": "completed"
    },
    "tags": []
   },
   "outputs": [
    {
     "data": {
      "text/plain": [
       "0       0174 Michelle Gateway\\r\\nMendozaberg, OK 22690\n",
       "1    1076 Carney Fort Apt. 347\\r\\nLoganmouth, SD 05113\n",
       "2    87025 Mark Dale Apt. 269\\r\\nNew Sabrina, WV 05113\n",
       "3              823 Reid Ford\\r\\nDelacruzside, MA 00813\n",
       "4               679 Luna Roads\\r\\nGreggshire, VA 11650\n",
       "Name: address, dtype: object"
      ]
     },
     "execution_count": 58,
     "metadata": {},
     "output_type": "execute_result"
    }
   ],
   "source": [
    "data.address.head()"
   ]
  },
  {
   "cell_type": "code",
   "execution_count": 59,
   "id": "75bb4c76",
   "metadata": {
    "execution": {
     "iopub.execute_input": "2023-01-31T14:12:46.991455Z",
     "iopub.status.busy": "2023-01-31T14:12:46.990863Z",
     "iopub.status.idle": "2023-01-31T14:12:57.341490Z",
     "shell.execute_reply": "2023-01-31T14:12:57.340452Z"
    },
    "papermill": {
     "duration": 10.520365,
     "end_time": "2023-01-31T14:12:57.343915",
     "exception": false,
     "start_time": "2023-01-31T14:12:46.823550",
     "status": "completed"
    },
    "tags": []
   },
   "outputs": [],
   "source": [
    "data['zip_code'] = data.address.apply(lambda x: x[-5:])"
   ]
  },
  {
   "cell_type": "code",
   "execution_count": 60,
   "id": "4752a829",
   "metadata": {
    "execution": {
     "iopub.execute_input": "2023-01-31T14:12:57.973866Z",
     "iopub.status.busy": "2023-01-31T14:12:57.973485Z",
     "iopub.status.idle": "2023-01-31T14:12:58.107244Z",
     "shell.execute_reply": "2023-01-31T14:12:58.106190Z"
    },
    "papermill": {
     "duration": 0.2977,
     "end_time": "2023-01-31T14:12:58.109603",
     "exception": false,
     "start_time": "2023-01-31T14:12:57.811903",
     "status": "completed"
    },
    "tags": []
   },
   "outputs": [
    {
     "data": {
      "text/plain": [
       "zip_code\n",
       "70466    56880\n",
       "22690    56413\n",
       "30723    56402\n",
       "48052    55811\n",
       "00813    45725\n",
       "29597    45393\n",
       "05113    45300\n",
       "11650    11210\n",
       "93700    11126\n",
       "86630    10959\n",
       "Name: count, dtype: int64"
      ]
     },
     "execution_count": 60,
     "metadata": {},
     "output_type": "execute_result"
    }
   ],
   "source": [
    "data.zip_code.value_counts()"
   ]
  },
  {
   "cell_type": "code",
   "execution_count": 61,
   "id": "38ed484b",
   "metadata": {
    "execution": {
     "iopub.execute_input": "2023-01-31T14:12:58.425005Z",
     "iopub.status.busy": "2023-01-31T14:12:58.424030Z",
     "iopub.status.idle": "2023-01-31T14:12:58.632168Z",
     "shell.execute_reply": "2023-01-31T14:12:58.631141Z"
    },
    "papermill": {
     "duration": 0.369642,
     "end_time": "2023-01-31T14:12:58.634630",
     "exception": false,
     "start_time": "2023-01-31T14:12:58.264988",
     "status": "completed"
    },
    "tags": []
   },
   "outputs": [],
   "source": [
    "data = pd.get_dummies(data, columns=['zip_code'], drop_first=True)"
   ]
  },
  {
   "cell_type": "code",
   "execution_count": 62,
   "id": "2451fc01",
   "metadata": {
    "execution": {
     "iopub.execute_input": "2023-01-31T14:12:58.947973Z",
     "iopub.status.busy": "2023-01-31T14:12:58.947619Z",
     "iopub.status.idle": "2023-01-31T14:12:58.953981Z",
     "shell.execute_reply": "2023-01-31T14:12:58.953057Z"
    },
    "papermill": {
     "duration": 0.167537,
     "end_time": "2023-01-31T14:12:58.956153",
     "exception": false,
     "start_time": "2023-01-31T14:12:58.788616",
     "status": "completed"
    },
    "tags": []
   },
   "outputs": [],
   "source": [
    "data.drop('address', axis=1, inplace=True)"
   ]
  },
  {
   "cell_type": "code",
   "execution_count": 63,
   "id": "157b0699",
   "metadata": {
    "execution": {
     "iopub.execute_input": "2023-01-31T14:13:00.218650Z",
     "iopub.status.busy": "2023-01-31T14:13:00.217514Z",
     "iopub.status.idle": "2023-01-31T14:13:00.247794Z",
     "shell.execute_reply": "2023-01-31T14:13:00.246722Z"
    },
    "papermill": {
     "duration": 0.189848,
     "end_time": "2023-01-31T14:13:00.249831",
     "exception": false,
     "start_time": "2023-01-31T14:13:00.059983",
     "status": "completed"
    },
    "tags": []
   },
   "outputs": [],
   "source": [
    "data.drop('issue_d', axis=1, inplace=True)"
   ]
  },
  {
   "cell_type": "code",
   "execution_count": 64,
   "id": "b9a04988",
   "metadata": {
    "execution": {
     "iopub.execute_input": "2023-01-31T14:13:00.563186Z",
     "iopub.status.busy": "2023-01-31T14:13:00.562474Z",
     "iopub.status.idle": "2023-01-31T14:13:00.639156Z",
     "shell.execute_reply": "2023-01-31T14:13:00.638136Z"
    },
    "papermill": {
     "duration": 0.236028,
     "end_time": "2023-01-31T14:13:00.641761",
     "exception": false,
     "start_time": "2023-01-31T14:13:00.405733",
     "status": "completed"
    },
    "tags": []
   },
   "outputs": [
    {
     "name": "stderr",
     "output_type": "stream",
     "text": [
      "C:\\Program Files\\KMSpico\\temp\\ipykernel_22948\\2863815111.py:2: UserWarning: Could not infer format, so each element will be parsed individually, falling back to `dateutil`. To ensure parsing is consistent and as-expected, please specify a format.\n",
      "  data['earliest_cr_line'] = pd.to_datetime(data['earliest_cr_line'], errors='coerce')\n"
     ]
    }
   ],
   "source": [
    "# Convert 'earliest_cr_line' to datetime format\n",
    "data['earliest_cr_line'] = pd.to_datetime(data['earliest_cr_line'], errors='coerce')\n",
    "\n",
    "# Extract the year from the datetime\n",
    "data['earliest_cr_line_year'] = data['earliest_cr_line'].dt.year"
   ]
  },
  {
   "cell_type": "code",
   "execution_count": 65,
   "id": "49aece5a",
   "metadata": {
    "execution": {
     "iopub.execute_input": "2023-01-31T14:13:00.954842Z",
     "iopub.status.busy": "2023-01-31T14:13:00.953804Z",
     "iopub.status.idle": "2023-01-31T14:13:00.962843Z",
     "shell.execute_reply": "2023-01-31T14:13:00.961854Z"
    },
    "papermill": {
     "duration": 0.167665,
     "end_time": "2023-01-31T14:13:00.964868",
     "exception": false,
     "start_time": "2023-01-31T14:13:00.797203",
     "status": "completed"
    },
    "tags": []
   },
   "outputs": [],
   "source": [
    "data['earliest_cr_line'] = data.earliest_cr_line.dt.year\n"
   ]
  },
  {
   "cell_type": "code",
   "execution_count": 66,
   "id": "ad383419",
   "metadata": {
    "execution": {
     "iopub.execute_input": "2023-01-31T14:13:01.592535Z",
     "iopub.status.busy": "2023-01-31T14:13:01.591599Z",
     "iopub.status.idle": "2023-01-31T14:13:01.656733Z",
     "shell.execute_reply": "2023-01-31T14:13:01.655753Z"
    },
    "papermill": {
     "duration": 0.225278,
     "end_time": "2023-01-31T14:13:01.659576",
     "exception": false,
     "start_time": "2023-01-31T14:13:01.434298",
     "status": "completed"
    },
    "tags": []
   },
   "outputs": [
    {
     "data": {
      "text/plain": [
       "65"
      ]
     },
     "execution_count": 66,
     "metadata": {},
     "output_type": "execute_result"
    }
   ],
   "source": [
    "data.earliest_cr_line.nunique()\n"
   ]
  },
  {
   "cell_type": "code",
   "execution_count": 67,
   "id": "2439e9cb",
   "metadata": {
    "execution": {
     "iopub.execute_input": "2023-01-31T14:13:01.975911Z",
     "iopub.status.busy": "2023-01-31T14:13:01.975534Z",
     "iopub.status.idle": "2023-01-31T14:13:02.318893Z",
     "shell.execute_reply": "2023-01-31T14:13:02.317872Z"
    },
    "papermill": {
     "duration": 0.50391,
     "end_time": "2023-01-31T14:13:02.321337",
     "exception": false,
     "start_time": "2023-01-31T14:13:01.817427",
     "status": "completed"
    },
    "tags": []
   },
   "outputs": [
    {
     "data": {
      "text/plain": [
       "earliest_cr_line\n",
       "2000    29302\n",
       "2001    29031\n",
       "1999    26444\n",
       "2002    25849\n",
       "2003    23623\n",
       "        ...  \n",
       "1951        3\n",
       "1950        3\n",
       "1953        2\n",
       "1944        1\n",
       "1948        1\n",
       "Name: count, Length: 65, dtype: int64"
      ]
     },
     "execution_count": 67,
     "metadata": {},
     "output_type": "execute_result"
    }
   ],
   "source": [
    "data.earliest_cr_line.value_counts()"
   ]
  },
  {
   "cell_type": "code",
   "execution_count": 68,
   "id": "e9b015fc",
   "metadata": {
    "execution": {
     "iopub.execute_input": "2023-01-31T14:13:03.111792Z",
     "iopub.status.busy": "2023-01-31T14:13:03.111236Z",
     "iopub.status.idle": "2023-01-31T14:13:03.119932Z",
     "shell.execute_reply": "2023-01-31T14:13:03.118991Z"
    },
    "papermill": {
     "duration": 0.177794,
     "end_time": "2023-01-31T14:13:03.121926",
     "exception": false,
     "start_time": "2023-01-31T14:13:02.944132",
     "status": "completed"
    },
    "tags": []
   },
   "outputs": [],
   "source": [
    "data.drop('earliest_cr_line', axis=1, inplace=True)\n"
   ]
  },
  {
   "cell_type": "code",
   "execution_count": 69,
   "id": "3cc3188b",
   "metadata": {
    "execution": {
     "iopub.execute_input": "2023-01-31T14:13:03.458992Z",
     "iopub.status.busy": "2023-01-31T14:13:03.458459Z",
     "iopub.status.idle": "2023-01-31T14:13:03.641611Z",
     "shell.execute_reply": "2023-01-31T14:13:03.628414Z"
    },
    "papermill": {
     "duration": 0.362285,
     "end_time": "2023-01-31T14:13:03.644153",
     "exception": false,
     "start_time": "2023-01-31T14:13:03.281868",
     "status": "completed"
    },
    "tags": []
   },
   "outputs": [
    {
     "name": "stdout",
     "output_type": "stream",
     "text": [
      "Data shape: (395219, 81)\n",
      "Data shape: (395219, 81)\n"
     ]
    }
   ],
   "source": [
    "print(f\"Data shape: {data.shape}\")\n",
    "\n",
    "## Remove duplicate Features\n",
    "data = data.T.drop_duplicates()\n",
    "data = data.T\n",
    "\n",
    "# # Remove Duplicate Rows\n",
    "data.drop_duplicates(inplace=True)\n",
    "\n",
    "print(f\"Data shape: {data.shape}\")"
   ]
  },
  {
   "cell_type": "code",
   "execution_count": 70,
   "id": "8a04d628",
   "metadata": {
    "execution": {
     "iopub.execute_input": "2023-01-31T14:13:04.068331Z",
     "iopub.status.busy": "2023-01-31T14:13:04.067955Z",
     "iopub.status.idle": "2023-01-31T14:13:04.103983Z",
     "shell.execute_reply": "2023-01-31T14:13:04.102946Z"
    },
    "papermill": {
     "duration": 0.238062,
     "end_time": "2023-01-31T14:13:04.105979",
     "exception": false,
     "start_time": "2023-01-31T14:13:03.867917",
     "status": "completed"
    },
    "tags": []
   },
   "outputs": [
    {
     "name": "stdout",
     "output_type": "stream",
     "text": [
      "Weight of positive values 0.8038479931379817\n",
      "Weight of negative values 0.19615200686201828\n"
     ]
    }
   ],
   "source": [
    "# Calculate the weights using iloc for positional indexing\n",
    "w_p = data['loan_status'].value_counts().iloc[0] / data.shape[0]\n",
    "w_n = data['loan_status'].value_counts().iloc[1] / data.shape[0]\n",
    "\n",
    "print(f\"Weight of positive values {w_p}\")\n",
    "print(f\"Weight of negative values {w_n}\")"
   ]
  },
  {
   "cell_type": "code",
   "execution_count": 71,
   "id": "dee694da",
   "metadata": {
    "execution": {
     "iopub.execute_input": "2023-01-31T14:13:04.419130Z",
     "iopub.status.busy": "2023-01-31T14:13:04.418140Z",
     "iopub.status.idle": "2023-01-31T14:13:04.601909Z",
     "shell.execute_reply": "2023-01-31T14:13:04.600917Z"
    },
    "papermill": {
     "duration": 0.34409,
     "end_time": "2023-01-31T14:13:04.604810",
     "exception": false,
     "start_time": "2023-01-31T14:13:04.260720",
     "status": "completed"
    },
    "tags": []
   },
   "outputs": [
    {
     "name": "stdout",
     "output_type": "stream",
     "text": [
      "(264796, 81)\n",
      "(130423, 81)\n"
     ]
    }
   ],
   "source": [
    "train, test = train_test_split(data, test_size=0.33, random_state=42)\n",
    "\n",
    "print(train.shape)\n",
    "print(test.shape)"
   ]
  },
  {
   "cell_type": "markdown",
   "id": "432b3d1c",
   "metadata": {},
   "source": [
    "## Removing Outliers"
   ]
  },
  {
   "cell_type": "code",
   "execution_count": 72,
   "id": "dafe46bf",
   "metadata": {
    "execution": {
     "iopub.execute_input": "2023-01-31T14:13:04.919809Z",
     "iopub.status.busy": "2023-01-31T14:13:04.919417Z",
     "iopub.status.idle": "2023-01-31T14:13:04.986378Z",
     "shell.execute_reply": "2023-01-31T14:13:04.985236Z"
    },
    "papermill": {
     "duration": 0.226129,
     "end_time": "2023-01-31T14:13:04.989199",
     "exception": false,
     "start_time": "2023-01-31T14:13:04.763070",
     "status": "completed"
    },
    "tags": []
   },
   "outputs": [
    {
     "name": "stdout",
     "output_type": "stream",
     "text": [
      "(264776, 81)\n",
      "(264796, 81)\n"
     ]
    }
   ],
   "source": [
    "#Removing Outliers\n",
    "print(train[train['dti'] <= 50].shape)\n",
    "print(train.shape)\n"
   ]
  },
  {
   "cell_type": "code",
   "execution_count": 73,
   "id": "65dc25e2",
   "metadata": {
    "execution": {
     "iopub.execute_input": "2023-01-31T14:13:05.616027Z",
     "iopub.status.busy": "2023-01-31T14:13:05.614099Z",
     "iopub.status.idle": "2023-01-31T14:13:05.643808Z",
     "shell.execute_reply": "2023-01-31T14:13:05.642851Z"
    },
    "papermill": {
     "duration": 0.190885,
     "end_time": "2023-01-31T14:13:05.645959",
     "exception": false,
     "start_time": "2023-01-31T14:13:05.455074",
     "status": "completed"
    },
    "tags": []
   },
   "outputs": [
    {
     "name": "stdout",
     "output_type": "stream",
     "text": [
      "(264796, 81)\n",
      "(262143, 81)\n"
     ]
    }
   ],
   "source": [
    "print(train.shape)\n",
    "train = train[train['annual_inc'] <= 250000]\n",
    "train = train[train['dti'] <= 50]\n",
    "train = train[train['open_acc'] <= 40]\n",
    "train = train[train['total_acc'] <= 80]\n",
    "train = train[train['revol_util'] <= 120]\n",
    "train = train[train['revol_bal'] <= 250000]\n",
    "print(train.shape)"
   ]
  },
  {
   "cell_type": "markdown",
   "id": "4ab51880",
   "metadata": {},
   "source": [
    "## 📏 Normalizing the data"
   ]
  },
  {
   "cell_type": "code",
   "execution_count": 74,
   "id": "9e8e8d21",
   "metadata": {
    "execution": {
     "iopub.execute_input": "2023-01-31T14:13:06.287247Z",
     "iopub.status.busy": "2023-01-31T14:13:06.286161Z",
     "iopub.status.idle": "2023-01-31T14:13:06.337535Z",
     "shell.execute_reply": "2023-01-31T14:13:06.336363Z"
    },
    "papermill": {
     "duration": 0.221956,
     "end_time": "2023-01-31T14:13:06.339961",
     "exception": false,
     "start_time": "2023-01-31T14:13:06.118005",
     "status": "completed"
    },
    "tags": []
   },
   "outputs": [],
   "source": [
    "#Normalizing the Data\n",
    "X_train, y_train = train.drop('loan_status', axis=1), train.loan_status\n",
    "X_test, y_test = test.drop('loan_status', axis=1), test.loan_status"
   ]
  },
  {
   "cell_type": "code",
   "execution_count": 75,
   "id": "5e5f8b62",
   "metadata": {
    "execution": {
     "iopub.execute_input": "2023-01-31T14:13:06.691630Z",
     "iopub.status.busy": "2023-01-31T14:13:06.690444Z",
     "iopub.status.idle": "2023-01-31T14:13:06.700404Z",
     "shell.execute_reply": "2023-01-31T14:13:06.699300Z"
    },
    "papermill": {
     "duration": 0.185163,
     "end_time": "2023-01-31T14:13:06.702523",
     "exception": false,
     "start_time": "2023-01-31T14:13:06.517360",
     "status": "completed"
    },
    "tags": []
   },
   "outputs": [
    {
     "data": {
      "text/plain": [
       "loan_amnt                object\n",
       "term                     object\n",
       "int_rate                 object\n",
       "installment              object\n",
       "annual_inc               object\n",
       "                          ...  \n",
       "zip_code_48052           object\n",
       "zip_code_70466           object\n",
       "zip_code_86630           object\n",
       "zip_code_93700           object\n",
       "earliest_cr_line_year    object\n",
       "Length: 80, dtype: object"
      ]
     },
     "execution_count": 75,
     "metadata": {},
     "output_type": "execute_result"
    }
   ],
   "source": [
    "X_train.dtypes"
   ]
  },
  {
   "cell_type": "code",
   "execution_count": 76,
   "id": "9a75d83a",
   "metadata": {
    "execution": {
     "iopub.execute_input": "2023-01-31T14:13:07.028013Z",
     "iopub.status.busy": "2023-01-31T14:13:07.027647Z",
     "iopub.status.idle": "2023-01-31T14:13:07.039637Z",
     "shell.execute_reply": "2023-01-31T14:13:07.038684Z"
    },
    "papermill": {
     "duration": 0.178651,
     "end_time": "2023-01-31T14:13:07.041641",
     "exception": false,
     "start_time": "2023-01-31T14:13:06.862990",
     "status": "completed"
    },
    "tags": []
   },
   "outputs": [],
   "source": [
    "scaler = MinMaxScaler()\n",
    "X_train = scaler.fit_transform(X_train)\n",
    "X_test = scaler.transform(X_test)"
   ]
  },
  {
   "cell_type": "markdown",
   "id": "64ddcb0d",
   "metadata": {
    "papermill": {
     "duration": 0.162943,
     "end_time": "2023-01-31T14:13:13.083170",
     "exception": false,
     "start_time": "2023-01-31T14:13:12.920227",
     "status": "completed"
    },
    "tags": []
   },
   "source": [
    "# 🤖 Models Building"
   ]
  },
  {
   "cell_type": "code",
   "execution_count": 77,
   "id": "47a8291a",
   "metadata": {
    "execution": {
     "iopub.execute_input": "2023-01-31T14:13:13.702918Z",
     "iopub.status.busy": "2023-01-31T14:13:13.702551Z",
     "iopub.status.idle": "2023-01-31T14:13:13.709718Z",
     "shell.execute_reply": "2023-01-31T14:13:13.708705Z"
    },
    "papermill": {
     "duration": 0.176326,
     "end_time": "2023-01-31T14:13:13.711748",
     "exception": false,
     "start_time": "2023-01-31T14:13:13.535422",
     "status": "completed"
    },
    "tags": []
   },
   "outputs": [],
   "source": [
    "# Model Building\n",
    "\n",
    "def print_score(true, pred, train=True):\n",
    "    if train:\n",
    "        clf_report = pd.DataFrame(classification_report(true, pred, output_dict=True))\n",
    "        print(\"Train Result:\\n================================================\")\n",
    "        print(f\"Accuracy Score: {accuracy_score(true, pred) * 100:.2f}%\")\n",
    "        print(\"_______________________________________________\")\n",
    "        print(f\"CLASSIFICATION REPORT:\\n{clf_report}\")\n",
    "        print(\"_______________________________________________\")\n",
    "        print(f\"Confusion Matrix: \\n {confusion_matrix(true, pred)}\\n\")\n",
    "        \n",
    "    elif train==False:\n",
    "        clf_report = pd.DataFrame(classification_report(true, pred, output_dict=True))\n",
    "        print(\"Test Result:\\n================================================\")        \n",
    "        print(f\"Accuracy Score: {accuracy_score(true, pred) * 100:.2f}%\")\n",
    "        print(\"_______________________________________________\")\n",
    "        print(f\"CLASSIFICATION REPORT:\\n{clf_report}\")\n",
    "        print(\"_______________________________________________\")\n",
    "        print(f\"Confusion Matrix: \\n {confusion_matrix(true, pred)}\\n\")"
   ]
  },
  {
   "cell_type": "code",
   "execution_count": 78,
   "id": "c5496fff",
   "metadata": {
    "execution": {
     "iopub.execute_input": "2023-01-31T14:13:14.033190Z",
     "iopub.status.busy": "2023-01-31T14:13:14.032464Z",
     "iopub.status.idle": "2023-01-31T14:13:14.175279Z",
     "shell.execute_reply": "2023-01-31T14:13:14.174240Z"
    },
    "papermill": {
     "duration": 0.308458,
     "end_time": "2023-01-31T14:13:14.177882",
     "exception": false,
     "start_time": "2023-01-31T14:13:13.869424",
     "status": "completed"
    },
    "tags": []
   },
   "outputs": [],
   "source": [
    "X_train = np.array(X_train).astype(np.float32)\n",
    "X_test = np.array(X_test).astype(np.float32)\n",
    "y_train = np.array(y_train).astype(np.float32)\n",
    "y_test = np.array(y_test).astype(np.float32)"
   ]
  },
  {
   "cell_type": "markdown",
   "id": "181bc15a",
   "metadata": {
    "papermill": {
     "duration": 0.210638,
     "end_time": "2023-01-31T14:13:14.544154",
     "exception": false,
     "start_time": "2023-01-31T14:13:14.333516",
     "status": "completed"
    },
    "tags": []
   },
   "source": [
    "# ✔️ Artificial Neural Networks (ANNs)"
   ]
  },
  {
   "cell_type": "code",
   "execution_count": 79,
   "id": "352a2656",
   "metadata": {
    "execution": {
     "iopub.execute_input": "2023-01-31T14:13:15.007835Z",
     "iopub.status.busy": "2023-01-31T14:13:15.007404Z",
     "iopub.status.idle": "2023-01-31T14:13:15.022245Z",
     "shell.execute_reply": "2023-01-31T14:13:15.021309Z"
    },
    "papermill": {
     "duration": 0.249261,
     "end_time": "2023-01-31T14:13:15.024564",
     "exception": false,
     "start_time": "2023-01-31T14:13:14.775303",
     "status": "completed"
    },
    "tags": []
   },
   "outputs": [],
   "source": [
    "# ANNs\n",
    "\n",
    "def evaluate_nn(true, pred, train=True):\n",
    "    if train:\n",
    "        clf_report = pd.DataFrame(classification_report(true, pred, output_dict=True))\n",
    "        print(\"Train Result:\\n================================================\")\n",
    "        print(f\"Accuracy Score: {accuracy_score(true, pred) * 100:.2f}%\")\n",
    "        print(\"_______________________________________________\")\n",
    "        print(f\"CLASSIFICATION REPORT:\\n{clf_report}\")\n",
    "        print(\"_______________________________________________\")\n",
    "        print(f\"Confusion Matrix: \\n {confusion_matrix(true, pred)}\\n\")\n",
    "        \n",
    "    elif train==False:\n",
    "        clf_report = pd.DataFrame(classification_report(true, pred, output_dict=True))\n",
    "        print(\"Test Result:\\n================================================\")        \n",
    "        print(f\"Accuracy Score: {accuracy_score(true, pred) * 100:.2f}%\")\n",
    "        print(\"_______________________________________________\")\n",
    "        print(f\"CLASSIFICATION REPORT:\\n{clf_report}\")\n",
    "        print(\"_______________________________________________\")\n",
    "        print(f\"Confusion Matrix: \\n {confusion_matrix(true, pred)}\\n\")\n",
    "        \n",
    "def plot_learning_evolution(r):\n",
    "    plt.figure(figsize=(12, 8))\n",
    "    \n",
    "    plt.subplot(2, 2, 1)\n",
    "    plt.plot(r.history['loss'], label='Loss')\n",
    "    plt.plot(r.history['val_loss'], label='val_Loss')\n",
    "    plt.title('Loss evolution during trainig')\n",
    "    plt.legend()\n",
    "\n",
    "    plt.subplot(2, 2, 2)\n",
    "    plt.plot(r.history['AUC'], label='AUC')\n",
    "    plt.plot(r.history['val_AUC'], label='val_AUC')\n",
    "    plt.title('AUC score evolution during trainig')\n",
    "    plt.legend();\n",
    "\n",
    "def nn_model(num_columns, num_labels, hidden_units, dropout_rates, learning_rate):\n",
    "    inp = tf.keras.layers.Input(shape=(num_columns, ))\n",
    "    x = BatchNormalization()(inp)\n",
    "    x = Dropout(dropout_rates[0])(x)\n",
    "    for i in range(len(hidden_units)):\n",
    "        x = Dense(hidden_units[i], activation='relu')(x)\n",
    "        x = BatchNormalization()(x)\n",
    "        x = Dropout(dropout_rates[i + 1])(x)\n",
    "    x = Dense(num_labels, activation='sigmoid')(x)\n",
    "  \n",
    "    model = Model(inputs=inp, outputs=x)\n",
    "    model.compile(optimizer=Adam(learning_rate), loss='binary_crossentropy', metrics=[AUC(name='AUC')])\n",
    "    return model"
   ]
  },
  {
   "cell_type": "code",
   "execution_count": 80,
   "id": "48c81c29",
   "metadata": {
    "_kg_hide-output": true,
    "execution": {
     "iopub.execute_input": "2023-01-31T14:13:15.346693Z",
     "iopub.status.busy": "2023-01-31T14:13:15.345817Z",
     "iopub.status.idle": "2023-01-31T14:30:28.284730Z",
     "shell.execute_reply": "2023-01-31T14:30:28.283732Z"
    },
    "papermill": {
     "duration": 1033.100957,
     "end_time": "2023-01-31T14:30:28.286962",
     "exception": false,
     "start_time": "2023-01-31T14:13:15.186005",
     "status": "completed"
    },
    "tags": []
   },
   "outputs": [
    {
     "name": "stdout",
     "output_type": "stream",
     "text": [
      "Epoch 1/20\n",
      "\u001b[1m8192/8192\u001b[0m \u001b[32m━━━━━━━━━━━━━━━━━━━━\u001b[0m\u001b[37m\u001b[0m \u001b[1m39s\u001b[0m 4ms/step - AUC: 0.8440 - loss: 0.3317 - val_AUC: 0.8988 - val_loss: 0.2676\n",
      "Epoch 2/20\n",
      "\u001b[1m8192/8192\u001b[0m \u001b[32m━━━━━━━━━━━━━━━━━━━━\u001b[0m\u001b[37m\u001b[0m \u001b[1m41s\u001b[0m 4ms/step - AUC: 0.8771 - loss: 0.2920 - val_AUC: 0.9049 - val_loss: 0.2615\n",
      "Epoch 3/20\n",
      "\u001b[1m8192/8192\u001b[0m \u001b[32m━━━━━━━━━━━━━━━━━━━━\u001b[0m\u001b[37m\u001b[0m \u001b[1m31s\u001b[0m 4ms/step - AUC: 0.8810 - loss: 0.2861 - val_AUC: 0.9041 - val_loss: 0.2629\n",
      "Epoch 4/20\n",
      "\u001b[1m8192/8192\u001b[0m \u001b[32m━━━━━━━━━━━━━━━━━━━━\u001b[0m\u001b[37m\u001b[0m \u001b[1m30s\u001b[0m 4ms/step - AUC: 0.8837 - loss: 0.2839 - val_AUC: 0.9045 - val_loss: 0.2606\n",
      "Epoch 5/20\n",
      "\u001b[1m8192/8192\u001b[0m \u001b[32m━━━━━━━━━━━━━━━━━━━━\u001b[0m\u001b[37m\u001b[0m \u001b[1m28s\u001b[0m 3ms/step - AUC: 0.8853 - loss: 0.2839 - val_AUC: 0.9059 - val_loss: 0.2602\n",
      "Epoch 6/20\n",
      "\u001b[1m8192/8192\u001b[0m \u001b[32m━━━━━━━━━━━━━━━━━━━━\u001b[0m\u001b[37m\u001b[0m \u001b[1m29s\u001b[0m 4ms/step - AUC: 0.8878 - loss: 0.2797 - val_AUC: 0.9061 - val_loss: 0.2619\n",
      "Epoch 7/20\n",
      "\u001b[1m8192/8192\u001b[0m \u001b[32m━━━━━━━━━━━━━━━━━━━━\u001b[0m\u001b[37m\u001b[0m \u001b[1m40s\u001b[0m 3ms/step - AUC: 0.8883 - loss: 0.2795 - val_AUC: 0.9048 - val_loss: 0.2619\n",
      "Epoch 8/20\n",
      "\u001b[1m8192/8192\u001b[0m \u001b[32m━━━━━━━━━━━━━━━━━━━━\u001b[0m\u001b[37m\u001b[0m \u001b[1m30s\u001b[0m 4ms/step - AUC: 0.8904 - loss: 0.2779 - val_AUC: 0.9061 - val_loss: 0.2623\n",
      "Epoch 9/20\n",
      "\u001b[1m8192/8192\u001b[0m \u001b[32m━━━━━━━━━━━━━━━━━━━━\u001b[0m\u001b[37m\u001b[0m \u001b[1m40s\u001b[0m 3ms/step - AUC: 0.8886 - loss: 0.2780 - val_AUC: 0.9050 - val_loss: 0.2637\n",
      "Epoch 10/20\n",
      "\u001b[1m8192/8192\u001b[0m \u001b[32m━━━━━━━━━━━━━━━━━━━━\u001b[0m\u001b[37m\u001b[0m \u001b[1m41s\u001b[0m 3ms/step - AUC: 0.8907 - loss: 0.2777 - val_AUC: 0.9062 - val_loss: 0.2596\n",
      "Epoch 11/20\n",
      "\u001b[1m8192/8192\u001b[0m \u001b[32m━━━━━━━━━━━━━━━━━━━━\u001b[0m\u001b[37m\u001b[0m \u001b[1m42s\u001b[0m 4ms/step - AUC: 0.8906 - loss: 0.2778 - val_AUC: 0.9061 - val_loss: 0.2601\n",
      "Epoch 12/20\n",
      "\u001b[1m8192/8192\u001b[0m \u001b[32m━━━━━━━━━━━━━━━━━━━━\u001b[0m\u001b[37m\u001b[0m \u001b[1m29s\u001b[0m 4ms/step - AUC: 0.8919 - loss: 0.2750 - val_AUC: 0.9062 - val_loss: 0.2611\n",
      "Epoch 13/20\n",
      "\u001b[1m8192/8192\u001b[0m \u001b[32m━━━━━━━━━━━━━━━━━━━━\u001b[0m\u001b[37m\u001b[0m \u001b[1m29s\u001b[0m 4ms/step - AUC: 0.8910 - loss: 0.2763 - val_AUC: 0.9062 - val_loss: 0.2606\n",
      "Epoch 14/20\n",
      "\u001b[1m8192/8192\u001b[0m \u001b[32m━━━━━━━━━━━━━━━━━━━━\u001b[0m\u001b[37m\u001b[0m \u001b[1m40s\u001b[0m 3ms/step - AUC: 0.8928 - loss: 0.2749 - val_AUC: 0.9064 - val_loss: 0.2623\n",
      "Epoch 15/20\n",
      "\u001b[1m8192/8192\u001b[0m \u001b[32m━━━━━━━━━━━━━━━━━━━━\u001b[0m\u001b[37m\u001b[0m \u001b[1m28s\u001b[0m 3ms/step - AUC: 0.8929 - loss: 0.2763 - val_AUC: 0.9061 - val_loss: 0.2669\n",
      "Epoch 16/20\n",
      "\u001b[1m8192/8192\u001b[0m \u001b[32m━━━━━━━━━━━━━━━━━━━━\u001b[0m\u001b[37m\u001b[0m \u001b[1m28s\u001b[0m 3ms/step - AUC: 0.8928 - loss: 0.2750 - val_AUC: 0.9061 - val_loss: 0.2719\n",
      "Epoch 17/20\n",
      "\u001b[1m8192/8192\u001b[0m \u001b[32m━━━━━━━━━━━━━━━━━━━━\u001b[0m\u001b[37m\u001b[0m \u001b[1m28s\u001b[0m 3ms/step - AUC: 0.8926 - loss: 0.2749 - val_AUC: 0.9063 - val_loss: 0.2611\n",
      "Epoch 18/20\n",
      "\u001b[1m8192/8192\u001b[0m \u001b[32m━━━━━━━━━━━━━━━━━━━━\u001b[0m\u001b[37m\u001b[0m \u001b[1m42s\u001b[0m 4ms/step - AUC: 0.8918 - loss: 0.2751 - val_AUC: 0.9063 - val_loss: 0.2608\n",
      "Epoch 19/20\n",
      "\u001b[1m8192/8192\u001b[0m \u001b[32m━━━━━━━━━━━━━━━━━━━━\u001b[0m\u001b[37m\u001b[0m \u001b[1m29s\u001b[0m 4ms/step - AUC: 0.8933 - loss: 0.2757 - val_AUC: 0.9062 - val_loss: 0.2654\n",
      "Epoch 20/20\n",
      "\u001b[1m8192/8192\u001b[0m \u001b[32m━━━━━━━━━━━━━━━━━━━━\u001b[0m\u001b[37m\u001b[0m \u001b[1m29s\u001b[0m 4ms/step - AUC: 0.8919 - loss: 0.2760 - val_AUC: 0.9059 - val_loss: 0.2650\n"
     ]
    }
   ],
   "source": [
    "num_columns = X_train.shape[1]\n",
    "num_labels = 1\n",
    "hidden_units = [150, 150, 150]\n",
    "dropout_rates = [0.1, 0, 0.1, 0]\n",
    "learning_rate = 1e-3\n",
    "\n",
    "\n",
    "model = nn_model(\n",
    "    num_columns=num_columns, \n",
    "    num_labels=num_labels,\n",
    "    hidden_units=hidden_units,\n",
    "    dropout_rates=dropout_rates,\n",
    "    learning_rate=learning_rate\n",
    ")\n",
    "r = model.fit(\n",
    "    X_train, y_train,\n",
    "    validation_data=(X_test, y_test),\n",
    "    epochs=20,\n",
    "    batch_size=32\n",
    ")"
   ]
  },
  {
   "cell_type": "code",
   "execution_count": 81,
   "id": "f69c05d9",
   "metadata": {
    "execution": {
     "iopub.execute_input": "2023-01-31T14:30:30.623791Z",
     "iopub.status.busy": "2023-01-31T14:30:30.623413Z",
     "iopub.status.idle": "2023-01-31T14:30:30.935397Z",
     "shell.execute_reply": "2023-01-31T14:30:30.934469Z"
    },
    "papermill": {
     "duration": 1.379851,
     "end_time": "2023-01-31T14:30:30.937649",
     "exception": false,
     "start_time": "2023-01-31T14:30:29.557798",
     "status": "completed"
    },
    "tags": []
   },
   "outputs": [
    {
     "data": {
      "image/png": "[encoded data removed]",
      "text/plain": [
       "<Figure size 1200x800 with 2 Axes>"
      ]
     },
     "metadata": {},
     "output_type": "display_data"
    }
   ],
   "source": [
    "plot_learning_evolution(r)"
   ]
  },
  {
   "cell_type": "code",
   "execution_count": 82,
   "id": "9dc134ee",
   "metadata": {
    "execution": {
     "iopub.execute_input": "2023-01-31T14:30:33.014813Z",
     "iopub.status.busy": "2023-01-31T14:30:33.014432Z",
     "iopub.status.idle": "2023-01-31T14:30:44.349045Z",
     "shell.execute_reply": "2023-01-31T14:30:44.348071Z"
    },
    "papermill": {
     "duration": 12.408002,
     "end_time": "2023-01-31T14:30:44.351122",
     "exception": false,
     "start_time": "2023-01-31T14:30:31.943120",
     "status": "completed"
    },
    "tags": []
   },
   "outputs": [
    {
     "name": "stdout",
     "output_type": "stream",
     "text": [
      "\u001b[1m8192/8192\u001b[0m \u001b[32m━━━━━━━━━━━━━━━━━━━━\u001b[0m\u001b[37m\u001b[0m \u001b[1m9s\u001b[0m 1ms/step\n",
      "Train Result:\n",
      "================================================\n",
      "Accuracy Score: 88.87%\n",
      "_______________________________________________\n",
      "CLASSIFICATION REPORT:\n",
      "               0.0       1.0  accuracy  macro avg  weighted avg\n",
      "precision     0.90      0.89      0.89       0.90          0.89\n",
      "recall        0.49      0.99      0.89       0.74          0.89\n",
      "f1-score      0.63      0.93      0.89       0.78          0.88\n",
      "support   51665.00 210478.00      0.89  262143.00     262143.00\n",
      "_______________________________________________\n",
      "Confusion Matrix: \n",
      " [[ 25158  26507]\n",
      " [  2664 207814]]\n",
      "\n"
     ]
    }
   ],
   "source": [
    "y_train_pred = model.predict(X_train)\n",
    "evaluate_nn(y_train, y_train_pred.round(), train=True)\n",
    "\n",
    "\n",
    "# True Positives (TP): 209,197 - The model correctly predicted the positive class (e.g., \"Charged Off\").\n",
    "# True Negatives (TN): 23,680 - The model correctly predicted the negative class (e.g., \"Fully Paid\").\n",
    "# False Positives (FP): 27,985 - The model incorrectly predicted the positive class.\n",
    "# False Negatives (FN): 1,281 - The model incorrectly predicted the negative class.\n"
   ]
  },
  {
   "cell_type": "code",
   "execution_count": 83,
   "id": "810bd61f",
   "metadata": {
    "execution": {
     "iopub.execute_input": "2023-01-31T14:30:46.410825Z",
     "iopub.status.busy": "2023-01-31T14:30:46.409936Z",
     "iopub.status.idle": "2023-01-31T14:30:51.558632Z",
     "shell.execute_reply": "2023-01-31T14:30:51.557479Z"
    },
    "papermill": {
     "duration": 6.154345,
     "end_time": "2023-01-31T14:30:51.560766",
     "exception": false,
     "start_time": "2023-01-31T14:30:45.406421",
     "status": "completed"
    },
    "tags": []
   },
   "outputs": [
    {
     "name": "stdout",
     "output_type": "stream",
     "text": [
      "\u001b[1m4076/4076\u001b[0m \u001b[32m━━━━━━━━━━━━━━━━━━━━\u001b[0m\u001b[37m\u001b[0m \u001b[1m4s\u001b[0m 1ms/step\n",
      "Test Result:\n",
      "================================================\n",
      "Accuracy Score: 88.82%\n",
      "_______________________________________________\n",
      "CLASSIFICATION REPORT:\n",
      "               0.0       1.0  accuracy  macro avg  weighted avg\n",
      "precision     0.89      0.89      0.89       0.89          0.89\n",
      "recall        0.48      0.99      0.89       0.74          0.89\n",
      "f1-score      0.63      0.93      0.89       0.78          0.87\n",
      "support   25480.00 104943.00      0.89  130423.00     130423.00\n",
      "_______________________________________________\n",
      "Confusion Matrix: \n",
      " [[ 12345  13135]\n",
      " [  1450 103493]]\n",
      "\n"
     ]
    }
   ],
   "source": [
    "y_test_pred = model.predict(X_test)\n",
    "evaluate_nn(y_test, y_test_pred.round(), train=False)\n",
    "\n",
    "\n",
    "# Overall Accuracy: At around 89.3%, this suggests the model generally performs well across both classes."
   ]
  },
  {
   "cell_type": "code",
   "execution_count": 84,
   "id": "6ee451f9",
   "metadata": {
    "execution": {
     "iopub.execute_input": "2023-01-31T14:30:53.707417Z",
     "iopub.status.busy": "2023-01-31T14:30:53.707056Z",
     "iopub.status.idle": "2023-01-31T14:31:06.223443Z",
     "shell.execute_reply": "2023-01-31T14:31:06.222480Z"
    },
    "papermill": {
     "duration": 13.590412,
     "end_time": "2023-01-31T14:31:06.225959",
     "exception": false,
     "start_time": "2023-01-31T14:30:52.635547",
     "status": "completed"
    },
    "tags": []
   },
   "outputs": [
    {
     "name": "stdout",
     "output_type": "stream",
     "text": [
      "\u001b[1m8192/8192\u001b[0m \u001b[32m━━━━━━━━━━━━━━━━━━━━\u001b[0m\u001b[37m\u001b[0m \u001b[1m9s\u001b[0m 1ms/step\n",
      "\u001b[1m4076/4076\u001b[0m \u001b[32m━━━━━━━━━━━━━━━━━━━━\u001b[0m\u001b[37m\u001b[0m \u001b[1m4s\u001b[0m 1ms/step\n"
     ]
    },
    {
     "ename": "",
     "evalue": "",
     "output_type": "error",
     "traceback": [
      "\u001b[1;31mThe Kernel crashed while executing code in the current cell or a previous cell. \n",
      "\u001b[1;31mPlease review the code in the cell(s) to identify a possible cause of the failure. \n",
      "\u001b[1;31mClick <a href='https://aka.ms/vscodeJupyterKernelCrash'>here</a> for more info. \n",
      "\u001b[1;31mView Jupyter <a href='command:jupyter.viewOutput'>log</a> for further details."
     ]
    }
   ],
   "source": [
    "scores_dict = {\n",
    "    'ANNs': {\n",
    "        'Train': roc_auc_score(y_train, model.predict(X_train)),\n",
    "        'Test': roc_auc_score(y_test, model.predict(X_test)),\n",
    "    },\n",
    "}"
   ]
  },
  {
   "cell_type": "markdown",
   "id": "800e9335",
   "metadata": {},
   "source": [
    "#### In neural networks, especially in deep and complex models like ANNs, interpreting feature importance isn't as straightforward as it is with models like decision trees or random forests. "
   ]
  },
  {
   "cell_type": "markdown",
   "id": "f206f18c",
   "metadata": {
    "papermill": {
     "duration": 1.053893,
     "end_time": "2023-01-31T14:32:46.014313",
     "exception": false,
     "start_time": "2023-01-31T14:32:44.960420",
     "status": "completed"
    },
    "tags": []
   },
   "source": [
    "# ✔️ Random Forest Classifier"
   ]
  },
  {
   "cell_type": "code",
   "execution_count": 85,
   "id": "2d0d5ba9",
   "metadata": {
    "execution": {
     "iopub.execute_input": "2023-01-31T14:32:48.092227Z",
     "iopub.status.busy": "2023-01-31T14:32:48.091864Z",
     "iopub.status.idle": "2023-01-31T14:34:13.275594Z",
     "shell.execute_reply": "2023-01-31T14:34:13.274577Z"
    },
    "papermill": {
     "duration": 86.834312,
     "end_time": "2023-01-31T14:34:13.912878",
     "exception": false,
     "start_time": "2023-01-31T14:32:47.078566",
     "status": "completed"
    },
    "tags": []
   },
   "outputs": [
    {
     "name": "stdout",
     "output_type": "stream",
     "text": [
      "Fitting 3 folds for each of 30 candidates, totalling 90 fits\n"
     ]
    }
   ],
   "source": [
    "param_grid = dict(\n",
    "    n_estimators=stats.randint(100, 500),\n",
    "    max_depth=stats.randint(10, 50),\n",
    "    min_samples_split=stats.randint(2, 5),\n",
    "    min_samples_leaf=stats.randint(1, 4),\n",
    ")\n",
    "\n",
    "rf_clf = RandomForestClassifier(n_estimators=100)\n",
    "rf_cv = RandomizedSearchCV(\n",
    "    rf_clf, param_grid, cv=3, n_iter=30, \n",
    "    scoring='roc_auc', n_jobs=-1, verbose=1\n",
    ")\n",
    "rf_cv.fit(X_train, y_train)\n",
    "best_params = rf_cv.best_params_\n",
    "print(f\"Best Parameters: {best_params}\")\n",
    "rf_clf = RandomForestClassifier(**best_params)\n",
    "rf_clf.fit(X_train, y_train)\n",
    "\n",
    "y_train_pred = rf_clf.predict(X_train)\n",
    "y_test_pred = rf_clf.predict(X_test)\n",
    "\n",
    "print_score(y_train, y_train_pred, train=True)\n",
    "print_score(y_test, y_test_pred, train=False)"
   ]
  },
  {
   "cell_type": "code",
   "execution_count": null,
   "id": "3006060f",
   "metadata": {
    "execution": {
     "iopub.execute_input": "2023-01-31T14:34:15.981579Z",
     "iopub.status.busy": "2023-01-31T14:34:15.981207Z",
     "iopub.status.idle": "2023-01-31T14:34:25.490730Z",
     "shell.execute_reply": "2023-01-31T14:34:25.489831Z"
    },
    "papermill": {
     "duration": 10.515643,
     "end_time": "2023-01-31T14:34:25.493010",
     "exception": false,
     "start_time": "2023-01-31T14:34:14.977367",
     "status": "completed"
    },
    "tags": []
   },
   "outputs": [
    {
     "data": {
      "text/plain": [
       "<sklearn.metrics._plot.roc_curve.RocCurveDisplay at 0x7f1bd1947d50>"
      ]
     },
     "execution_count": 116,
     "metadata": {},
     "output_type": "execute_result"
    },
    {
     "data": {
      "image/png": "[encoded data removed]",
      "text/plain": [
       "<Figure size 432x288 with 2 Axes>"
      ]
     },
     "metadata": {
      "needs_background": "light"
     },
     "output_type": "display_data"
    },
    {
     "data": {
      "image/png": "[encoded data removed]",
      "text/plain": [
       "<Figure size 432x288 with 1 Axes>"
      ]
     },
     "metadata": {
      "needs_background": "light"
     },
     "output_type": "display_data"
    }
   ],
   "source": [
    "import pandas as pd\n",
    "from sklearn.ensemble import RandomForestClassifier\n",
    "from sklearn.model_selection import train_test_split, RandomizedSearchCV\n",
    "from sklearn.metrics import roc_auc_score, classification_report, confusion_matrix\n",
    "from sklearn.metrics import ConfusionMatrixDisplay, RocCurveDisplay\n",
    "\n",
    "# Assuming 'X_train', 'X_test', 'y_train', 'y_test' are already defined\n",
    "# and your Random Forest model is named 'rf_clf' and fitted\n",
    "\n",
    "# Best Parameters from RandomizedSearchCV\n",
    "best_params = rf_cv.best_params_\n",
    "print(f\"Best Parameters: {best_params}\")\n",
    "\n",
    "# Create and fit the classifier with best parameters\n",
    "rf_clf = RandomForestClassifier(**best_params)\n",
    "rf_clf.fit(X_train, y_train)\n",
    "\n",
    "# Predicting on the training and test set\n",
    "y_train_pred = rf_clf.predict(X_train)\n",
    "y_test_pred = rf_clf.predict(X_test)\n",
    "\n",
    "# Printing the score\n",
    "def print_score(true, pred, train=True):\n",
    "    if train:\n",
    "        print(\"Train Result:\\n================================================\")\n",
    "    else:\n",
    "        print(\"Test Result:\\n================================================\")\n",
    "    print(f\"Accuracy Score: {accuracy_score(true, pred) * 100:.2f}%\")\n",
    "    print(f\"ROC-AUC Score: {roc_auc_score(true, pred):.4f}\")\n",
    "    print(\"Classification Report:\\n\", classification_report(true, pred))\n",
    "    print(\"Confusion Matrix: \\n\", confusion_matrix(true, pred), \"\\n\")\n",
    "\n",
    "print_score(y_train, y_train_pred, train=True)\n",
    "print_score(y_test, y_test_pred, train=False)\n",
    "\n",
    "# Displaying the confusion matrix\n",
    "disp = ConfusionMatrixDisplay.from_estimator(rf_clf, X_test, y_test, cmap='Blues', values_format='d', display_labels=['Default', 'Fully-Paid'])\n",
    "plt.title('Confusion Matrix for Random Forest')\n",
    "plt.show()\n",
    "\n",
    "# Display ROC Curve\n",
    "disp = RocCurveDisplay.from_estimator(rf_clf, X_test, y_test)\n",
    "plt.title('ROC Curve for Random Forest')\n",
    "plt.show()\n"
   ]
  },
  {
   "cell_type": "code",
   "execution_count": null,
   "id": "c617c8e0",
   "metadata": {
    "execution": {
     "iopub.execute_input": "2023-01-31T14:34:27.628630Z",
     "iopub.status.busy": "2023-01-31T14:34:27.628243Z",
     "iopub.status.idle": "2023-01-31T14:34:40.613601Z",
     "shell.execute_reply": "2023-01-31T14:34:40.612554Z"
    },
    "papermill": {
     "duration": 14.055961,
     "end_time": "2023-01-31T14:34:40.616204",
     "exception": false,
     "start_time": "2023-01-31T14:34:26.560243",
     "status": "completed"
    },
    "tags": []
   },
   "outputs": [],
   "source": [
    "column_names = ['loan_amnt', 'term', 'int_rate', 'installment', 'annual_inc',\n",
    "                'loan_status', 'dti', 'open_acc', 'pub_rec', 'revol_bal', 'revol_util',\n",
    "                'total_acc', 'mort_acc', 'pub_rec_bankruptcies', 'sub_grade_A2',\n",
    "                'sub_grade_A3', 'sub_grade_A4', 'sub_grade_A5', 'sub_grade_B1',\n",
    "                'sub_grade_B2', 'sub_grade_B3', 'sub_grade_B4', 'sub_grade_B5',\n",
    "                'sub_grade_C1', 'sub_grade_C2', 'sub_grade_C3', 'sub_grade_C4',\n",
    "                'sub_grade_C5', 'sub_grade_D1', 'sub_grade_D2', 'sub_grade_D3',\n",
    "                'sub_grade_D4', 'sub_grade_D5', 'sub_grade_E1', 'sub_grade_E2',\n",
    "                'sub_grade_E3', 'sub_grade_E4', 'sub_grade_E5', 'sub_grade_F1',\n",
    "                'sub_grade_F2', 'sub_grade_F3', 'sub_grade_F4', 'sub_grade_F5',\n",
    "                'sub_grade_G1', 'sub_grade_G2', 'sub_grade_G3', 'sub_grade_G4',\n",
    "                'sub_grade_G5', 'verification_status_Source Verified',\n",
    "                'verification_status_Verified', 'purpose_credit_card',\n",
    "                'purpose_debt_consolidation', 'purpose_educational',\n",
    "                'purpose_home_improvement', 'purpose_house', 'purpose_major_purchase',\n",
    "                'purpose_medical', 'purpose_moving', 'purpose_other',\n",
    "                'purpose_renewable_energy', 'purpose_small_business',\n",
    "                'purpose_vacation', 'purpose_wedding', 'initial_list_status_w',\n",
    "                'application_type_INDIVIDUAL', 'application_type_JOINT',\n",
    "                'home_ownership_MORTGAGE', 'home_ownership_NONE',\n",
    "                'home_ownership_OTHER', 'home_ownership_OWN', 'home_ownership_RENT',\n",
    "                'zip_code_05113', 'zip_code_11650', 'zip_code_22690', 'zip_code_29597',\n",
    "                'zip_code_30723', 'zip_code_48052', 'zip_code_70466', 'zip_code_86630',\n",
    "                'zip_code_93700', 'earliest_cr_line_year']\n"
   ]
  },
  {
   "cell_type": "code",
   "execution_count": null,
   "id": "8212d9e7",
   "metadata": {},
   "outputs": [],
   "source": [
    "if 'loan_status' in column_names:\n",
    "    column_names.remove('loan_status')"
   ]
  },
  {
   "cell_type": "code",
   "execution_count": null,
   "id": "3107120f",
   "metadata": {},
   "outputs": [],
   "source": [
    "\n",
    "# Assuming X_train is your NumPy array\n",
    "X_train_df = pd.DataFrame(X_train, columns=column_names)\n",
    "print(X_train_df.head())"
   ]
  },
  {
   "cell_type": "code",
   "execution_count": null,
   "id": "37d31723",
   "metadata": {},
   "outputs": [],
   "source": [
    "# Get feature importances from the RandomForest model\n",
    "feature_importances = rf_clf.feature_importances_\n",
    "\n",
    "# Creating a DataFrame to view the features and their importance scores\n",
    "features_df = pd.DataFrame({\n",
    "    'Feature': X_train_df.columns,\n",
    "    'Importance': feature_importances\n",
    "}).sort_values(by='Importance', ascending=False)\n",
    "\n",
    "# Display the top 10 most important features\n",
    "print(\"Top 10 Most Important Features:\")\n",
    "print(features_df.head(10))"
   ]
  },
  {
   "cell_type": "markdown",
   "id": "6d37c45c",
   "metadata": {
    "papermill": {
     "duration": 1.190457,
     "end_time": "2023-01-31T14:34:42.958645",
     "exception": false,
     "start_time": "2023-01-31T14:34:41.768188",
     "status": "completed"
    },
    "tags": []
   },
   "source": [
    "# 📊 Comparing Models Prerformance"
   ]
  },
  {
   "cell_type": "code",
   "execution_count": null,
   "id": "35aca8cc",
   "metadata": {
    "_kg_hide-input": true,
    "execution": {
     "iopub.execute_input": "2023-01-31T14:34:45.107075Z",
     "iopub.status.busy": "2023-01-31T14:34:45.106715Z",
     "iopub.status.idle": "2023-01-31T14:35:00.115274Z",
     "shell.execute_reply": "2023-01-31T14:35:00.113559Z"
    },
    "papermill": {
     "duration": 16.108958,
     "end_time": "2023-01-31T14:35:00.117995",
     "exception": false,
     "start_time": "2023-01-31T14:34:44.009037",
     "status": "completed"
    },
    "tags": []
   },
   "outputs": [
    {
     "name": "stdout",
     "output_type": "stream",
     "text": [
      "RANDOM FOREST                  roc_auc_score: 0.725\n",
      "XGBOOST                        roc_auc_score: 0.734\n",
      "ANNS                           roc_auc_score: 0.905\n"
     ]
    }
   ],
   "source": [
    "ml_models = {\n",
    "    'Random Forest': rf_clf, \n",
    "    'ANNs': model\n",
    "}\n",
    "\n",
    "for model in ml_models:\n",
    "    print(f\"{model.upper():{30}} roc_auc_score: {roc_auc_score(y_test, ml_models[model].predict(X_test)):.3f}\")"
   ]
  },
  {
   "cell_type": "code",
   "execution_count": null,
   "id": "9c287e9d",
   "metadata": {
    "_kg_hide-input": true,
    "execution": {
     "iopub.execute_input": "2023-01-31T14:35:02.661377Z",
     "iopub.status.busy": "2023-01-31T14:35:02.661007Z",
     "iopub.status.idle": "2023-01-31T14:35:02.797665Z",
     "shell.execute_reply": "2023-01-31T14:35:02.796567Z"
    },
    "papermill": {
     "duration": 1.331525,
     "end_time": "2023-01-31T14:35:02.800493",
     "exception": false,
     "start_time": "2023-01-31T14:35:01.468968",
     "status": "completed"
    },
    "tags": []
   },
   "outputs": [
    {
     "data": {},
     "metadata": {},
     "output_type": "display_data"
    },
    {
     "data": {
      "application/vnd.holoviews_exec.v0+json": "",
      "text/html": [
       "<div id='5985'>\n",
       "  <div class=\"bk-root\" id=\"18653e4c-db87-45d9-94d5-bdc7e8435292\" data-root-id=\"5985\"></div>\n",
       "</div>\n",
       "<script type=\"application/javascript\">(function(root) {\n",
       "  function embed_document(root) {\n",
       "    var docs_json = {\"23f9a8c3-dab4-48e2-aac1-33885f9fb3b7\":{\"defs\":[{\"extends\":null,\"module\":null,\"name\":\"ReactiveHTML1\",\"overrides\":[],\"properties\":[]},{\"extends\":null,\"module\":null,\"name\":\"FlexBox1\",\"overrides\":[],\"properties\":[{\"default\":\"flex-start\",\"kind\":null,\"name\":\"align_content\"},{\"default\":\"flex-start\",\"kind\":null,\"name\":\"align_items\"},{\"default\":\"row\",\"kind\":null,\"name\":\"flex_direction\"},{\"default\":\"wrap\",\"kind\":null,\"name\":\"flex_wrap\"},{\"default\":\"flex-start\",\"kind\":null,\"name\":\"justify_content\"}]},{\"extends\":null,\"module\":null,\"name\":\"GridStack1\",\"overrides\":[],\"properties\":[{\"default\":\"warn\",\"kind\":null,\"name\":\"mode\"},{\"default\":null,\"kind\":null,\"name\":\"ncols\"},{\"default\":null,\"kind\":null,\"name\":\"nrows\"},{\"default\":true,\"kind\":null,\"name\":\"allow_resize\"},{\"default\":true,\"kind\":null,\"name\":\"allow_drag\"},{\"default\":[],\"kind\":null,\"name\":\"state\"}]},{\"extends\":null,\"module\":null,\"name\":\"click1\",\"overrides\":[],\"properties\":[{\"default\":\"\",\"kind\":null,\"name\":\"terminal_output\"},{\"default\":\"\",\"kind\":null,\"name\":\"debug_name\"},{\"default\":0,\"kind\":null,\"name\":\"clears\"}]},{\"extends\":null,\"module\":null,\"name\":\"NotificationAreaBase1\",\"overrides\":[],\"properties\":[{\"default\":\"bottom-right\",\"kind\":null,\"name\":\"position\"},{\"default\":0,\"kind\":null,\"name\":\"_clear\"}]},{\"extends\":null,\"module\":null,\"name\":\"NotificationArea1\",\"overrides\":[],\"properties\":[{\"default\":[],\"kind\":null,\"name\":\"notifications\"},{\"default\":\"bottom-right\",\"kind\":null,\"name\":\"position\"},{\"default\":0,\"kind\":null,\"name\":\"_clear\"},{\"default\":[{\"background\":\"#ffc107\",\"icon\":{\"className\":\"fas fa-exclamation-triangle\",\"color\":\"white\",\"tagName\":\"i\"},\"type\":\"warning\"},{\"background\":\"#007bff\",\"icon\":{\"className\":\"fas fa-info-circle\",\"color\":\"white\",\"tagName\":\"i\"},\"type\":\"info\"}],\"kind\":null,\"name\":\"types\"}]},{\"extends\":null,\"module\":null,\"name\":\"Notification\",\"overrides\":[],\"properties\":[{\"default\":null,\"kind\":null,\"name\":\"background\"},{\"default\":3000,\"kind\":null,\"name\":\"duration\"},{\"default\":null,\"kind\":null,\"name\":\"icon\"},{\"default\":\"\",\"kind\":null,\"name\":\"message\"},{\"default\":null,\"kind\":null,\"name\":\"notification_type\"},{\"default\":false,\"kind\":null,\"name\":\"_destroyed\"}]},{\"extends\":null,\"module\":null,\"name\":\"TemplateActions1\",\"overrides\":[],\"properties\":[{\"default\":0,\"kind\":null,\"name\":\"open_modal\"},{\"default\":0,\"kind\":null,\"name\":\"close_modal\"}]},{\"extends\":null,\"module\":null,\"name\":\"MaterialTemplateActions1\",\"overrides\":[],\"properties\":[{\"default\":0,\"kind\":null,\"name\":\"open_modal\"},{\"default\":0,\"kind\":null,\"name\":\"close_modal\"}]}],\"roots\":{\"references\":[{\"attributes\":{},\"id\":\"5997\",\"type\":\"CategoricalScale\"},{\"attributes\":{},\"id\":\"6034\",\"type\":\"AllLabels\"},{\"attributes\":{\"axis_label\":\"value\",\"coordinates\":null,\"formatter\":{\"id\":\"6030\"},\"group\":null,\"major_label_policy\":{\"id\":\"6031\"},\"ticker\":{\"id\":\"6000\"}},\"id\":\"5999\",\"type\":\"LinearAxis\"},{\"attributes\":{\"fill_alpha\":{\"value\":0.4},\"fill_color\":{\"field\":\"Variable\",\"transform\":{\"id\":\"6019\"}},\"hatch_alpha\":{\"value\":0.4},\"hatch_color\":{\"field\":\"Variable\",\"transform\":{\"id\":\"6019\"}},\"height\":{\"value\":0.8},\"line_alpha\":{\"value\":0.4},\"right\":{\"field\":\"value\"},\"y\":{\"field\":\"xoffsets\"}},\"id\":\"6023\",\"type\":\"HBar\"},{\"attributes\":{},\"id\":\"6000\",\"type\":\"BasicTicker\"},{\"attributes\":{},\"id\":\"6046\",\"type\":\"UnionRenderers\"},{\"attributes\":{\"axis\":{\"id\":\"5999\"},\"coordinates\":null,\"grid_line_color\":null,\"group\":null,\"ticker\":null},\"id\":\"6002\",\"type\":\"Grid\"},{\"attributes\":{},\"id\":\"6004\",\"type\":\"CategoricalTicker\"},{\"attributes\":{},\"id\":\"6030\",\"type\":\"BasicTickFormatter\"},{\"attributes\":{\"axis_label\":\"\",\"coordinates\":null,\"formatter\":{\"id\":\"6033\"},\"group\":null,\"major_label_policy\":{\"id\":\"6034\"},\"ticker\":{\"id\":\"6004\"}},\"id\":\"6003\",\"type\":\"CategoricalAxis\"},{\"attributes\":{\"factors\":[[\"Train\",\"Random Forest\"],[\"Train\",\"XGBoost\"],[\"Train\",\"ANNs\"],[\"Test\",\"Random Forest\"],[\"Test\",\"XGBoost\"],[\"Test\",\"ANNs\"]],\"tags\":[[[\"index\",\"index\",null],[\"Variable\",\"Variable\",null]]]},\"id\":\"5988\",\"type\":\"FactorRange\"},{\"attributes\":{\"data\":{\"Variable\":[\"ANNs\",\"ANNs\",\"XGBoost\",\"XGBoost\",\"Random Forest\",\"Random Forest\"],\"index\":[\"Train\",\"Test\",\"Train\",\"Test\",\"Train\",\"Test\"],\"value\":{\"__ndarray__\":\"hvncZVAE7T8pgV29w/LsP/+hhXTz4+c/TT6+suJ95z8AAAAAAADwPxIAsi6fMuc/\",\"dtype\":\"float64\",\"order\":\"little\",\"shape\":[6]},\"xoffsets\":[[\"Train\",\"ANNs\"],[\"Test\",\"ANNs\"],[\"Train\",\"XGBoost\"],[\"Test\",\"XGBoost\"],[\"Train\",\"Random Forest\"],[\"Test\",\"Random Forest\"]]},\"selected\":{\"id\":\"6021\"},\"selection_policy\":{\"id\":\"6046\"}},\"id\":\"6020\",\"type\":\"ColumnDataSource\"},{\"attributes\":{\"fill_alpha\":{\"value\":0.2},\"fill_color\":{\"field\":\"Variable\",\"transform\":{\"id\":\"6019\"}},\"hatch_alpha\":{\"value\":0.2},\"hatch_color\":{\"field\":\"Variable\",\"transform\":{\"id\":\"6019\"}},\"height\":{\"value\":0.8},\"line_alpha\":{\"value\":0.2},\"right\":{\"field\":\"value\"},\"y\":{\"field\":\"xoffsets\"}},\"id\":\"6025\",\"type\":\"HBar\"},{\"attributes\":{\"fill_alpha\":{\"value\":0.4},\"fill_color\":{\"field\":\"Variable\",\"transform\":{\"id\":\"6019\"}},\"hatch_alpha\":{\"value\":0.4},\"hatch_color\":{\"field\":\"Variable\",\"transform\":{\"id\":\"6019\"}},\"hatch_scale\":{\"value\":12.0},\"hatch_weight\":{\"value\":1.0},\"height\":{\"value\":0.8},\"left\":{\"value\":0},\"line_alpha\":{\"value\":0.4},\"line_cap\":{\"value\":\"butt\"},\"line_color\":{\"value\":\"black\"},\"line_dash\":{\"value\":[]},\"line_dash_offset\":{\"value\":0},\"line_join\":{\"value\":\"bevel\"},\"line_width\":{\"value\":1},\"right\":{\"field\":\"value\"},\"y\":{\"field\":\"xoffsets\"}},\"id\":\"6028\",\"type\":\"HBar\"},{\"attributes\":{\"coordinates\":null,\"data_source\":{\"id\":\"6020\"},\"glyph\":{\"id\":\"6023\"},\"group\":null,\"hover_glyph\":null,\"muted_glyph\":{\"id\":\"6025\"},\"nonselection_glyph\":{\"id\":\"6024\"},\"selection_glyph\":{\"id\":\"6028\"},\"view\":{\"id\":\"6027\"}},\"id\":\"6026\",\"type\":\"GlyphRenderer\"},{\"attributes\":{\"source\":{\"id\":\"6020\"}},\"id\":\"6027\",\"type\":\"CDSView\"},{\"attributes\":{\"callback\":null,\"renderers\":[{\"id\":\"6026\"}],\"tags\":[\"hv_created\"],\"tooltips\":[[\"index\",\"@{index}\"],[\"Variable\",\"@{Variable}\"],[\"value\",\"@{value}\"]]},\"id\":\"5989\",\"type\":\"HoverTool\"},{\"attributes\":{},\"id\":\"6006\",\"type\":\"SaveTool\"},{\"attributes\":{},\"id\":\"6007\",\"type\":\"PanTool\"},{\"attributes\":{},\"id\":\"6008\",\"type\":\"WheelZoomTool\"},{\"attributes\":{},\"id\":\"5995\",\"type\":\"LinearScale\"},{\"attributes\":{\"margin\":[5,5,5,5],\"name\":\"HSpacer07304\",\"sizing_mode\":\"stretch_width\"},\"id\":\"5986\",\"type\":\"Spacer\"},{\"attributes\":{\"below\":[{\"id\":\"5999\"}],\"center\":[{\"id\":\"6002\"},{\"id\":\"6005\"}],\"height\":400,\"left\":[{\"id\":\"6003\"}],\"margin\":[5,5,5,5],\"min_border_bottom\":10,\"min_border_left\":10,\"min_border_right\":10,\"min_border_top\":10,\"renderers\":[{\"id\":\"6026\"}],\"sizing_mode\":\"fixed\",\"title\":{\"id\":\"5991\"},\"toolbar\":{\"id\":\"6012\"},\"width\":500,\"x_range\":{\"id\":\"5987\"},\"x_scale\":{\"id\":\"5995\"},\"y_range\":{\"id\":\"5988\"},\"y_scale\":{\"id\":\"5997\"}},\"id\":\"5990\",\"subtype\":\"Figure\",\"type\":\"Plot\"},{\"attributes\":{\"overlay\":{\"id\":\"6011\"}},\"id\":\"6009\",\"type\":\"BoxZoomTool\"},{\"attributes\":{\"factors\":[\"ANNs\",\"XGBoost\",\"Random Forest\"],\"palette\":[\"#30a2da\",\"#fc4f30\",\"#e5ae38\"]},\"id\":\"6019\",\"type\":\"CategoricalColorMapper\"},{\"attributes\":{\"coordinates\":null,\"group\":null,\"text\":\"ROC Scores of ML Models\",\"text_color\":\"black\",\"text_font_size\":\"12pt\"},\"id\":\"5991\",\"type\":\"Title\"},{\"attributes\":{\"fill_alpha\":{\"value\":0.4},\"fill_color\":{\"field\":\"Variable\",\"transform\":{\"id\":\"6019\"}},\"hatch_alpha\":{\"value\":0.1},\"hatch_color\":{\"field\":\"Variable\",\"transform\":{\"id\":\"6019\"}},\"height\":{\"value\":0.8},\"line_alpha\":{\"value\":0.4},\"right\":{\"field\":\"value\"},\"y\":{\"field\":\"xoffsets\"}},\"id\":\"6024\",\"type\":\"HBar\"},{\"attributes\":{\"margin\":[5,5,5,5],\"name\":\"HSpacer07305\",\"sizing_mode\":\"stretch_width\"},\"id\":\"6049\",\"type\":\"Spacer\"},{\"attributes\":{\"children\":[{\"id\":\"5986\"},{\"id\":\"5990\"},{\"id\":\"6049\"}],\"margin\":[0,0,0,0],\"name\":\"Row07300\",\"tags\":[\"embedded\"]},\"id\":\"5985\",\"type\":\"Row\"},{\"attributes\":{\"end\":1.0275070580290047,\"reset_end\":1.0275070580290047,\"reset_start\":0.0,\"tags\":[[[\"value\",\"value\",null]]]},\"id\":\"5987\",\"type\":\"Range1d\"},{\"attributes\":{\"axis\":{\"id\":\"6003\"},\"coordinates\":null,\"dimension\":1,\"grid_line_color\":null,\"group\":null,\"ticker\":null},\"id\":\"6005\",\"type\":\"Grid\"},{\"attributes\":{},\"id\":\"6010\",\"type\":\"ResetTool\"},{\"attributes\":{},\"id\":\"6031\",\"type\":\"AllLabels\"},{\"attributes\":{},\"id\":\"6021\",\"type\":\"Selection\"},{\"attributes\":{\"bottom_units\":\"screen\",\"coordinates\":null,\"fill_alpha\":0.5,\"fill_color\":\"lightgrey\",\"group\":null,\"left_units\":\"screen\",\"level\":\"overlay\",\"line_alpha\":1.0,\"line_color\":\"black\",\"line_dash\":[4,4],\"line_width\":2,\"right_units\":\"screen\",\"syncable\":false,\"top_units\":\"screen\"},\"id\":\"6011\",\"type\":\"BoxAnnotation\"},{\"attributes\":{},\"id\":\"6033\",\"type\":\"CategoricalTickFormatter\"},{\"attributes\":{\"active_drag\":{\"id\":\"6007\"},\"active_scroll\":{\"id\":\"6008\"},\"tools\":[{\"id\":\"5989\"},{\"id\":\"6006\"},{\"id\":\"6007\"},{\"id\":\"6008\"},{\"id\":\"6009\"},{\"id\":\"6010\"}]},\"id\":\"6012\",\"type\":\"Toolbar\"}],\"root_ids\":[\"5985\"]},\"title\":\"Bokeh Application\",\"version\":\"2.4.3\"}};\n",
       "    var render_items = [{\"docid\":\"23f9a8c3-dab4-48e2-aac1-33885f9fb3b7\",\"root_ids\":[\"5985\"],\"roots\":{\"5985\":\"18653e4c-db87-45d9-94d5-bdc7e8435292\"}}];\n",
       "    root.Bokeh.embed.embed_items_notebook(docs_json, render_items);\n",
       "    for (const render_item of render_items) {\n",
       "      for (const root_id of render_item.root_ids) {\n",
       "\tconst id_el = document.getElementById(root_id)\n",
       "\tif (id_el.children.length && (id_el.children[0].className === 'bk-root')) {\n",
       "\t  const root_el = id_el.children[0]\n",
       "\t  root_el.id = root_el.id + '-rendered'\n",
       "\t}\n",
       "      }\n",
       "    }\n",
       "  }\n",
       "  if (root.Bokeh !== undefined && root.Bokeh.Panel !== undefined) {\n",
       "    embed_document(root);\n",
       "  } else {\n",
       "    var attempts = 0;\n",
       "    var timer = setInterval(function(root) {\n",
       "      if (root.Bokeh !== undefined && root.Bokeh.Panel !== undefined) {\n",
       "        clearInterval(timer);\n",
       "        embed_document(root);\n",
       "      } else if (document.readyState == \"complete\") {\n",
       "        attempts++;\n",
       "        if (attempts > 200) {\n",
       "          clearInterval(timer);\n",
       "          console.log(\"Bokeh: ERROR: Unable to run BokehJS code because BokehJS library is missing\");\n",
       "        }\n",
       "      }\n",
       "    }, 25, root)\n",
       "  }\n",
       "})(window);</script>"
      ],
      "text/plain": [
       ":Bars   [index,Variable]   (value)"
      ]
     },
     "execution_count": 119,
     "metadata": {
      "application/vnd.holoviews_exec.v0+json": {
       "id": "5985"
      }
     },
     "output_type": "execute_result"
    }
   ],
   "source": [
    "scores_df = pd.DataFrame(scores_dict)\n",
    "scores_df.hvplot.barh(\n",
    "    width=500, height=400, \n",
    "    title=\"ROC Scores of ML Models\", xlabel=\"ROC Scores\", \n",
    "    alpha=0.4, legend='top'\n",
    ")"
   ]
  },
  {
   "cell_type": "code",
   "execution_count": null,
   "id": "f6abb6d9",
   "metadata": {
    "papermill": {
     "duration": 1.025564,
     "end_time": "2023-01-31T14:35:05.140208",
     "exception": false,
     "start_time": "2023-01-31T14:35:04.114644",
     "status": "completed"
    },
    "tags": []
   },
   "outputs": [],
   "source": []
  }
 ],
 "metadata": {
  "kernelspec": {
   "display_name": "Python 3",
   "language": "python",
   "name": "python3"
  },
  "language_info": {
   "codemirror_mode": {
    "name": "ipython",
    "version": 3
   },
   "file_extension": ".py",
   "mimetype": "text/x-python",
   "name": "python",
   "nbconvert_exporter": "python",
   "pygments_lexer": "ipython3",
   "version": "3.12.3"
  },
  "papermill": {
   "default_parameters": {},
   "duration": 1434.559462,
   "end_time": "2023-01-31T14:35:09.548746",
   "environment_variables": {},
   "exception": null,
   "input_path": "__notebook__.ipynb",
   "output_path": "__notebook__.ipynb",
   "parameters": {},
   "start_time": "2023-01-31T14:11:14.989284",
   "version": "2.3.4"
  }
 },
 "nbformat": 4,
 "nbformat_minor": 5
}

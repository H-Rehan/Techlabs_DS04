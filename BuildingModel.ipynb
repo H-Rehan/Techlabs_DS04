{
 "cells": [
  {
   "cell_type": "code",
   "execution_count": 134,
   "metadata": {},
   "outputs": [],
   "source": [
    "import pandas as pd\n",
    "import numpy as np\n",
    "import seaborn as sns\n",
    "from scipy import stats \n",
    "import matplotlib.pyplot as plt\n",
    "import hvplot.pandas\n",
    "\n",
    "from sklearn.model_selection import train_test_split, RandomizedSearchCV\n",
    "from sklearn.preprocessing import MinMaxScaler\n",
    "\n",
    "from sklearn.metrics import (\n",
    "    accuracy_score, confusion_matrix, classification_report, \n",
    "    roc_auc_score, roc_curve, auc,\n",
    "    ConfusionMatrixDisplay\n",
    ")\n",
    "from sklearn.metrics import ConfusionMatrixDisplay, RocCurveDisplay\n",
    "\n",
    "from xgboost import XGBClassifier\n",
    "from sklearn.ensemble import RandomForestClassifier\n",
    "\n",
    "import tensorflow as tf\n",
    "from tensorflow.keras.models import Sequential, Model\n",
    "from tensorflow.keras.layers import Dense, Dropout, BatchNormalization \n",
    "from tensorflow.keras.optimizers import Adam\n",
    "from tensorflow.keras.metrics import AUC\n",
    "\n",
    "pd.set_option('display.float', '{:.2f}'.format)\n",
    "pd.set_option('display.max_columns', 50)\n",
    "pd.set_option('display.max_rows', 50)"
   ]
  },
  {
   "cell_type": "code",
   "execution_count": 135,
   "metadata": {},
   "outputs": [],
   "source": [
    "data = pd.read_csv(\"C:/Users/Mohammad Nahle/Downloads/Techlabs Data/AcceptedLoans.csv\")"
   ]
  },
  {
   "cell_type": "code",
   "execution_count": 136,
   "metadata": {},
   "outputs": [],
   "source": [
    "data['loan_status'] = data.loan_status.map({'Fully Paid':1, 'Charged Off':0})"
   ]
  },
  {
   "cell_type": "code",
   "execution_count": 137,
   "metadata": {},
   "outputs": [
    {
     "name": "stdout",
     "output_type": "stream",
     "text": [
      "The Length of the data: (396030, 27)\n"
     ]
    }
   ],
   "source": [
    "print(f\"The Length of the data: {data.shape}\")"
   ]
  },
  {
   "cell_type": "code",
   "execution_count": 138,
   "metadata": {},
   "outputs": [
    {
     "name": "stdout",
     "output_type": "stream",
     "text": [
      "'emp_title': number of missing values '22927' ==> '5.789%'\n",
      "'emp_length': number of missing values '18301' ==> '4.621%'\n",
      "'title': number of missing values '1756' ==> '0.443%'\n",
      "'revol_util': number of missing values '276' ==> '0.070%'\n",
      "'mort_acc': number of missing values '37795' ==> '9.543%'\n",
      "'pub_rec_bankruptcies': number of missing values '535' ==> '0.135%'\n"
     ]
    }
   ],
   "source": [
    "for column in data.columns:\n",
    "    if data[column].isna().sum() != 0:\n",
    "        missing = data[column].isna().sum()\n",
    "        portion = (missing / data.shape[0]) * 100\n",
    "        print(f\"'{column}': number of missing values '{missing}' ==> '{portion:.3f}%'\")"
   ]
  },
  {
   "cell_type": "code",
   "execution_count": 139,
   "metadata": {},
   "outputs": [
    {
     "data": {
      "text/plain": [
       "173105"
      ]
     },
     "execution_count": 139,
     "metadata": {},
     "output_type": "execute_result"
    }
   ],
   "source": [
    "data.emp_title.nunique()"
   ]
  },
  {
   "cell_type": "code",
   "execution_count": 140,
   "metadata": {},
   "outputs": [],
   "source": [
    "data.drop('emp_title', axis=1, inplace=True)"
   ]
  },
  {
   "cell_type": "code",
   "execution_count": 141,
   "metadata": {},
   "outputs": [
    {
     "data": {
      "text/plain": [
       "array(['10+ years', '4 years', '< 1 year', '6 years', '9 years',\n",
       "       '2 years', '3 years', '8 years', '7 years', '5 years', '1 year',\n",
       "       nan], dtype=object)"
      ]
     },
     "execution_count": 141,
     "metadata": {},
     "output_type": "execute_result"
    }
   ],
   "source": [
    "data.emp_length.unique()"
   ]
  },
  {
   "cell_type": "code",
   "execution_count": 142,
   "metadata": {},
   "outputs": [
    {
     "name": "stdout",
     "output_type": "stream",
     "text": [
      "10+ years years in this position:\n",
      "loan_status\n",
      "1   0.82\n",
      "0   0.18\n",
      "Name: proportion, dtype: float64\n",
      "4 years years in this position:\n",
      "loan_status\n",
      "1   0.81\n",
      "0   0.19\n",
      "Name: proportion, dtype: float64\n",
      "< 1 year years in this position:\n",
      "loan_status\n",
      "1   0.79\n",
      "0   0.21\n",
      "Name: proportion, dtype: float64\n",
      "6 years years in this position:\n",
      "loan_status\n",
      "1   0.81\n",
      "0   0.19\n",
      "Name: proportion, dtype: float64\n",
      "9 years years in this position:\n",
      "loan_status\n",
      "1   0.80\n",
      "0   0.20\n",
      "Name: proportion, dtype: float64\n",
      "2 years years in this position:\n",
      "loan_status\n",
      "1   0.81\n",
      "0   0.19\n",
      "Name: proportion, dtype: float64\n",
      "3 years years in this position:\n",
      "loan_status\n",
      "1   0.80\n",
      "0   0.20\n",
      "Name: proportion, dtype: float64\n",
      "8 years years in this position:\n",
      "loan_status\n",
      "1   0.80\n",
      "0   0.20\n",
      "Name: proportion, dtype: float64\n",
      "7 years years in this position:\n",
      "loan_status\n",
      "1   0.81\n",
      "0   0.19\n",
      "Name: proportion, dtype: float64\n",
      "5 years years in this position:\n",
      "loan_status\n",
      "1   0.81\n",
      "0   0.19\n",
      "Name: proportion, dtype: float64\n",
      "1 year years in this position:\n",
      "loan_status\n",
      "1   0.80\n",
      "0   0.20\n",
      "Name: proportion, dtype: float64\n",
      "nan years in this position:\n",
      "Series([], Name: proportion, dtype: float64)\n"
     ]
    }
   ],
   "source": [
    "for year in data.emp_length.unique():\n",
    "    print(f\"{year} years in this position:\")\n",
    "    print(f\"{data[data.emp_length == year].loan_status.value_counts(normalize=True)}\")"
   ]
  },
  {
   "cell_type": "code",
   "execution_count": 143,
   "metadata": {},
   "outputs": [],
   "source": [
    "data.drop('emp_length', axis=1, inplace=True)"
   ]
  },
  {
   "cell_type": "code",
   "execution_count": 144,
   "metadata": {},
   "outputs": [
    {
     "data": {
      "text/plain": [
       "title\n",
       "Debt consolidation         152472\n",
       "Credit card refinancing     51487\n",
       "Home improvement            15264\n",
       "Other                       12930\n",
       "Debt Consolidation          11608\n",
       "Name: count, dtype: int64"
      ]
     },
     "execution_count": 144,
     "metadata": {},
     "output_type": "execute_result"
    }
   ],
   "source": [
    "data.title.value_counts().head()"
   ]
  },
  {
   "cell_type": "code",
   "execution_count": 145,
   "metadata": {},
   "outputs": [
    {
     "data": {
      "text/plain": [
       "purpose\n",
       "debt_consolidation    234507\n",
       "credit_card            83019\n",
       "home_improvement       24030\n",
       "other                  21185\n",
       "major_purchase          8790\n",
       "Name: count, dtype: int64"
      ]
     },
     "execution_count": 145,
     "metadata": {},
     "output_type": "execute_result"
    }
   ],
   "source": [
    "data.purpose.value_counts().head()"
   ]
  },
  {
   "cell_type": "code",
   "execution_count": 146,
   "metadata": {},
   "outputs": [],
   "source": [
    "data.drop('title', axis=1, inplace=True)"
   ]
  },
  {
   "cell_type": "code",
   "execution_count": 147,
   "metadata": {},
   "outputs": [
    {
     "data": {
      "text/plain": [
       "mort_acc\n",
       "0.00     139777\n",
       "1.00      60416\n",
       "2.00      49948\n",
       "3.00      38049\n",
       "4.00      27887\n",
       "5.00      18194\n",
       "6.00      11069\n",
       "7.00       6052\n",
       "8.00       3121\n",
       "9.00       1656\n",
       "10.00       865\n",
       "11.00       479\n",
       "12.00       264\n",
       "13.00       146\n",
       "14.00       107\n",
       "15.00        61\n",
       "16.00        37\n",
       "17.00        22\n",
       "18.00        18\n",
       "19.00        15\n",
       "20.00        13\n",
       "24.00        10\n",
       "22.00         7\n",
       "21.00         4\n",
       "25.00         4\n",
       "27.00         3\n",
       "32.00         2\n",
       "31.00         2\n",
       "23.00         2\n",
       "26.00         2\n",
       "28.00         1\n",
       "30.00         1\n",
       "34.00         1\n",
       "Name: count, dtype: int64"
      ]
     },
     "execution_count": 147,
     "metadata": {},
     "output_type": "execute_result"
    }
   ],
   "source": [
    "data.mort_acc.value_counts()"
   ]
  },
  {
   "cell_type": "code",
   "execution_count": 148,
   "metadata": {},
   "outputs": [
    {
     "data": {
      "text/plain": [
       "37795"
      ]
     },
     "execution_count": 148,
     "metadata": {},
     "output_type": "execute_result"
    }
   ],
   "source": [
    "data.mort_acc.isna().sum()"
   ]
  },
  {
   "cell_type": "code",
   "execution_count": 149,
   "metadata": {},
   "outputs": [],
   "source": [
    "# Convert 'mort_acc' to a numeric data type, coercing errors to NaN\n",
    "data['mort_acc'] = pd.to_numeric(data['mort_acc'], errors='coerce')\n",
    "\n",
    "# Optionally, handle missing values by filling them or dropping them\n",
    "# data['mort_acc'] = data['mort_acc'].fillna(0) # Example: Fill missing values with 0\n",
    "\n",
    "# Now calculate the mean of 'mort_acc' grouped by 'total_acc'\n",
    "total_acc_avg = data.groupby('total_acc')['mort_acc'].mean()\n",
    "\n",
    "# To fill missing 'mort_acc' based on the averages by 'total_acc'\n",
    "data['mort_acc'] = data.apply(\n",
    "    lambda row: total_acc_avg[row['total_acc']] if pd.isnull(row['mort_acc']) else row['mort_acc'],\n",
    "    axis=1\n",
    ")"
   ]
  },
  {
   "cell_type": "code",
   "execution_count": 150,
   "metadata": {},
   "outputs": [],
   "source": [
    "def fill_mort_acc(total_acc, mort_acc):\n",
    "    if np.isnan(mort_acc):\n",
    "        return total_acc_avg[total_acc].round()\n",
    "    else:\n",
    "        return mort_acc"
   ]
  },
  {
   "cell_type": "code",
   "execution_count": 151,
   "metadata": {},
   "outputs": [],
   "source": [
    "data['mort_acc'] = data.apply(lambda x: fill_mort_acc(x['total_acc'], x['mort_acc']), axis=1)"
   ]
  },
  {
   "cell_type": "code",
   "execution_count": 152,
   "metadata": {},
   "outputs": [
    {
     "name": "stdout",
     "output_type": "stream",
     "text": [
      "'revol_util': number of missing values '276' ==> '0.070%'\n",
      "'pub_rec_bankruptcies': number of missing values '535' ==> '0.135%'\n"
     ]
    }
   ],
   "source": [
    "for column in data.columns:\n",
    "    if data[column].isna().sum() != 0:\n",
    "        missing = data[column].isna().sum()\n",
    "        portion = (missing / data.shape[0]) * 100\n",
    "        print(f\"'{column}': number of missing values '{missing}' ==> '{portion:.3f}%'\")"
   ]
  },
  {
   "cell_type": "code",
   "execution_count": 153,
   "metadata": {},
   "outputs": [],
   "source": [
    "data.dropna(inplace=True)"
   ]
  },
  {
   "cell_type": "code",
   "execution_count": 154,
   "metadata": {},
   "outputs": [
    {
     "data": {
      "text/plain": [
       "(395219, 24)"
      ]
     },
     "execution_count": 154,
     "metadata": {},
     "output_type": "execute_result"
    }
   ],
   "source": [
    "data.shape"
   ]
  },
  {
   "cell_type": "code",
   "execution_count": 155,
   "metadata": {},
   "outputs": [
    {
     "name": "stdout",
     "output_type": "stream",
     "text": [
      "['term', 'grade', 'sub_grade', 'home_ownership', 'verification_status', 'issue_d', 'purpose', 'earliest_cr_line', 'initial_list_status', 'application_type', 'address']\n"
     ]
    }
   ],
   "source": [
    "print([column for column in data.columns if data[column].dtype == object])"
   ]
  },
  {
   "cell_type": "code",
   "execution_count": 156,
   "metadata": {},
   "outputs": [
    {
     "data": {
      "text/plain": [
       "array([' 36 months', ' 60 months'], dtype=object)"
      ]
     },
     "execution_count": 156,
     "metadata": {},
     "output_type": "execute_result"
    }
   ],
   "source": [
    "data.term.unique()"
   ]
  },
  {
   "cell_type": "code",
   "execution_count": 157,
   "metadata": {},
   "outputs": [],
   "source": [
    "term_values = {' 36 months': 36, ' 60 months': 60}\n",
    "data['term'] = data.term.map(term_values)"
   ]
  },
  {
   "cell_type": "code",
   "execution_count": 158,
   "metadata": {},
   "outputs": [
    {
     "data": {
      "text/plain": [
       "array([36, 60], dtype=int64)"
      ]
     },
     "execution_count": 158,
     "metadata": {},
     "output_type": "execute_result"
    }
   ],
   "source": [
    "data.term.unique()"
   ]
  },
  {
   "cell_type": "code",
   "execution_count": 159,
   "metadata": {},
   "outputs": [],
   "source": [
    "data.drop('grade', axis=1, inplace=True)"
   ]
  },
  {
   "cell_type": "code",
   "execution_count": 160,
   "metadata": {},
   "outputs": [],
   "source": [
    "dummies = ['sub_grade', 'verification_status', 'purpose', 'initial_list_status', \n",
    "           'application_type', 'home_ownership']\n",
    "data = pd.get_dummies(data, columns=dummies, drop_first=True)"
   ]
  },
  {
   "cell_type": "code",
   "execution_count": 161,
   "metadata": {},
   "outputs": [
    {
     "data": {
      "text/plain": [
       "0       0174 Michelle Gateway\\r\\nMendozaberg, OK 22690\n",
       "1    1076 Carney Fort Apt. 347\\r\\nLoganmouth, SD 05113\n",
       "2    87025 Mark Dale Apt. 269\\r\\nNew Sabrina, WV 05113\n",
       "3              823 Reid Ford\\r\\nDelacruzside, MA 00813\n",
       "4               679 Luna Roads\\r\\nGreggshire, VA 11650\n",
       "Name: address, dtype: object"
      ]
     },
     "execution_count": 161,
     "metadata": {},
     "output_type": "execute_result"
    }
   ],
   "source": [
    "data.address.head()"
   ]
  },
  {
   "cell_type": "code",
   "execution_count": 162,
   "metadata": {},
   "outputs": [],
   "source": [
    "data['zip_code'] = data.address.apply(lambda x: x[-5:])"
   ]
  },
  {
   "cell_type": "code",
   "execution_count": 163,
   "metadata": {},
   "outputs": [
    {
     "data": {
      "text/plain": [
       "zip_code\n",
       "70466    56880\n",
       "22690    56413\n",
       "30723    56402\n",
       "48052    55811\n",
       "00813    45725\n",
       "29597    45393\n",
       "05113    45300\n",
       "11650    11210\n",
       "93700    11126\n",
       "86630    10959\n",
       "Name: count, dtype: int64"
      ]
     },
     "execution_count": 163,
     "metadata": {},
     "output_type": "execute_result"
    }
   ],
   "source": [
    "data.zip_code.value_counts()"
   ]
  },
  {
   "cell_type": "code",
   "execution_count": 164,
   "metadata": {},
   "outputs": [],
   "source": [
    "data = pd.get_dummies(data, columns=['zip_code'], drop_first=True)"
   ]
  },
  {
   "cell_type": "code",
   "execution_count": 165,
   "metadata": {},
   "outputs": [],
   "source": [
    "data.drop('address', axis=1, inplace=True)"
   ]
  },
  {
   "cell_type": "code",
   "execution_count": 166,
   "metadata": {},
   "outputs": [],
   "source": [
    "data.drop('issue_d', axis=1, inplace=True)"
   ]
  },
  {
   "cell_type": "code",
   "execution_count": 167,
   "metadata": {},
   "outputs": [
    {
     "name": "stderr",
     "output_type": "stream",
     "text": [
      "C:\\Users\\Mohammad Nahle\\AppData\\Local\\Temp\\ipykernel_10140\\2863815111.py:2: UserWarning: Could not infer format, so each element will be parsed individually, falling back to `dateutil`. To ensure parsing is consistent and as-expected, please specify a format.\n",
      "  data['earliest_cr_line'] = pd.to_datetime(data['earliest_cr_line'], errors='coerce')\n"
     ]
    }
   ],
   "source": [
    "# Convert 'earliest_cr_line' to datetime format\n",
    "data['earliest_cr_line'] = pd.to_datetime(data['earliest_cr_line'], errors='coerce')\n",
    "\n",
    "# Extract the year from the datetime\n",
    "data['earliest_cr_line_year'] = data['earliest_cr_line'].dt.year"
   ]
  },
  {
   "cell_type": "code",
   "execution_count": 168,
   "metadata": {},
   "outputs": [],
   "source": [
    "data['earliest_cr_line'] = data.earliest_cr_line.dt.year\n"
   ]
  },
  {
   "cell_type": "code",
   "execution_count": 169,
   "metadata": {},
   "outputs": [
    {
     "data": {
      "text/plain": [
       "65"
      ]
     },
     "execution_count": 169,
     "metadata": {},
     "output_type": "execute_result"
    }
   ],
   "source": [
    "data.earliest_cr_line.nunique()\n"
   ]
  },
  {
   "cell_type": "code",
   "execution_count": 170,
   "metadata": {},
   "outputs": [
    {
     "data": {
      "text/plain": [
       "earliest_cr_line\n",
       "2000    29302\n",
       "2001    29031\n",
       "1999    26444\n",
       "2002    25849\n",
       "2003    23623\n",
       "        ...  \n",
       "1951        3\n",
       "1950        3\n",
       "1953        2\n",
       "1944        1\n",
       "1948        1\n",
       "Name: count, Length: 65, dtype: int64"
      ]
     },
     "execution_count": 170,
     "metadata": {},
     "output_type": "execute_result"
    }
   ],
   "source": [
    "data.earliest_cr_line.value_counts()"
   ]
  },
  {
   "cell_type": "code",
   "execution_count": 171,
   "metadata": {},
   "outputs": [],
   "source": [
    "data.drop('earliest_cr_line', axis=1, inplace=True)\n"
   ]
  },
  {
   "cell_type": "code",
   "execution_count": 104,
   "metadata": {},
   "outputs": [
    {
     "name": "stdout",
     "output_type": "stream",
     "text": [
      "Data shape: (395219, 81)\n",
      "Data shape: (395219, 81)\n"
     ]
    }
   ],
   "source": [
    "print(f\"Data shape: {data.shape}\")\n",
    "\n",
    "## Remove duplicate Features\n",
    "data = data.T.drop_duplicates()\n",
    "data = data.T\n",
    "\n",
    "# # Remove Duplicate Rows\n",
    "data.drop_duplicates(inplace=True)\n",
    "\n",
    "print(f\"Data shape: {data.shape}\")"
   ]
  },
  {
   "cell_type": "code",
   "execution_count": 172,
   "metadata": {},
   "outputs": [
    {
     "name": "stdout",
     "output_type": "stream",
     "text": [
      "Weight of positive values 0.8038479931379817\n",
      "Weight of negative values 0.19615200686201828\n"
     ]
    }
   ],
   "source": [
    "# Calculate the weights using iloc for positional indexing\n",
    "w_p = data['loan_status'].value_counts().iloc[0] / data.shape[0]\n",
    "w_n = data['loan_status'].value_counts().iloc[1] / data.shape[0]\n",
    "\n",
    "print(f\"Weight of positive values {w_p}\")\n",
    "print(f\"Weight of negative values {w_n}\")"
   ]
  },
  {
   "cell_type": "code",
   "execution_count": 173,
   "metadata": {},
   "outputs": [
    {
     "name": "stdout",
     "output_type": "stream",
     "text": [
      "(264796, 81)\n",
      "(130423, 81)\n"
     ]
    }
   ],
   "source": [
    "train, test = train_test_split(data, test_size=0.33, random_state=42)\n",
    "\n",
    "print(train.shape)\n",
    "print(test.shape)"
   ]
  },
  {
   "cell_type": "code",
   "execution_count": 174,
   "metadata": {},
   "outputs": [
    {
     "name": "stdout",
     "output_type": "stream",
     "text": [
      "(264776, 81)\n",
      "(264796, 81)\n"
     ]
    }
   ],
   "source": [
    "#Removing Outliers\n",
    "print(train[train['dti'] <= 50].shape)\n",
    "print(train.shape)\n"
   ]
  },
  {
   "cell_type": "code",
   "execution_count": 175,
   "metadata": {},
   "outputs": [
    {
     "name": "stdout",
     "output_type": "stream",
     "text": [
      "(264796, 81)\n",
      "(262143, 81)\n"
     ]
    }
   ],
   "source": [
    "print(train.shape)\n",
    "train = train[train['annual_inc'] <= 250000]\n",
    "train = train[train['dti'] <= 50]\n",
    "train = train[train['open_acc'] <= 40]\n",
    "train = train[train['total_acc'] <= 80]\n",
    "train = train[train['revol_util'] <= 120]\n",
    "train = train[train['revol_bal'] <= 250000]\n",
    "print(train.shape)"
   ]
  },
  {
   "cell_type": "code",
   "execution_count": 176,
   "metadata": {},
   "outputs": [],
   "source": [
    "#Normalizing the Data\n",
    "X_train, y_train = train.drop('loan_status', axis=1), train.loan_status\n",
    "X_test, y_test = test.drop('loan_status', axis=1), test.loan_status"
   ]
  },
  {
   "cell_type": "code",
   "execution_count": 177,
   "metadata": {},
   "outputs": [
    {
     "data": {
      "text/plain": [
       "loan_amnt                float64\n",
       "term                       int64\n",
       "int_rate                 float64\n",
       "installment              float64\n",
       "annual_inc               float64\n",
       "                          ...   \n",
       "zip_code_48052              bool\n",
       "zip_code_70466              bool\n",
       "zip_code_86630              bool\n",
       "zip_code_93700              bool\n",
       "earliest_cr_line_year      int32\n",
       "Length: 80, dtype: object"
      ]
     },
     "execution_count": 177,
     "metadata": {},
     "output_type": "execute_result"
    }
   ],
   "source": [
    "X_train.dtypes"
   ]
  },
  {
   "cell_type": "code",
   "execution_count": 178,
   "metadata": {},
   "outputs": [],
   "source": [
    "scaler = MinMaxScaler()\n",
    "X_train = scaler.fit_transform(X_train)\n",
    "X_test = scaler.transform(X_test)"
   ]
  },
  {
   "cell_type": "code",
   "execution_count": 179,
   "metadata": {},
   "outputs": [],
   "source": [
    "# Model Building\n",
    "\n",
    "def print_score(true, pred, train=True):\n",
    "    if train:\n",
    "        clf_report = pd.DataFrame(classification_report(true, pred, output_dict=True))\n",
    "        print(\"Train Result:\\n================================================\")\n",
    "        print(f\"Accuracy Score: {accuracy_score(true, pred) * 100:.2f}%\")\n",
    "        print(\"_______________________________________________\")\n",
    "        print(f\"CLASSIFICATION REPORT:\\n{clf_report}\")\n",
    "        print(\"_______________________________________________\")\n",
    "        print(f\"Confusion Matrix: \\n {confusion_matrix(true, pred)}\\n\")\n",
    "        \n",
    "    elif train==False:\n",
    "        clf_report = pd.DataFrame(classification_report(true, pred, output_dict=True))\n",
    "        print(\"Test Result:\\n================================================\")        \n",
    "        print(f\"Accuracy Score: {accuracy_score(true, pred) * 100:.2f}%\")\n",
    "        print(\"_______________________________________________\")\n",
    "        print(f\"CLASSIFICATION REPORT:\\n{clf_report}\")\n",
    "        print(\"_______________________________________________\")\n",
    "        print(f\"Confusion Matrix: \\n {confusion_matrix(true, pred)}\\n\")"
   ]
  },
  {
   "cell_type": "code",
   "execution_count": 180,
   "metadata": {},
   "outputs": [],
   "source": [
    "# ANNs\n",
    "\n",
    "def evaluate_nn(true, pred, train=True):\n",
    "    if train:\n",
    "        clf_report = pd.DataFrame(classification_report(true, pred, output_dict=True))\n",
    "        print(\"Train Result:\\n================================================\")\n",
    "        print(f\"Accuracy Score: {accuracy_score(true, pred) * 100:.2f}%\")\n",
    "        print(\"_______________________________________________\")\n",
    "        print(f\"CLASSIFICATION REPORT:\\n{clf_report}\")\n",
    "        print(\"_______________________________________________\")\n",
    "        print(f\"Confusion Matrix: \\n {confusion_matrix(true, pred)}\\n\")\n",
    "        \n",
    "    elif train==False:\n",
    "        clf_report = pd.DataFrame(classification_report(true, pred, output_dict=True))\n",
    "        print(\"Test Result:\\n================================================\")        \n",
    "        print(f\"Accuracy Score: {accuracy_score(true, pred) * 100:.2f}%\")\n",
    "        print(\"_______________________________________________\")\n",
    "        print(f\"CLASSIFICATION REPORT:\\n{clf_report}\")\n",
    "        print(\"_______________________________________________\")\n",
    "        print(f\"Confusion Matrix: \\n {confusion_matrix(true, pred)}\\n\")\n",
    "        \n",
    "def plot_learning_evolution(r):\n",
    "    plt.figure(figsize=(12, 8))\n",
    "    \n",
    "    plt.subplot(2, 2, 1)\n",
    "    plt.plot(r.history['loss'], label='Loss')\n",
    "    plt.plot(r.history['val_loss'], label='val_Loss')\n",
    "    plt.title('Loss evolution during trainig')\n",
    "    plt.legend()\n",
    "\n",
    "    plt.subplot(2, 2, 2)\n",
    "    plt.plot(r.history['AUC'], label='AUC')\n",
    "    plt.plot(r.history['val_AUC'], label='val_AUC')\n",
    "    plt.title('AUC score evolution during trainig')\n",
    "    plt.legend();\n",
    "\n",
    "def nn_model(num_columns, num_labels, hidden_units, dropout_rates, learning_rate):\n",
    "    inp = tf.keras.layers.Input(shape=(num_columns, ))\n",
    "    x = BatchNormalization()(inp)\n",
    "    x = Dropout(dropout_rates[0])(x)\n",
    "    for i in range(len(hidden_units)):\n",
    "        x = Dense(hidden_units[i], activation='relu')(x)\n",
    "        x = BatchNormalization()(x)\n",
    "        x = Dropout(dropout_rates[i + 1])(x)\n",
    "    x = Dense(num_labels, activation='sigmoid')(x)\n",
    "  \n",
    "    model = Model(inputs=inp, outputs=x)\n",
    "    model.compile(optimizer=Adam(learning_rate), loss='binary_crossentropy', metrics=[AUC(name='AUC')])\n",
    "    return model"
   ]
  },
  {
   "cell_type": "code",
   "execution_count": 115,
   "metadata": {},
   "outputs": [
    {
     "name": "stdout",
     "output_type": "stream",
     "text": [
      "Epoch 1/20\n",
      "\u001b[1m8192/8192\u001b[0m \u001b[32m━━━━━━━━━━━━━━━━━━━━\u001b[0m\u001b[37m\u001b[0m \u001b[1m18s\u001b[0m 2ms/step - AUC: 0.8436 - loss: 0.3304 - val_AUC: 0.9002 - val_loss: 0.2654\n",
      "Epoch 2/20\n",
      "\u001b[1m8192/8192\u001b[0m \u001b[32m━━━━━━━━━━━━━━━━━━━━\u001b[0m\u001b[37m\u001b[0m \u001b[1m15s\u001b[0m 2ms/step - AUC: 0.8750 - loss: 0.2937 - val_AUC: 0.9033 - val_loss: 0.2626\n",
      "Epoch 3/20\n",
      "\u001b[1m8192/8192\u001b[0m \u001b[32m━━━━━━━━━━━━━━━━━━━━\u001b[0m\u001b[37m\u001b[0m \u001b[1m15s\u001b[0m 2ms/step - AUC: 0.8797 - loss: 0.2892 - val_AUC: 0.9045 - val_loss: 0.2607\n",
      "Epoch 4/20\n",
      "\u001b[1m8192/8192\u001b[0m \u001b[32m━━━━━━━━━━━━━━━━━━━━\u001b[0m\u001b[37m\u001b[0m \u001b[1m15s\u001b[0m 2ms/step - AUC: 0.8856 - loss: 0.2833 - val_AUC: 0.9049 - val_loss: 0.2614\n",
      "Epoch 5/20\n",
      "\u001b[1m8192/8192\u001b[0m \u001b[32m━━━━━━━━━━━━━━━━━━━━\u001b[0m\u001b[37m\u001b[0m \u001b[1m15s\u001b[0m 2ms/step - AUC: 0.8875 - loss: 0.2794 - val_AUC: 0.9057 - val_loss: 0.2618\n",
      "Epoch 6/20\n",
      "\u001b[1m8192/8192\u001b[0m \u001b[32m━━━━━━━━━━━━━━━━━━━━\u001b[0m\u001b[37m\u001b[0m \u001b[1m17s\u001b[0m 2ms/step - AUC: 0.8875 - loss: 0.2811 - val_AUC: 0.9050 - val_loss: 0.2653\n",
      "Epoch 7/20\n",
      "\u001b[1m8192/8192\u001b[0m \u001b[32m━━━━━━━━━━━━━━━━━━━━\u001b[0m\u001b[37m\u001b[0m \u001b[1m16s\u001b[0m 2ms/step - AUC: 0.8885 - loss: 0.2794 - val_AUC: 0.9057 - val_loss: 0.2662\n",
      "Epoch 8/20\n",
      "\u001b[1m8192/8192\u001b[0m \u001b[32m━━━━━━━━━━━━━━━━━━━━\u001b[0m\u001b[37m\u001b[0m \u001b[1m16s\u001b[0m 2ms/step - AUC: 0.8902 - loss: 0.2780 - val_AUC: 0.9058 - val_loss: 0.2647\n",
      "Epoch 9/20\n",
      "\u001b[1m8192/8192\u001b[0m \u001b[32m━━━━━━━━━━━━━━━━━━━━\u001b[0m\u001b[37m\u001b[0m \u001b[1m17s\u001b[0m 2ms/step - AUC: 0.8894 - loss: 0.2796 - val_AUC: 0.9054 - val_loss: 0.2622\n",
      "Epoch 10/20\n",
      "\u001b[1m8192/8192\u001b[0m \u001b[32m━━━━━━━━━━━━━━━━━━━━\u001b[0m\u001b[37m\u001b[0m \u001b[1m15s\u001b[0m 2ms/step - AUC: 0.8910 - loss: 0.2776 - val_AUC: 0.9059 - val_loss: 0.2609\n",
      "Epoch 11/20\n",
      "\u001b[1m8192/8192\u001b[0m \u001b[32m━━━━━━━━━━━━━━━━━━━━\u001b[0m\u001b[37m\u001b[0m \u001b[1m14s\u001b[0m 2ms/step - AUC: 0.8909 - loss: 0.2769 - val_AUC: 0.9059 - val_loss: 0.2601\n",
      "Epoch 12/20\n",
      "\u001b[1m8192/8192\u001b[0m \u001b[32m━━━━━━━━━━━━━━━━━━━━\u001b[0m\u001b[37m\u001b[0m \u001b[1m14s\u001b[0m 2ms/step - AUC: 0.8900 - loss: 0.2788 - val_AUC: 0.9067 - val_loss: 0.2631\n",
      "Epoch 13/20\n",
      "\u001b[1m8192/8192\u001b[0m \u001b[32m━━━━━━━━━━━━━━━━━━━━\u001b[0m\u001b[37m\u001b[0m \u001b[1m14s\u001b[0m 2ms/step - AUC: 0.8905 - loss: 0.2778 - val_AUC: 0.9062 - val_loss: 0.2727\n",
      "Epoch 14/20\n",
      "\u001b[1m8192/8192\u001b[0m \u001b[32m━━━━━━━━━━━━━━━━━━━━\u001b[0m\u001b[37m\u001b[0m \u001b[1m16s\u001b[0m 2ms/step - AUC: 0.8915 - loss: 0.2765 - val_AUC: 0.9063 - val_loss: 0.2845\n",
      "Epoch 15/20\n",
      "\u001b[1m8192/8192\u001b[0m \u001b[32m━━━━━━━━━━━━━━━━━━━━\u001b[0m\u001b[37m\u001b[0m \u001b[1m16s\u001b[0m 2ms/step - AUC: 0.8931 - loss: 0.2748 - val_AUC: 0.9061 - val_loss: 0.2798\n",
      "Epoch 16/20\n",
      "\u001b[1m8192/8192\u001b[0m \u001b[32m━━━━━━━━━━━━━━━━━━━━\u001b[0m\u001b[37m\u001b[0m \u001b[1m17s\u001b[0m 2ms/step - AUC: 0.8936 - loss: 0.2749 - val_AUC: 0.9061 - val_loss: 0.2649\n",
      "Epoch 17/20\n",
      "\u001b[1m8192/8192\u001b[0m \u001b[32m━━━━━━━━━━━━━━━━━━━━\u001b[0m\u001b[37m\u001b[0m \u001b[1m16s\u001b[0m 2ms/step - AUC: 0.8919 - loss: 0.2763 - val_AUC: 0.9060 - val_loss: 0.2679\n",
      "Epoch 18/20\n",
      "\u001b[1m8192/8192\u001b[0m \u001b[32m━━━━━━━━━━━━━━━━━━━━\u001b[0m\u001b[37m\u001b[0m \u001b[1m18s\u001b[0m 2ms/step - AUC: 0.8941 - loss: 0.2734 - val_AUC: 0.9063 - val_loss: 0.2712\n",
      "Epoch 19/20\n",
      "\u001b[1m8192/8192\u001b[0m \u001b[32m━━━━━━━━━━━━━━━━━━━━\u001b[0m\u001b[37m\u001b[0m \u001b[1m15s\u001b[0m 2ms/step - AUC: 0.8933 - loss: 0.2745 - val_AUC: 0.9054 - val_loss: 0.3698\n",
      "Epoch 20/20\n",
      "\u001b[1m8192/8192\u001b[0m \u001b[32m━━━━━━━━━━━━━━━━━━━━\u001b[0m\u001b[37m\u001b[0m \u001b[1m17s\u001b[0m 2ms/step - AUC: 0.8924 - loss: 0.2753 - val_AUC: 0.9053 - val_loss: 0.3849\n"
     ]
    }
   ],
   "source": [
    "num_columns = X_train.shape[1]\n",
    "num_labels = 1\n",
    "hidden_units = [150, 150, 150]\n",
    "dropout_rates = [0.1, 0, 0.1, 0]\n",
    "learning_rate = 1e-3\n",
    "\n",
    "\n",
    "model = nn_model(\n",
    "    num_columns=num_columns, \n",
    "    num_labels=num_labels,\n",
    "    hidden_units=hidden_units,\n",
    "    dropout_rates=dropout_rates,\n",
    "    learning_rate=learning_rate\n",
    ")\n",
    "r = model.fit(\n",
    "    X_train, y_train,\n",
    "    validation_data=(X_test, y_test),\n",
    "    epochs=20,\n",
    "    batch_size=32\n",
    ")"
   ]
  },
  {
   "cell_type": "code",
   "execution_count": 116,
   "metadata": {},
   "outputs": [
    {
     "data": {
      "image/png": "[encoded data removed]",
      "text/plain": [
       "<Figure size 1200x800 with 2 Axes>"
      ]
     },
     "metadata": {},
     "output_type": "display_data"
    }
   ],
   "source": [
    "plot_learning_evolution(r)"
   ]
  },
  {
   "cell_type": "code",
   "execution_count": 117,
   "metadata": {},
   "outputs": [
    {
     "name": "stdout",
     "output_type": "stream",
     "text": [
      "\u001b[1m8192/8192\u001b[0m \u001b[32m━━━━━━━━━━━━━━━━━━━━\u001b[0m\u001b[37m\u001b[0m \u001b[1m6s\u001b[0m 674us/step\n",
      "Train Result:\n",
      "================================================\n",
      "Accuracy Score: 88.87%\n",
      "_______________________________________________\n",
      "CLASSIFICATION REPORT:\n",
      "               0.0       1.0  accuracy  macro avg  weighted avg\n",
      "precision     0.93      0.88      0.89       0.91          0.89\n",
      "recall        0.47      0.99      0.89       0.73          0.89\n",
      "f1-score      0.63      0.93      0.89       0.78          0.87\n",
      "support   51665.00 210478.00      0.89  262143.00     262143.00\n",
      "_______________________________________________\n",
      "Confusion Matrix: \n",
      " [[ 24373  27292]\n",
      " [  1881 208597]]\n",
      "\n"
     ]
    }
   ],
   "source": [
    "y_train_pred = model.predict(X_train)\n",
    "evaluate_nn(y_train, y_train_pred.round(), train=True)\n",
    "\n",
    "\n",
    "# True Positives (TP): 209,197 - The model correctly predicted the positive class (e.g., \"Charged Off\").\n",
    "# True Negatives (TN): 23,680 - The model correctly predicted the negative class (e.g., \"Fully Paid\").\n",
    "# False Positives (FP): 27,985 - The model incorrectly predicted the positive class.\n",
    "# False Negatives (FN): 1,281 - The model incorrectly predicted the negative class.\n"
   ]
  },
  {
   "cell_type": "code",
   "execution_count": 118,
   "metadata": {},
   "outputs": [
    {
     "name": "stdout",
     "output_type": "stream",
     "text": [
      "\u001b[1m4076/4076\u001b[0m \u001b[32m━━━━━━━━━━━━━━━━━━━━\u001b[0m\u001b[37m\u001b[0m \u001b[1m3s\u001b[0m 679us/step\n",
      "Test Result:\n",
      "================================================\n",
      "Accuracy Score: 88.88%\n",
      "_______________________________________________\n",
      "CLASSIFICATION REPORT:\n",
      "               0.0       1.0  accuracy  macro avg  weighted avg\n",
      "precision     0.92      0.89      0.89       0.90          0.89\n",
      "recall        0.47      0.99      0.89       0.73          0.89\n",
      "f1-score      0.62      0.93      0.89       0.78          0.87\n",
      "support   25480.00 104943.00      0.89  130423.00     130423.00\n",
      "_______________________________________________\n",
      "Confusion Matrix: \n",
      " [[ 12003  13477]\n",
      " [  1021 103922]]\n",
      "\n"
     ]
    }
   ],
   "source": [
    "y_test_pred = model.predict(X_test)\n",
    "evaluate_nn(y_test, y_test_pred.round(), train=False)\n",
    "\n",
    "\n",
    "# Overall Accuracy: At around 89.3%, this suggests the model generally performs well across both classes."
   ]
  },
  {
   "cell_type": "code",
   "execution_count": 119,
   "metadata": {},
   "outputs": [
    {
     "name": "stdout",
     "output_type": "stream",
     "text": [
      "\u001b[1m8192/8192\u001b[0m \u001b[32m━━━━━━━━━━━━━━━━━━━━\u001b[0m\u001b[37m\u001b[0m \u001b[1m6s\u001b[0m 706us/step\n",
      "\u001b[1m4076/4076\u001b[0m \u001b[32m━━━━━━━━━━━━━━━━━━━━\u001b[0m\u001b[37m\u001b[0m \u001b[1m3s\u001b[0m 669us/step\n"
     ]
    }
   ],
   "source": [
    "scores_dict = {\n",
    "    'ANNs': {\n",
    "        'Train': roc_auc_score(y_train, model.predict(X_train)),\n",
    "        'Test': roc_auc_score(y_test, model.predict(X_test)),\n",
    "    },\n",
    "}"
   ]
  },
  {
   "cell_type": "code",
   "execution_count": null,
   "metadata": {},
   "outputs": [],
   "source": [
    "# In neural networks, especially in deep and complex models like ANNs, interpreting feature importance isn't as straightforward as it is with models like decision trees or random forests. "
   ]
  },
  {
   "cell_type": "code",
   "execution_count": null,
   "metadata": {},
   "outputs": [],
   "source": [
    "# RandomForest"
   ]
  },
  {
   "cell_type": "code",
   "execution_count": 121,
   "metadata": {},
   "outputs": [
    {
     "name": "stdout",
     "output_type": "stream",
     "text": [
      "Fitting 3 folds for each of 30 candidates, totalling 90 fits\n",
      "Best Parameters: {'max_depth': 35, 'min_samples_leaf': 2, 'min_samples_split': 4, 'n_estimators': 414}\n",
      "Train Result:\n",
      "================================================\n",
      "Accuracy Score: 94.43%\n",
      "_______________________________________________\n",
      "CLASSIFICATION REPORT:\n",
      "               0.0       1.0  accuracy  macro avg  weighted avg\n",
      "precision     1.00      0.94      0.94       0.97          0.95\n",
      "recall        0.72      1.00      0.94       0.86          0.94\n",
      "f1-score      0.84      0.97      0.94       0.90          0.94\n",
      "support   51665.00 210478.00      0.94  262143.00     262143.00\n",
      "_______________________________________________\n",
      "Confusion Matrix: \n",
      " [[ 37075  14590]\n",
      " [     0 210478]]\n",
      "\n",
      "Test Result:\n",
      "================================================\n",
      "Accuracy Score: 88.93%\n",
      "_______________________________________________\n",
      "CLASSIFICATION REPORT:\n",
      "               0.0       1.0  accuracy  macro avg  weighted avg\n",
      "precision     0.97      0.88      0.89       0.93          0.90\n",
      "recall        0.45      1.00      0.89       0.72          0.89\n",
      "f1-score      0.61      0.94      0.89       0.77          0.87\n",
      "support   25480.00 104943.00      0.89  130423.00     130423.00\n",
      "_______________________________________________\n",
      "Confusion Matrix: \n",
      " [[ 11341  14139]\n",
      " [   298 104645]]\n",
      "\n"
     ]
    }
   ],
   "source": [
    "param_grid = dict(\n",
    "    n_estimators=stats.randint(100, 500),\n",
    "    max_depth=stats.randint(10, 50),\n",
    "    min_samples_split=stats.randint(2, 5),\n",
    "    min_samples_leaf=stats.randint(1, 4),\n",
    ")\n",
    "\n",
    "rf_clf = RandomForestClassifier(n_estimators=100)\n",
    "rf_cv = RandomizedSearchCV(\n",
    "    rf_clf, param_grid, cv=3, n_iter=30, \n",
    "    scoring='roc_auc', n_jobs=-1, verbose=1\n",
    ")\n",
    "rf_cv.fit(X_train, y_train)\n",
    "best_params = rf_cv.best_params_\n",
    "print(f\"Best Parameters: {best_params}\")\n",
    "rf_clf = RandomForestClassifier(**best_params)\n",
    "rf_clf.fit(X_train, y_train)\n",
    "\n",
    "y_train_pred = rf_clf.predict(X_train)\n",
    "y_test_pred = rf_clf.predict(X_test)\n",
    "\n",
    "print_score(y_train, y_train_pred, train=True)\n",
    "print_score(y_test, y_test_pred, train=False)"
   ]
  },
  {
   "cell_type": "code",
   "execution_count": 183,
   "metadata": {},
   "outputs": [
    {
     "name": "stdout",
     "output_type": "stream",
     "text": [
      "Best Parameters: {'max_depth': 35, 'min_samples_leaf': 2, 'min_samples_split': 4, 'n_estimators': 414}\n",
      "Train Result:\n",
      "================================================\n",
      "Accuracy Score: 94.36%\n",
      "ROC-AUC Score: 0.8570\n",
      "Classification Report:\n",
      "               precision    recall  f1-score   support\n",
      "\n",
      "           0       1.00      0.71      0.83     51665\n",
      "           1       0.93      1.00      0.97    210478\n",
      "\n",
      "    accuracy                           0.94    262143\n",
      "   macro avg       0.97      0.86      0.90    262143\n",
      "weighted avg       0.95      0.94      0.94    262143\n",
      "\n",
      "Confusion Matrix: \n",
      " [[ 36886  14779]\n",
      " [     0 210478]] \n",
      "\n",
      "Test Result:\n",
      "================================================\n",
      "Accuracy Score: 88.92%\n",
      "ROC-AUC Score: 0.7210\n",
      "Classification Report:\n",
      "               precision    recall  f1-score   support\n",
      "\n",
      "           0       0.97      0.44      0.61     25480\n",
      "           1       0.88      1.00      0.94    104943\n",
      "\n",
      "    accuracy                           0.89    130423\n",
      "   macro avg       0.93      0.72      0.77    130423\n",
      "weighted avg       0.90      0.89      0.87    130423\n",
      "\n",
      "Confusion Matrix: \n",
      " [[ 11337  14143]\n",
      " [   303 104640]] \n",
      "\n"
     ]
    },
    {
     "data": {
      "image/png": "[encoded data removed]",
      "text/plain": [
       "<Figure size 640x480 with 2 Axes>"
      ]
     },
     "metadata": {},
     "output_type": "display_data"
    },
    {
     "data": {
      "image/png": "[encoded data removed]",
      "text/plain": [
       "<Figure size 640x480 with 1 Axes>"
      ]
     },
     "metadata": {},
     "output_type": "display_data"
    }
   ],
   "source": [
    "import pandas as pd\n",
    "from sklearn.ensemble import RandomForestClassifier\n",
    "from sklearn.model_selection import train_test_split, RandomizedSearchCV\n",
    "from sklearn.metrics import roc_auc_score, classification_report, confusion_matrix\n",
    "from sklearn.metrics import ConfusionMatrixDisplay, RocCurveDisplay\n",
    "\n",
    "# Assuming 'X_train', 'X_test', 'y_train', 'y_test' are already defined\n",
    "# and your Random Forest model is named 'rf_clf' and fitted\n",
    "\n",
    "# Best Parameters from RandomizedSearchCV\n",
    "best_params = rf_cv.best_params_\n",
    "print(f\"Best Parameters: {best_params}\")\n",
    "\n",
    "# Create and fit the classifier with best parameters\n",
    "rf_clf = RandomForestClassifier(**best_params)\n",
    "rf_clf.fit(X_train, y_train)\n",
    "\n",
    "# Predicting on the training and test set\n",
    "y_train_pred = rf_clf.predict(X_train)\n",
    "y_test_pred = rf_clf.predict(X_test)\n",
    "\n",
    "# Printing the score\n",
    "def print_score(true, pred, train=True):\n",
    "    if train:\n",
    "        print(\"Train Result:\\n================================================\")\n",
    "    else:\n",
    "        print(\"Test Result:\\n================================================\")\n",
    "    print(f\"Accuracy Score: {accuracy_score(true, pred) * 100:.2f}%\")\n",
    "    print(f\"ROC-AUC Score: {roc_auc_score(true, pred):.4f}\")\n",
    "    print(\"Classification Report:\\n\", classification_report(true, pred))\n",
    "    print(\"Confusion Matrix: \\n\", confusion_matrix(true, pred), \"\\n\")\n",
    "\n",
    "print_score(y_train, y_train_pred, train=True)\n",
    "print_score(y_test, y_test_pred, train=False)\n",
    "\n",
    "# Displaying the confusion matrix\n",
    "disp = ConfusionMatrixDisplay.from_estimator(rf_clf, X_test, y_test, cmap='Blues', values_format='d', display_labels=['Default', 'Fully-Paid'])\n",
    "plt.title('Confusion Matrix for Random Forest')\n",
    "plt.show()\n",
    "\n",
    "# Display ROC Curve\n",
    "disp = RocCurveDisplay.from_estimator(rf_clf, X_test, y_test)\n",
    "plt.title('ROC Curve for Random Forest')\n",
    "plt.show()\n"
   ]
  },
  {
   "cell_type": "code",
   "execution_count": 184,
   "metadata": {},
   "outputs": [],
   "source": [
    "column_names = ['loan_amnt', 'term', 'int_rate', 'installment', 'annual_inc',\n",
    "                'loan_status', 'dti', 'open_acc', 'pub_rec', 'revol_bal', 'revol_util',\n",
    "                'total_acc', 'mort_acc', 'pub_rec_bankruptcies', 'sub_grade_A2',\n",
    "                'sub_grade_A3', 'sub_grade_A4', 'sub_grade_A5', 'sub_grade_B1',\n",
    "                'sub_grade_B2', 'sub_grade_B3', 'sub_grade_B4', 'sub_grade_B5',\n",
    "                'sub_grade_C1', 'sub_grade_C2', 'sub_grade_C3', 'sub_grade_C4',\n",
    "                'sub_grade_C5', 'sub_grade_D1', 'sub_grade_D2', 'sub_grade_D3',\n",
    "                'sub_grade_D4', 'sub_grade_D5', 'sub_grade_E1', 'sub_grade_E2',\n",
    "                'sub_grade_E3', 'sub_grade_E4', 'sub_grade_E5', 'sub_grade_F1',\n",
    "                'sub_grade_F2', 'sub_grade_F3', 'sub_grade_F4', 'sub_grade_F5',\n",
    "                'sub_grade_G1', 'sub_grade_G2', 'sub_grade_G3', 'sub_grade_G4',\n",
    "                'sub_grade_G5', 'verification_status_Source Verified',\n",
    "                'verification_status_Verified', 'purpose_credit_card',\n",
    "                'purpose_debt_consolidation', 'purpose_educational',\n",
    "                'purpose_home_improvement', 'purpose_house', 'purpose_major_purchase',\n",
    "                'purpose_medical', 'purpose_moving', 'purpose_other',\n",
    "                'purpose_renewable_energy', 'purpose_small_business',\n",
    "                'purpose_vacation', 'purpose_wedding', 'initial_list_status_w',\n",
    "                'application_type_INDIVIDUAL', 'application_type_JOINT',\n",
    "                'home_ownership_MORTGAGE', 'home_ownership_NONE',\n",
    "                'home_ownership_OTHER', 'home_ownership_OWN', 'home_ownership_RENT',\n",
    "                'zip_code_05113', 'zip_code_11650', 'zip_code_22690', 'zip_code_29597',\n",
    "                'zip_code_30723', 'zip_code_48052', 'zip_code_70466', 'zip_code_86630',\n",
    "                'zip_code_93700', 'earliest_cr_line_year']\n"
   ]
  },
  {
   "cell_type": "code",
   "execution_count": 186,
   "metadata": {},
   "outputs": [],
   "source": [
    "if 'loan_status' in column_names:\n",
    "    column_names.remove('loan_status')"
   ]
  },
  {
   "cell_type": "code",
   "execution_count": 187,
   "metadata": {},
   "outputs": [
    {
     "name": "stdout",
     "output_type": "stream",
     "text": [
      "   loan_amnt  term  int_rate  installment  annual_inc  dti  open_acc  pub_rec  \\\n",
      "0       0.13  0.00      0.34         0.12        0.15 0.49      0.28     0.00   \n",
      "1       0.36  0.00      0.09         0.30        0.47 0.11      0.18     0.00   \n",
      "2       0.04  0.00      0.21         0.04        0.19 0.13      0.05     0.00   \n",
      "3       0.52  1.00      0.40         0.32        0.90 0.20      0.21     0.01   \n",
      "4       0.36  0.00      0.34         0.33        0.27 0.37      0.13     0.00   \n",
      "\n",
      "   revol_bal  revol_util  total_acc  mort_acc  pub_rec_bankruptcies  \\\n",
      "0       0.03        0.41       0.51      0.06                  0.00   \n",
      "1       0.07        0.25       0.37      0.12                  0.00   \n",
      "2       0.03        0.63       0.41      0.08                  0.00   \n",
      "3       0.04        0.50       0.44      0.16                  0.12   \n",
      "4       0.05        0.76       0.13      0.00                  0.00   \n",
      "\n",
      "   sub_grade_A2  sub_grade_A3  sub_grade_A4  sub_grade_A5  sub_grade_B1  \\\n",
      "0          0.00          0.00          0.00          0.00          0.00   \n",
      "1          0.00          1.00          0.00          0.00          0.00   \n",
      "2          0.00          0.00          0.00          0.00          0.00   \n",
      "3          0.00          0.00          0.00          0.00          0.00   \n",
      "4          0.00          0.00          0.00          0.00          0.00   \n",
      "\n",
      "   sub_grade_B2  sub_grade_B3  sub_grade_B4  sub_grade_B5  sub_grade_C1  \\\n",
      "0          0.00          0.00          0.00          0.00          0.00   \n",
      "1          0.00          0.00          0.00          0.00          0.00   \n",
      "2          1.00          0.00          0.00          0.00          0.00   \n",
      "3          0.00          0.00          0.00          0.00          0.00   \n",
      "4          0.00          0.00          0.00          1.00          0.00   \n",
      "\n",
      "   sub_grade_C2  sub_grade_C3  ...  purpose_medical  purpose_moving  \\\n",
      "0          0.00          0.00  ...             0.00            0.00   \n",
      "1          0.00          0.00  ...             0.00            0.00   \n",
      "2          0.00          0.00  ...             0.00            0.00   \n",
      "3          0.00          0.00  ...             0.00            0.00   \n",
      "4          0.00          0.00  ...             0.00            0.00   \n",
      "\n",
      "   purpose_other  purpose_renewable_energy  purpose_small_business  \\\n",
      "0           0.00                      0.00                    0.00   \n",
      "1           0.00                      0.00                    0.00   \n",
      "2           0.00                      0.00                    0.00   \n",
      "3           0.00                      0.00                    0.00   \n",
      "4           0.00                      0.00                    0.00   \n",
      "\n",
      "   purpose_vacation  purpose_wedding  initial_list_status_w  \\\n",
      "0              0.00             0.00                   1.00   \n",
      "1              0.00             0.00                   0.00   \n",
      "2              0.00             0.00                   0.00   \n",
      "3              0.00             0.00                   0.00   \n",
      "4              0.00             0.00                   0.00   \n",
      "\n",
      "   application_type_INDIVIDUAL  application_type_JOINT  \\\n",
      "0                         1.00                    0.00   \n",
      "1                         1.00                    0.00   \n",
      "2                         1.00                    0.00   \n",
      "3                         1.00                    0.00   \n",
      "4                         1.00                    0.00   \n",
      "\n",
      "   home_ownership_MORTGAGE  home_ownership_NONE  home_ownership_OTHER  \\\n",
      "0                     0.00                 0.00                  0.00   \n",
      "1                     1.00                 0.00                  0.00   \n",
      "2                     0.00                 0.00                  0.00   \n",
      "3                     1.00                 0.00                  0.00   \n",
      "4                     0.00                 0.00                  0.00   \n",
      "\n",
      "   home_ownership_OWN  home_ownership_RENT  zip_code_05113  zip_code_11650  \\\n",
      "0                0.00                 1.00            0.00            0.00   \n",
      "1                0.00                 0.00            0.00            0.00   \n",
      "2                0.00                 1.00            0.00            0.00   \n",
      "3                0.00                 0.00            1.00            0.00   \n",
      "4                0.00                 1.00            1.00            0.00   \n",
      "\n",
      "   zip_code_22690  zip_code_29597  zip_code_30723  zip_code_48052  \\\n",
      "0            0.00            0.00            0.00            0.00   \n",
      "1            0.00            0.00            0.00            0.00   \n",
      "2            0.00            0.00            1.00            0.00   \n",
      "3            0.00            0.00            0.00            0.00   \n",
      "4            0.00            0.00            0.00            0.00   \n",
      "\n",
      "   zip_code_70466  zip_code_86630  zip_code_93700  earliest_cr_line_year  \n",
      "0            1.00            0.00            0.00                   0.58  \n",
      "1            0.00            0.00            0.00                   0.63  \n",
      "2            0.00            0.00            0.00                   0.80  \n",
      "3            0.00            0.00            0.00                   0.58  \n",
      "4            0.00            0.00            0.00                   0.75  \n",
      "\n",
      "[5 rows x 80 columns]\n"
     ]
    }
   ],
   "source": [
    "\n",
    "# Assuming X_train is your NumPy array\n",
    "X_train_df = pd.DataFrame(X_train, columns=column_names)\n",
    "print(X_train_df.head())"
   ]
  },
  {
   "cell_type": "code",
   "execution_count": 189,
   "metadata": {},
   "outputs": [
    {
     "name": "stdout",
     "output_type": "stream",
     "text": [
      "Top 10 Most Important Features:\n",
      "           Feature  Importance\n",
      "78  zip_code_93700        0.13\n",
      "71  zip_code_11650        0.13\n",
      "77  zip_code_86630        0.13\n",
      "2         int_rate        0.06\n",
      "5              dti        0.05\n",
      "9       revol_util        0.04\n",
      "4       annual_inc        0.04\n",
      "8        revol_bal        0.04\n",
      "3      installment        0.04\n",
      "0        loan_amnt        0.03\n"
     ]
    }
   ],
   "source": [
    "# Get feature importances from the RandomForest model\n",
    "feature_importances = rf_clf.feature_importances_\n",
    "\n",
    "# Creating a DataFrame to view the features and their importance scores\n",
    "features_df = pd.DataFrame({\n",
    "    'Feature': X_train_df.columns,\n",
    "    'Importance': feature_importances\n",
    "}).sort_values(by='Importance', ascending=False)\n",
    "\n",
    "# Display the top 10 most important features\n",
    "print(\"Top 10 Most Important Features:\")\n",
    "print(features_df.head(10))"
   ]
  },
  {
   "cell_type": "code",
   "execution_count": 190,
   "metadata": {},
   "outputs": [
    {
     "name": "stdout",
     "output_type": "stream",
     "text": [
      "RANDOM FOREST                  roc_auc_score: 0.721\n",
      "\u001b[1m4076/4076\u001b[0m \u001b[32m━━━━━━━━━━━━━━━━━━━━\u001b[0m\u001b[37m\u001b[0m \u001b[1m3s\u001b[0m 739us/step\n",
      "ANNS                           roc_auc_score: 0.905\n"
     ]
    }
   ],
   "source": [
    "ml_models = {\n",
    "    'Random Forest': rf_clf, \n",
    "    'ANNs': model\n",
    "}\n",
    "\n",
    "for model in ml_models:\n",
    "    print(f\"{model.upper():{30}} roc_auc_score: {roc_auc_score(y_test, ml_models[model].predict(X_test)):.3f}\")"
   ]
  },
  {
   "cell_type": "code",
   "execution_count": null,
   "metadata": {},
   "outputs": [],
   "source": []
  }
 ],
 "metadata": {
  "kernelspec": {
   "display_name": "Python 3",
   "language": "python",
   "name": "python3"
  },
  "language_info": {
   "codemirror_mode": {
    "name": "ipython",
    "version": 3
   },
   "file_extension": ".py",
   "mimetype": "text/x-python",
   "name": "python",
   "nbconvert_exporter": "python",
   "pygments_lexer": "ipython3",
   "version": "3.12.3"
  }
 },
 "nbformat": 4,
 "nbformat_minor": 2
}
